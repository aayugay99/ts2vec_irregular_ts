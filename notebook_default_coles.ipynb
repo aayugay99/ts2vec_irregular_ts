{
 "cells": [
  {
   "cell_type": "code",
   "execution_count": 1,
   "metadata": {},
   "outputs": [],
   "source": [
    "import os \n",
    "\n",
    "os.chdir(\"app/\")"
   ]
  },
  {
   "cell_type": "code",
   "execution_count": 2,
   "metadata": {},
   "outputs": [],
   "source": [
    "from functools import partial\n",
    "\n",
    "import matplotlib.pyplot as plt\n",
    "import pandas as pd\n",
    "import numpy as np\n",
    "\n",
    "from sklearn.model_selection import train_test_split\n",
    "\n",
    "import torch.nn as nn\n",
    "import torch\n",
    "\n",
    "from pytorch_lightning.callbacks import ModelCheckpoint, EarlyStopping\n",
    "from pytorch_lightning.trainer import Trainer\n",
    "\n",
    "from ptls.data_load.iterable_processing import SeqLenFilter\n",
    "from ptls.data_load.datasets import MemoryMapDataset\n",
    "from ptls.preprocessing import PandasDataPreprocessor\n",
    "\n",
    "from ptls.nn import TrxEncoder\n",
    "from ptls.nn.seq_encoder import RnnSeqEncoder\n",
    "\n",
    "from ptls.frames import PtlsDataModule\n",
    "from ptls.frames.coles.coles_module import CoLESModule\n",
    "from ptls.frames.coles import ColesDataset\n",
    "from ptls.frames.coles.split_strategy import SampleSlices, NoSplit\n",
    "\n",
    "from utils.encode import encode_data\n",
    "from utils.evaluation import bootstrap_eval"
   ]
  },
  {
   "attachments": {},
   "cell_type": "markdown",
   "metadata": {},
   "source": [
    "## Load data"
   ]
  },
  {
   "cell_type": "code",
   "execution_count": 3,
   "metadata": {},
   "outputs": [
    {
     "data": {
      "text/html": [
       "<div>\n",
       "<style scoped>\n",
       "    .dataframe tbody tr th:only-of-type {\n",
       "        vertical-align: middle;\n",
       "    }\n",
       "\n",
       "    .dataframe tbody tr th {\n",
       "        vertical-align: top;\n",
       "    }\n",
       "\n",
       "    .dataframe thead th {\n",
       "        text-align: right;\n",
       "    }\n",
       "</style>\n",
       "<table border=\"1\" class=\"dataframe\">\n",
       "  <thead>\n",
       "    <tr style=\"text-align: right;\">\n",
       "      <th></th>\n",
       "      <th>user_id</th>\n",
       "      <th>mcc_code</th>\n",
       "      <th>amount</th>\n",
       "      <th>timestamp</th>\n",
       "      <th>holiday_target</th>\n",
       "      <th>weekend_target</th>\n",
       "      <th>global_target</th>\n",
       "      <th>default_target</th>\n",
       "    </tr>\n",
       "  </thead>\n",
       "  <tbody>\n",
       "    <tr>\n",
       "      <th>0</th>\n",
       "      <td>69</td>\n",
       "      <td>5</td>\n",
       "      <td>-342.89792</td>\n",
       "      <td>2021-03-05 02:52:36</td>\n",
       "      <td>0</td>\n",
       "      <td>0</td>\n",
       "      <td>0</td>\n",
       "      <td>0</td>\n",
       "    </tr>\n",
       "    <tr>\n",
       "      <th>1</th>\n",
       "      <td>69</td>\n",
       "      <td>21</td>\n",
       "      <td>-1251.88120</td>\n",
       "      <td>2021-03-05 09:43:28</td>\n",
       "      <td>0</td>\n",
       "      <td>0</td>\n",
       "      <td>0</td>\n",
       "      <td>0</td>\n",
       "    </tr>\n",
       "    <tr>\n",
       "      <th>2</th>\n",
       "      <td>69</td>\n",
       "      <td>12</td>\n",
       "      <td>-87.30924</td>\n",
       "      <td>2021-03-05 11:17:23</td>\n",
       "      <td>0</td>\n",
       "      <td>0</td>\n",
       "      <td>0</td>\n",
       "      <td>0</td>\n",
       "    </tr>\n",
       "    <tr>\n",
       "      <th>3</th>\n",
       "      <td>69</td>\n",
       "      <td>6</td>\n",
       "      <td>-1822.17700</td>\n",
       "      <td>2021-03-05 13:41:03</td>\n",
       "      <td>0</td>\n",
       "      <td>0</td>\n",
       "      <td>0</td>\n",
       "      <td>0</td>\n",
       "    </tr>\n",
       "    <tr>\n",
       "      <th>4</th>\n",
       "      <td>69</td>\n",
       "      <td>18</td>\n",
       "      <td>-427.12363</td>\n",
       "      <td>2021-03-05 19:14:23</td>\n",
       "      <td>0</td>\n",
       "      <td>0</td>\n",
       "      <td>0</td>\n",
       "      <td>0</td>\n",
       "    </tr>\n",
       "  </tbody>\n",
       "</table>\n",
       "</div>"
      ],
      "text/plain": [
       "   user_id  mcc_code      amount           timestamp  holiday_target  \\\n",
       "0       69         5  -342.89792 2021-03-05 02:52:36               0   \n",
       "1       69        21 -1251.88120 2021-03-05 09:43:28               0   \n",
       "2       69        12   -87.30924 2021-03-05 11:17:23               0   \n",
       "3       69         6 -1822.17700 2021-03-05 13:41:03               0   \n",
       "4       69        18  -427.12363 2021-03-05 19:14:23               0   \n",
       "\n",
       "   weekend_target  global_target  default_target  \n",
       "0               0              0               0  \n",
       "1               0              0               0  \n",
       "2               0              0               0  \n",
       "3               0              0               0  \n",
       "4               0              0               0  "
      ]
     },
     "execution_count": 3,
     "metadata": {},
     "output_type": "execute_result"
    }
   ],
   "source": [
    "df = pd.read_parquet(\"data/preprocessed_new/default.parquet\")\n",
    "df.head()"
   ]
  },
  {
   "attachments": {},
   "cell_type": "markdown",
   "metadata": {},
   "source": [
    "## Prepare dataset and dataloaders"
   ]
  },
  {
   "cell_type": "code",
   "execution_count": 4,
   "metadata": {},
   "outputs": [],
   "source": [
    "preprocessor = PandasDataPreprocessor(\n",
    "    col_id=\"user_id\",\n",
    "    col_event_time=\"timestamp\",\n",
    "    event_time_transformation=\"dt_to_timestamp\",\n",
    "    cols_category=[\"mcc_code\"],\n",
    "    cols_first_item=[\"global_target\"]\n",
    ")"
   ]
  },
  {
   "cell_type": "code",
   "execution_count": 5,
   "metadata": {},
   "outputs": [],
   "source": [
    "data = preprocessor.fit_transform(df)"
   ]
  },
  {
   "cell_type": "code",
   "execution_count": 15,
   "metadata": {},
   "outputs": [],
   "source": [
    "y = [data[i][\"global_target\"] for i in range(len(data))] "
   ]
  },
  {
   "cell_type": "code",
   "execution_count": 23,
   "metadata": {},
   "outputs": [],
   "source": [
    "val_size = 0.1\n",
    "test_size = 0.1\n",
    "\n",
    "train, val_test, y_train, y_val_test = train_test_split(data, y, stratify=y, test_size=test_size+val_size, random_state=42)\n",
    "val, test, y_val, y_test = train_test_split(val_test, y_val_test, stratify=y_val_test, test_size=test_size/(test_size+val_size), random_state=42)"
   ]
  },
  {
   "cell_type": "code",
   "execution_count": 24,
   "metadata": {},
   "outputs": [],
   "source": [
    "train_ds = ColesDataset(\n",
    "    data=MemoryMapDataset(train, [SeqLenFilter(min_seq_len=15)]),\n",
    "    splitter=SampleSlices(5, 15, 150),\n",
    ")\n",
    "val_ds = ColesDataset(\n",
    "    data=MemoryMapDataset(val, [SeqLenFilter(min_seq_len=15)]),\n",
    "    splitter=SampleSlices(5, 15, 150),\n",
    ")\n",
    "test_ds = MemoryMapDataset(test, [SeqLenFilter(min_seq_len=15)])"
   ]
  },
  {
   "cell_type": "code",
   "execution_count": 25,
   "metadata": {},
   "outputs": [],
   "source": [
    "datamodule = PtlsDataModule(\n",
    "    train_data=train_ds,\n",
    "    valid_data=val_ds,\n",
    "    train_batch_size=128,\n",
    "    valid_batch_size=128,\n",
    "    train_num_workers=8,\n",
    "    valid_num_workers=8\n",
    ")"
   ]
  },
  {
   "attachments": {},
   "cell_type": "markdown",
   "metadata": {},
   "source": [
    "# CoLES"
   ]
  },
  {
   "cell_type": "markdown",
   "metadata": {},
   "source": [
    "## Model training"
   ]
  },
  {
   "cell_type": "code",
   "execution_count": 26,
   "metadata": {},
   "outputs": [],
   "source": [
    "trx_encoder = TrxEncoder(\n",
    "    embeddings={\n",
    "        \"mcc_code\": {\"in\": 345, \"out\": 24}\n",
    "    },\n",
    "    numeric_values={\n",
    "        \"amount\": \"identity\",\n",
    "    },\n",
    "    use_batch_norm_with_lens=True,\n",
    "    norm_embeddings=False,\n",
    "    embeddings_noise=0.0003\n",
    ")\n",
    "\n",
    "seq_encoder = RnnSeqEncoder(\n",
    "    trx_encoder,\n",
    "    hidden_size=1024,\n",
    "    type=\"lstm\",\n",
    "    bidir=False,\n",
    "    trainable_starter=\"static\",\n",
    ")"
   ]
  },
  {
   "cell_type": "code",
   "execution_count": 27,
   "metadata": {},
   "outputs": [],
   "source": [
    "lr_scheduler_partial = partial(torch.optim.lr_scheduler.ReduceLROnPlateau, factor=.9025, patience=5, mode=\"max\")\n",
    "optimizer_partial = partial(torch.optim.Adam, lr=4e-3)\n",
    "\n",
    "model = CoLESModule(\n",
    "    seq_encoder,\n",
    "    optimizer_partial=optimizer_partial,\n",
    "    lr_scheduler_partial=lr_scheduler_partial\n",
    ")"
   ]
  },
  {
   "cell_type": "code",
   "execution_count": 28,
   "metadata": {},
   "outputs": [
    {
     "name": "stderr",
     "output_type": "stream",
     "text": [
      "GPU available: True, used: True\n",
      "TPU available: False, using: 0 TPU cores\n",
      "IPU available: False, using: 0 IPUs\n",
      "HPU available: False, using: 0 HPUs\n",
      "LOCAL_RANK: 0 - CUDA_VISIBLE_DEVICES: [0,1,2,3]\n",
      "\n",
      "  | Name               | Type            | Params\n",
      "-------------------------------------------------------\n",
      "0 | _loss              | ContrastiveLoss | 0     \n",
      "1 | _seq_encoder       | RnnSeqEncoder   | 4.3 M \n",
      "2 | _validation_metric | BatchRecallTopK | 0     \n",
      "3 | _head              | Head            | 0     \n",
      "-------------------------------------------------------\n",
      "4.3 M     Trainable params\n",
      "0         Non-trainable params\n",
      "4.3 M     Total params\n",
      "17.257    Total estimated model params size (MB)\n"
     ]
    },
    {
     "data": {
      "application/vnd.jupyter.widget-view+json": {
       "model_id": "40532c163cc142b2ab459f20547d64fa",
       "version_major": 2,
       "version_minor": 0
      },
      "text/plain": [
       "Sanity Checking: 0it [00:00, ?it/s]"
      ]
     },
     "metadata": {},
     "output_type": "display_data"
    },
    {
     "name": "stderr",
     "output_type": "stream",
     "text": [
      "/home/macro-micro-coles/miniconda/envs/env/lib/python3.9/site-packages/pytorch_lightning/trainer/trainer.py:1933: PossibleUserWarning: The number of training batches (45) is smaller than the logging interval Trainer(log_every_n_steps=50). Set a lower value for log_every_n_steps if you want to see logs for the training epoch.\n",
      "  rank_zero_warn(\n"
     ]
    },
    {
     "data": {
      "application/vnd.jupyter.widget-view+json": {
       "model_id": "ff1cb227d89940eb959f69978c419963",
       "version_major": 2,
       "version_minor": 0
      },
      "text/plain": [
       "Training: 0it [00:00, ?it/s]"
      ]
     },
     "metadata": {},
     "output_type": "display_data"
    },
    {
     "data": {
      "application/vnd.jupyter.widget-view+json": {
       "model_id": "902de0949aba4e34bfc04ff3d07c3c5a",
       "version_major": 2,
       "version_minor": 0
      },
      "text/plain": [
       "Validation: 0it [00:00, ?it/s]"
      ]
     },
     "metadata": {},
     "output_type": "display_data"
    },
    {
     "data": {
      "application/vnd.jupyter.widget-view+json": {
       "model_id": "a038fe83971d4e569ae02e8d20ff2b16",
       "version_major": 2,
       "version_minor": 0
      },
      "text/plain": [
       "Validation: 0it [00:00, ?it/s]"
      ]
     },
     "metadata": {},
     "output_type": "display_data"
    },
    {
     "data": {
      "application/vnd.jupyter.widget-view+json": {
       "model_id": "554cb6b0814740b793c886833ff0a7cc",
       "version_major": 2,
       "version_minor": 0
      },
      "text/plain": [
       "Validation: 0it [00:00, ?it/s]"
      ]
     },
     "metadata": {},
     "output_type": "display_data"
    },
    {
     "data": {
      "application/vnd.jupyter.widget-view+json": {
       "model_id": "fbacc9f18ada4eed9c127fda9613e3a6",
       "version_major": 2,
       "version_minor": 0
      },
      "text/plain": [
       "Validation: 0it [00:00, ?it/s]"
      ]
     },
     "metadata": {},
     "output_type": "display_data"
    },
    {
     "data": {
      "application/vnd.jupyter.widget-view+json": {
       "model_id": "679e4b8e7bff4171bbb2ea8dc480df41",
       "version_major": 2,
       "version_minor": 0
      },
      "text/plain": [
       "Validation: 0it [00:00, ?it/s]"
      ]
     },
     "metadata": {},
     "output_type": "display_data"
    },
    {
     "data": {
      "application/vnd.jupyter.widget-view+json": {
       "model_id": "3fd4d7a00605481a89aabbb3e6e98da2",
       "version_major": 2,
       "version_minor": 0
      },
      "text/plain": [
       "Validation: 0it [00:00, ?it/s]"
      ]
     },
     "metadata": {},
     "output_type": "display_data"
    },
    {
     "data": {
      "application/vnd.jupyter.widget-view+json": {
       "model_id": "71c79e4299144ff28f80229914678dd5",
       "version_major": 2,
       "version_minor": 0
      },
      "text/plain": [
       "Validation: 0it [00:00, ?it/s]"
      ]
     },
     "metadata": {},
     "output_type": "display_data"
    },
    {
     "name": "stderr",
     "output_type": "stream",
     "text": [
      "Exception ignored in: <function _MultiProcessingDataLoaderIter.__del__ at 0x7fd1ef8101f0>\n",
      "Traceback (most recent call last):\n",
      "  File \"/home/macro-micro-coles/miniconda/envs/env/lib/python3.9/site-packages/torch/utils/data/dataloader.py\", line 1478, in __del__\n",
      "    self._shutdown_workers()\n",
      "  File \"/home/macro-micro-coles/miniconda/envs/env/lib/python3.9/site-packages/torch/utils/data/dataloader.py\", line 1461, in _shutdown_workers\n",
      "    if w.is_alive():\n",
      "  File \"/home/macro-micro-coles/miniconda/envs/env/lib/python3.9/multiprocessing/process.py\", line 160, in is_alive\n",
      "    assert self._parent_pid == os.getpid(), 'can only test a child process'\n",
      "AssertionError: can only test a child process\n",
      "Exception ignored in: <function _MultiProcessingDataLoaderIter.__del__ at 0x7fd1ef8101f0>\n",
      "Traceback (most recent call last):\n",
      "  File \"/home/macro-micro-coles/miniconda/envs/env/lib/python3.9/site-packages/torch/utils/data/dataloader.py\", line 1478, in __del__\n",
      "    self._shutdown_workers()\n",
      "  File \"/home/macro-micro-coles/miniconda/envs/env/lib/python3.9/site-packages/torch/utils/data/dataloader.py\", line 1461, in _shutdown_workers\n",
      "    if w.is_alive():\n",
      "  File \"/home/macro-micro-coles/miniconda/envs/env/lib/python3.9/multiprocessing/process.py\", line 160, in is_alive\n",
      "    assert self._parent_pid == os.getpid(), 'can only test a child process'\n",
      "AssertionError: can only test a child process\n",
      "Exception in thread Exception in thread QueueFeederThreadQueueFeederThread:\n",
      ":\n",
      "Traceback (most recent call last):\n",
      "Traceback (most recent call last):\n",
      "  File \"/home/macro-micro-coles/miniconda/envs/env/lib/python3.9/multiprocessing/queues.py\", line 239, in _feed\n",
      "  File \"/home/macro-micro-coles/miniconda/envs/env/lib/python3.9/multiprocessing/queues.py\", line 239, in _feed\n",
      "        reader_close()\n",
      "reader_close()\n",
      "  File \"/home/macro-micro-coles/miniconda/envs/env/lib/python3.9/multiprocessing/connection.py\", line 177, in close\n",
      "  File \"/home/macro-micro-coles/miniconda/envs/env/lib/python3.9/multiprocessing/connection.py\", line 177, in close\n",
      "    self._close()    self._close()\n",
      "\n",
      "  File \"/home/macro-micro-coles/miniconda/envs/env/lib/python3.9/multiprocessing/connection.py\", line 361, in _close\n",
      "  File \"/home/macro-micro-coles/miniconda/envs/env/lib/python3.9/multiprocessing/connection.py\", line 361, in _close\n",
      "        _close(self._handle)_close(self._handle)\n",
      "\n",
      "OSErrorOSError: : [Errno 9] Bad file descriptor[Errno 9] Bad file descriptor\n",
      "\n",
      "\n",
      "During handling of the above exception, another exception occurred:\n",
      "\n",
      "\n",
      "During handling of the above exception, another exception occurred:\n",
      "\n",
      "Traceback (most recent call last):\n",
      "Traceback (most recent call last):\n",
      "  File \"/home/macro-micro-coles/miniconda/envs/env/lib/python3.9/threading.py\", line 980, in _bootstrap_inner\n",
      "  File \"/home/macro-micro-coles/miniconda/envs/env/lib/python3.9/threading.py\", line 980, in _bootstrap_inner\n",
      "    self.run()    \n",
      "  File \"/home/macro-micro-coles/miniconda/envs/env/lib/python3.9/threading.py\", line 917, in run\n",
      "self.run()    \n",
      "self._target(*self._args, **self._kwargs)\n",
      "  File \"/home/macro-micro-coles/miniconda/envs/env/lib/python3.9/threading.py\", line 917, in run\n",
      "  File \"/home/macro-micro-coles/miniconda/envs/env/lib/python3.9/multiprocessing/queues.py\", line 271, in _feed\n",
      "    queue_sem.release()    \n",
      "self._target(*self._args, **self._kwargs)\n",
      "ValueError  File \"/home/macro-micro-coles/miniconda/envs/env/lib/python3.9/multiprocessing/queues.py\", line 271, in _feed\n",
      ": semaphore or lock released too many times\n",
      "    queue_sem.release()\n",
      "ValueError: semaphore or lock released too many times\n",
      "Exception ignored in: <function _MultiProcessingDataLoaderIter.__del__ at 0x7fd1ef8101f0>\n",
      "Traceback (most recent call last):\n",
      "  File \"/home/macro-micro-coles/miniconda/envs/env/lib/python3.9/site-packages/torch/utils/data/dataloader.py\", line 1478, in __del__\n",
      "    self._shutdown_workers()\n",
      "  File \"/home/macro-micro-coles/miniconda/envs/env/lib/python3.9/site-packages/torch/utils/data/dataloader.py\", line 1461, in _shutdown_workers\n",
      "    if w.is_alive():\n",
      "  File \"/home/macro-micro-coles/miniconda/envs/env/lib/python3.9/multiprocessing/process.py\", line 160, in is_alive\n",
      "    assert self._parent_pid == os.getpid(), 'can only test a child process'\n",
      "AssertionError: can only test a child process\n",
      "Exception ignored in: <function _MultiProcessingDataLoaderIter.__del__ at 0x7fd1ef8101f0>\n",
      "Traceback (most recent call last):\n",
      "  File \"/home/macro-micro-coles/miniconda/envs/env/lib/python3.9/site-packages/torch/utils/data/dataloader.py\", line 1478, in __del__\n",
      "    self._shutdown_workers()\n",
      "  File \"/home/macro-micro-coles/miniconda/envs/env/lib/python3.9/site-packages/torch/utils/data/dataloader.py\", line 1461, in _shutdown_workers\n",
      "    if w.is_alive():\n",
      "  File \"/home/macro-micro-coles/miniconda/envs/env/lib/python3.9/multiprocessing/process.py\", line 160, in is_alive\n",
      "    assert self._parent_pid == os.getpid(), 'can only test a child process'\n",
      "AssertionError: can only test a child process\n",
      "Traceback (most recent call last):\n",
      "  File \"/home/macro-micro-coles/miniconda/envs/env/lib/python3.9/multiprocessing/queues.py\", line 239, in _feed\n",
      "    reader_close()\n",
      "Traceback (most recent call last):\n",
      "  File \"/home/macro-micro-coles/miniconda/envs/env/lib/python3.9/multiprocessing/connection.py\", line 177, in close\n",
      "    self._close()\n",
      "  File \"/home/macro-micro-coles/miniconda/envs/env/lib/python3.9/multiprocessing/queues.py\", line 239, in _feed\n",
      "    reader_close()\n",
      "  File \"/home/macro-micro-coles/miniconda/envs/env/lib/python3.9/multiprocessing/connection.py\", line 361, in _close\n",
      "    _close(self._handle)\n",
      "  File \"/home/macro-micro-coles/miniconda/envs/env/lib/python3.9/multiprocessing/connection.py\", line 177, in close\n",
      "    self._close()\n",
      "OSError: [Errno 9] Bad file descriptor\n",
      "  File \"/home/macro-micro-coles/miniconda/envs/env/lib/python3.9/multiprocessing/connection.py\", line 361, in _close\n",
      "    _close(self._handle)\n",
      "OSError: [Errno 9] Bad file descriptor\n",
      "Exception ignored in: <function _MultiProcessingDataLoaderIter.__del__ at 0x7fd1ef8101f0>\n",
      "Traceback (most recent call last):\n",
      "  File \"/home/macro-micro-coles/miniconda/envs/env/lib/python3.9/site-packages/torch/utils/data/dataloader.py\", line 1478, in __del__\n",
      "    self._shutdown_workers()\n",
      "  File \"/home/macro-micro-coles/miniconda/envs/env/lib/python3.9/site-packages/torch/utils/data/dataloader.py\", line 1461, in _shutdown_workers\n",
      "    if w.is_alive():\n",
      "  File \"/home/macro-micro-coles/miniconda/envs/env/lib/python3.9/multiprocessing/process.py\", line 160, in is_alive\n",
      "    assert self._parent_pid == os.getpid(), 'can only test a child process'\n",
      "AssertionError: can only test a child process\n",
      "Exception ignored in: <function _MultiProcessingDataLoaderIter.__del__ at 0x7fd1ef8101f0>\n",
      "Traceback (most recent call last):\n",
      "  File \"/home/macro-micro-coles/miniconda/envs/env/lib/python3.9/site-packages/torch/utils/data/dataloader.py\", line 1478, in __del__\n",
      "    self._shutdown_workers()\n",
      "  File \"/home/macro-micro-coles/miniconda/envs/env/lib/python3.9/site-packages/torch/utils/data/dataloader.py\", line 1461, in _shutdown_workers\n",
      "    if w.is_alive():\n",
      "  File \"/home/macro-micro-coles/miniconda/envs/env/lib/python3.9/multiprocessing/process.py\", line 160, in is_alive\n",
      "    assert self._parent_pid == os.getpid(), 'can only test a child process'\n",
      "AssertionError: can only test a child process\n",
      "Traceback (most recent call last):\n",
      "  File \"/home/macro-micro-coles/miniconda/envs/env/lib/python3.9/multiprocessing/queues.py\", line 239, in _feed\n",
      "    reader_close()\n",
      "Traceback (most recent call last):\n",
      "  File \"/home/macro-micro-coles/miniconda/envs/env/lib/python3.9/multiprocessing/connection.py\", line 177, in close\n",
      "    self._close()\n",
      "  File \"/home/macro-micro-coles/miniconda/envs/env/lib/python3.9/multiprocessing/connection.py\", line 361, in _close\n",
      "    _close(self._handle)\n",
      "  File \"/home/macro-micro-coles/miniconda/envs/env/lib/python3.9/multiprocessing/queues.py\", line 239, in _feed\n",
      "    reader_close()\n",
      "  File \"/home/macro-micro-coles/miniconda/envs/env/lib/python3.9/multiprocessing/connection.py\", line 177, in close\n",
      "    self._close()\n",
      "OSError: [Errno 9] Bad file descriptor\n",
      "  File \"/home/macro-micro-coles/miniconda/envs/env/lib/python3.9/multiprocessing/connection.py\", line 361, in _close\n",
      "    _close(self._handle)\n",
      "OSError: [Errno 9] Bad file descriptor\n",
      "Exception ignored in: <function _MultiProcessingDataLoaderIter.__del__ at 0x7fd1ef8101f0>\n",
      "Traceback (most recent call last):\n",
      "  File \"/home/macro-micro-coles/miniconda/envs/env/lib/python3.9/site-packages/torch/utils/data/dataloader.py\", line 1478, in __del__\n",
      "    self._shutdown_workers()\n",
      "  File \"/home/macro-micro-coles/miniconda/envs/env/lib/python3.9/site-packages/torch/utils/data/dataloader.py\", line 1461, in _shutdown_workers\n",
      "    if w.is_alive():\n",
      "  File \"/home/macro-micro-coles/miniconda/envs/env/lib/python3.9/multiprocessing/process.py\", line 160, in is_alive\n",
      "    assert self._parent_pid == os.getpid(), 'can only test a child process'\n",
      "AssertionError: can only test a child process\n",
      "Exception ignored in: <function _MultiProcessingDataLoaderIter.__del__ at 0x7fd1ef8101f0>\n",
      "Traceback (most recent call last):\n",
      "  File \"/home/macro-micro-coles/miniconda/envs/env/lib/python3.9/site-packages/torch/utils/data/dataloader.py\", line 1478, in __del__\n",
      "    self._shutdown_workers()\n",
      "  File \"/home/macro-micro-coles/miniconda/envs/env/lib/python3.9/site-packages/torch/utils/data/dataloader.py\", line 1461, in _shutdown_workers\n",
      "    if w.is_alive():\n",
      "  File \"/home/macro-micro-coles/miniconda/envs/env/lib/python3.9/multiprocessing/process.py\", line 160, in is_alive\n",
      "    assert self._parent_pid == os.getpid(), 'can only test a child process'\n",
      "AssertionError: can only test a child process\n",
      "Traceback (most recent call last):\n",
      "Traceback (most recent call last):\n",
      "  File \"/home/macro-micro-coles/miniconda/envs/env/lib/python3.9/multiprocessing/queues.py\", line 239, in _feed\n",
      "    reader_close()\n",
      "  File \"/home/macro-micro-coles/miniconda/envs/env/lib/python3.9/multiprocessing/queues.py\", line 239, in _feed\n",
      "    reader_close()\n",
      "  File \"/home/macro-micro-coles/miniconda/envs/env/lib/python3.9/multiprocessing/connection.py\", line 177, in close\n",
      "    self._close()\n",
      "  File \"/home/macro-micro-coles/miniconda/envs/env/lib/python3.9/multiprocessing/connection.py\", line 177, in close\n",
      "    self._close()\n",
      "  File \"/home/macro-micro-coles/miniconda/envs/env/lib/python3.9/multiprocessing/connection.py\", line 361, in _close\n",
      "    _close(self._handle)\n",
      "  File \"/home/macro-micro-coles/miniconda/envs/env/lib/python3.9/multiprocessing/connection.py\", line 361, in _close\n",
      "    _close(self._handle)\n",
      "OSError: [Errno 9] Bad file descriptor\n",
      "OSError: [Errno 9] Bad file descriptor\n",
      "Exception ignored in: <function _MultiProcessingDataLoaderIter.__del__ at 0x7fd1ef8101f0>\n",
      "Traceback (most recent call last):\n",
      "  File \"/home/macro-micro-coles/miniconda/envs/env/lib/python3.9/site-packages/torch/utils/data/dataloader.py\", line 1478, in __del__\n",
      "    self._shutdown_workers()\n",
      "  File \"/home/macro-micro-coles/miniconda/envs/env/lib/python3.9/site-packages/torch/utils/data/dataloader.py\", line 1461, in _shutdown_workers\n",
      "    if w.is_alive():\n",
      "  File \"/home/macro-micro-coles/miniconda/envs/env/lib/python3.9/multiprocessing/process.py\", line 160, in is_alive\n",
      "    assert self._parent_pid == os.getpid(), 'can only test a child process'\n",
      "AssertionError: can only test a child process\n",
      "Exception ignored in: <function _MultiProcessingDataLoaderIter.__del__ at 0x7fd1ef8101f0>\n",
      "Traceback (most recent call last):\n",
      "  File \"/home/macro-micro-coles/miniconda/envs/env/lib/python3.9/site-packages/torch/utils/data/dataloader.py\", line 1478, in __del__\n",
      "    self._shutdown_workers()\n",
      "  File \"/home/macro-micro-coles/miniconda/envs/env/lib/python3.9/site-packages/torch/utils/data/dataloader.py\", line 1461, in _shutdown_workers\n",
      "    if w.is_alive():\n",
      "  File \"/home/macro-micro-coles/miniconda/envs/env/lib/python3.9/multiprocessing/process.py\", line 160, in is_alive\n",
      "    assert self._parent_pid == os.getpid(), 'can only test a child process'\n",
      "AssertionError: can only test a child process\n",
      "Traceback (most recent call last):\n",
      "Traceback (most recent call last):\n",
      "  File \"/home/macro-micro-coles/miniconda/envs/env/lib/python3.9/multiprocessing/queues.py\", line 239, in _feed\n",
      "    reader_close()\n",
      "  File \"/home/macro-micro-coles/miniconda/envs/env/lib/python3.9/multiprocessing/queues.py\", line 239, in _feed\n",
      "    reader_close()\n",
      "  File \"/home/macro-micro-coles/miniconda/envs/env/lib/python3.9/multiprocessing/connection.py\", line 177, in close\n",
      "    self._close()\n",
      "  File \"/home/macro-micro-coles/miniconda/envs/env/lib/python3.9/multiprocessing/connection.py\", line 361, in _close\n",
      "    _close(self._handle)\n",
      "  File \"/home/macro-micro-coles/miniconda/envs/env/lib/python3.9/multiprocessing/connection.py\", line 177, in close\n",
      "    self._close()\n",
      "OSError: [Errno 9] Bad file descriptor\n",
      "  File \"/home/macro-micro-coles/miniconda/envs/env/lib/python3.9/multiprocessing/connection.py\", line 361, in _close\n",
      "    _close(self._handle)\n",
      "OSError: [Errno 9] Bad file descriptor\n",
      "Exception ignored in: <function _MultiProcessingDataLoaderIter.__del__ at 0x7fd1ef8101f0>\n",
      "Traceback (most recent call last):\n",
      "  File \"/home/macro-micro-coles/miniconda/envs/env/lib/python3.9/site-packages/torch/utils/data/dataloader.py\", line 1478, in __del__\n",
      "    self._shutdown_workers()\n",
      "  File \"/home/macro-micro-coles/miniconda/envs/env/lib/python3.9/site-packages/torch/utils/data/dataloader.py\", line 1461, in _shutdown_workers\n",
      "    if w.is_alive():\n",
      "  File \"/home/macro-micro-coles/miniconda/envs/env/lib/python3.9/multiprocessing/process.py\", line 160, in is_alive\n",
      "    assert self._parent_pid == os.getpid(), 'can only test a child process'\n",
      "AssertionError: can only test a child process\n",
      "Exception ignored in: <function _MultiProcessingDataLoaderIter.__del__ at 0x7fd1ef8101f0>\n",
      "Traceback (most recent call last):\n",
      "  File \"/home/macro-micro-coles/miniconda/envs/env/lib/python3.9/site-packages/torch/utils/data/dataloader.py\", line 1478, in __del__\n",
      "    self._shutdown_workers()\n",
      "  File \"/home/macro-micro-coles/miniconda/envs/env/lib/python3.9/site-packages/torch/utils/data/dataloader.py\", line 1461, in _shutdown_workers\n",
      "    if w.is_alive():\n",
      "  File \"/home/macro-micro-coles/miniconda/envs/env/lib/python3.9/multiprocessing/process.py\", line 160, in is_alive\n",
      "    assert self._parent_pid == os.getpid(), 'can only test a child process'\n",
      "AssertionError: can only test a child process\n",
      "Traceback (most recent call last):\n",
      "Traceback (most recent call last):\n",
      "  File \"/home/macro-micro-coles/miniconda/envs/env/lib/python3.9/multiprocessing/queues.py\", line 239, in _feed\n",
      "    reader_close()\n",
      "  File \"/home/macro-micro-coles/miniconda/envs/env/lib/python3.9/multiprocessing/queues.py\", line 239, in _feed\n",
      "    reader_close()\n",
      "  File \"/home/macro-micro-coles/miniconda/envs/env/lib/python3.9/multiprocessing/connection.py\", line 177, in close\n",
      "    self._close()\n",
      "  File \"/home/macro-micro-coles/miniconda/envs/env/lib/python3.9/multiprocessing/connection.py\", line 177, in close\n",
      "    self._close()\n",
      "  File \"/home/macro-micro-coles/miniconda/envs/env/lib/python3.9/multiprocessing/connection.py\", line 361, in _close\n",
      "    _close(self._handle)\n",
      "OSError: [Errno 9] Bad file descriptor\n",
      "  File \"/home/macro-micro-coles/miniconda/envs/env/lib/python3.9/multiprocessing/connection.py\", line 361, in _close\n",
      "    _close(self._handle)\n",
      "OSError: [Errno 9] Bad file descriptor\n",
      "Exception ignored in: <function _MultiProcessingDataLoaderIter.__del__ at 0x7fd1ef8101f0>\n",
      "Traceback (most recent call last):\n",
      "  File \"/home/macro-micro-coles/miniconda/envs/env/lib/python3.9/site-packages/torch/utils/data/dataloader.py\", line 1478, in __del__\n",
      "    self._shutdown_workers()\n",
      "  File \"/home/macro-micro-coles/miniconda/envs/env/lib/python3.9/site-packages/torch/utils/data/dataloader.py\", line 1461, in _shutdown_workers\n",
      "    if w.is_alive():\n",
      "  File \"/home/macro-micro-coles/miniconda/envs/env/lib/python3.9/multiprocessing/process.py\", line 160, in is_alive\n",
      "    assert self._parent_pid == os.getpid(), 'can only test a child process'\n",
      "AssertionError: can only test a child process\n",
      "Exception ignored in: <function _MultiProcessingDataLoaderIter.__del__ at 0x7fd1ef8101f0>\n",
      "Traceback (most recent call last):\n",
      "  File \"/home/macro-micro-coles/miniconda/envs/env/lib/python3.9/site-packages/torch/utils/data/dataloader.py\", line 1478, in __del__\n",
      "    self._shutdown_workers()\n",
      "  File \"/home/macro-micro-coles/miniconda/envs/env/lib/python3.9/site-packages/torch/utils/data/dataloader.py\", line 1461, in _shutdown_workers\n",
      "    if w.is_alive():\n",
      "  File \"/home/macro-micro-coles/miniconda/envs/env/lib/python3.9/multiprocessing/process.py\", line 160, in is_alive\n",
      "    assert self._parent_pid == os.getpid(), 'can only test a child process'\n",
      "AssertionError: can only test a child process\n",
      "Traceback (most recent call last):\n",
      "  File \"/home/macro-micro-coles/miniconda/envs/env/lib/python3.9/multiprocessing/queues.py\", line 239, in _feed\n",
      "    reader_close()\n",
      "Traceback (most recent call last):\n",
      "  File \"/home/macro-micro-coles/miniconda/envs/env/lib/python3.9/multiprocessing/connection.py\", line 177, in close\n",
      "    self._close()\n",
      "  File \"/home/macro-micro-coles/miniconda/envs/env/lib/python3.9/multiprocessing/queues.py\", line 239, in _feed\n",
      "    reader_close()\n",
      "  File \"/home/macro-micro-coles/miniconda/envs/env/lib/python3.9/multiprocessing/connection.py\", line 361, in _close\n",
      "    _close(self._handle)\n",
      "  File \"/home/macro-micro-coles/miniconda/envs/env/lib/python3.9/multiprocessing/connection.py\", line 177, in close\n",
      "    self._close()\n",
      "OSError: [Errno 9] Bad file descriptor\n",
      "  File \"/home/macro-micro-coles/miniconda/envs/env/lib/python3.9/multiprocessing/connection.py\", line 361, in _close\n",
      "    _close(self._handle)\n",
      "OSError: [Errno 9] Bad file descriptor\n",
      "Exception ignored in: <function _MultiProcessingDataLoaderIter.__del__ at 0x7fd1ef8101f0>\n",
      "Traceback (most recent call last):\n",
      "  File \"/home/macro-micro-coles/miniconda/envs/env/lib/python3.9/site-packages/torch/utils/data/dataloader.py\", line 1478, in __del__\n",
      "    self._shutdown_workers()\n",
      "  File \"/home/macro-micro-coles/miniconda/envs/env/lib/python3.9/site-packages/torch/utils/data/dataloader.py\", line 1461, in _shutdown_workers\n",
      "    if w.is_alive():\n",
      "  File \"/home/macro-micro-coles/miniconda/envs/env/lib/python3.9/multiprocessing/process.py\", line 160, in is_alive\n",
      "    assert self._parent_pid == os.getpid(), 'can only test a child process'\n",
      "AssertionError: can only test a child process\n",
      "Exception ignored in: <function _MultiProcessingDataLoaderIter.__del__ at 0x7fd1ef8101f0>\n",
      "Traceback (most recent call last):\n",
      "  File \"/home/macro-micro-coles/miniconda/envs/env/lib/python3.9/site-packages/torch/utils/data/dataloader.py\", line 1478, in __del__\n",
      "    self._shutdown_workers()\n",
      "  File \"/home/macro-micro-coles/miniconda/envs/env/lib/python3.9/site-packages/torch/utils/data/dataloader.py\", line 1461, in _shutdown_workers\n",
      "    if w.is_alive():\n",
      "  File \"/home/macro-micro-coles/miniconda/envs/env/lib/python3.9/multiprocessing/process.py\", line 160, in is_alive\n",
      "    assert self._parent_pid == os.getpid(), 'can only test a child process'\n",
      "AssertionError: can only test a child process\n",
      "Traceback (most recent call last):\n",
      "Traceback (most recent call last):\n",
      "  File \"/home/macro-micro-coles/miniconda/envs/env/lib/python3.9/multiprocessing/queues.py\", line 239, in _feed\n",
      "    reader_close()\n",
      "  File \"/home/macro-micro-coles/miniconda/envs/env/lib/python3.9/multiprocessing/queues.py\", line 239, in _feed\n",
      "    reader_close()\n",
      "  File \"/home/macro-micro-coles/miniconda/envs/env/lib/python3.9/multiprocessing/connection.py\", line 177, in close\n",
      "    self._close()\n",
      "  File \"/home/macro-micro-coles/miniconda/envs/env/lib/python3.9/multiprocessing/connection.py\", line 177, in close\n",
      "    self._close()\n",
      "  File \"/home/macro-micro-coles/miniconda/envs/env/lib/python3.9/multiprocessing/connection.py\", line 361, in _close\n",
      "    _close(self._handle)\n",
      "  File \"/home/macro-micro-coles/miniconda/envs/env/lib/python3.9/multiprocessing/connection.py\", line 361, in _close\n",
      "    _close(self._handle)\n",
      "OSError: [Errno 9] Bad file descriptor\n",
      "OSError: [Errno 9] Bad file descriptor\n",
      "Exception ignored in: <function _ConnectionBase.__del__ at 0x7fd0ba014dc0>\n",
      "Traceback (most recent call last):\n",
      "  File \"/home/macro-micro-coles/miniconda/envs/env/lib/python3.9/multiprocessing/connection.py\", line 132, in __del__\n",
      "    self._close()\n",
      "  File \"/home/macro-micro-coles/miniconda/envs/env/lib/python3.9/multiprocessing/connection.py\", line 361, in _close\n",
      "    _close(self._handle)\n",
      "OSError: [Errno 9] Bad file descriptor\n"
     ]
    },
    {
     "data": {
      "application/vnd.jupyter.widget-view+json": {
       "model_id": "381d59e2c8fb46208a86e1941dad3a6b",
       "version_major": 2,
       "version_minor": 0
      },
      "text/plain": [
       "Validation: 0it [00:00, ?it/s]"
      ]
     },
     "metadata": {},
     "output_type": "display_data"
    },
    {
     "data": {
      "application/vnd.jupyter.widget-view+json": {
       "model_id": "013516febbe549baa8baed9cafbfbb13",
       "version_major": 2,
       "version_minor": 0
      },
      "text/plain": [
       "Validation: 0it [00:00, ?it/s]"
      ]
     },
     "metadata": {},
     "output_type": "display_data"
    },
    {
     "data": {
      "application/vnd.jupyter.widget-view+json": {
       "model_id": "8c8858c92a644a3897933f432e4a6929",
       "version_major": 2,
       "version_minor": 0
      },
      "text/plain": [
       "Validation: 0it [00:00, ?it/s]"
      ]
     },
     "metadata": {},
     "output_type": "display_data"
    },
    {
     "data": {
      "application/vnd.jupyter.widget-view+json": {
       "model_id": "bdfe2e1dd7074895b32ed683d7f9e05e",
       "version_major": 2,
       "version_minor": 0
      },
      "text/plain": [
       "Validation: 0it [00:00, ?it/s]"
      ]
     },
     "metadata": {},
     "output_type": "display_data"
    },
    {
     "data": {
      "application/vnd.jupyter.widget-view+json": {
       "model_id": "e90c64744ab4430fa8af9a83f24b4587",
       "version_major": 2,
       "version_minor": 0
      },
      "text/plain": [
       "Validation: 0it [00:00, ?it/s]"
      ]
     },
     "metadata": {},
     "output_type": "display_data"
    },
    {
     "data": {
      "application/vnd.jupyter.widget-view+json": {
       "model_id": "d2817ad43e1d4399bf5d278122238896",
       "version_major": 2,
       "version_minor": 0
      },
      "text/plain": [
       "Validation: 0it [00:00, ?it/s]"
      ]
     },
     "metadata": {},
     "output_type": "display_data"
    },
    {
     "data": {
      "application/vnd.jupyter.widget-view+json": {
       "model_id": "601a3eecc986468bbb447e64c0f5fc7a",
       "version_major": 2,
       "version_minor": 0
      },
      "text/plain": [
       "Validation: 0it [00:00, ?it/s]"
      ]
     },
     "metadata": {},
     "output_type": "display_data"
    },
    {
     "data": {
      "application/vnd.jupyter.widget-view+json": {
       "model_id": "986441b5bbe74be18966251fe60cae88",
       "version_major": 2,
       "version_minor": 0
      },
      "text/plain": [
       "Validation: 0it [00:00, ?it/s]"
      ]
     },
     "metadata": {},
     "output_type": "display_data"
    },
    {
     "data": {
      "application/vnd.jupyter.widget-view+json": {
       "model_id": "02bfe7832a0f425dade46e7393db78c2",
       "version_major": 2,
       "version_minor": 0
      },
      "text/plain": [
       "Validation: 0it [00:00, ?it/s]"
      ]
     },
     "metadata": {},
     "output_type": "display_data"
    },
    {
     "data": {
      "application/vnd.jupyter.widget-view+json": {
       "model_id": "683e824f8d3f42bf83c50efb18a84789",
       "version_major": 2,
       "version_minor": 0
      },
      "text/plain": [
       "Validation: 0it [00:00, ?it/s]"
      ]
     },
     "metadata": {},
     "output_type": "display_data"
    },
    {
     "data": {
      "application/vnd.jupyter.widget-view+json": {
       "model_id": "2514862ab1a3490ba9b3c517dbeb76fb",
       "version_major": 2,
       "version_minor": 0
      },
      "text/plain": [
       "Validation: 0it [00:00, ?it/s]"
      ]
     },
     "metadata": {},
     "output_type": "display_data"
    },
    {
     "data": {
      "application/vnd.jupyter.widget-view+json": {
       "model_id": "b24ba0b2762e45e7bb97bdf62a8c4c5a",
       "version_major": 2,
       "version_minor": 0
      },
      "text/plain": [
       "Validation: 0it [00:00, ?it/s]"
      ]
     },
     "metadata": {},
     "output_type": "display_data"
    },
    {
     "data": {
      "application/vnd.jupyter.widget-view+json": {
       "model_id": "8a786d149d3449d483138bf60c44cab0",
       "version_major": 2,
       "version_minor": 0
      },
      "text/plain": [
       "Validation: 0it [00:00, ?it/s]"
      ]
     },
     "metadata": {},
     "output_type": "display_data"
    },
    {
     "data": {
      "application/vnd.jupyter.widget-view+json": {
       "model_id": "d2db0774afd2468b944675439b23c424",
       "version_major": 2,
       "version_minor": 0
      },
      "text/plain": [
       "Validation: 0it [00:00, ?it/s]"
      ]
     },
     "metadata": {},
     "output_type": "display_data"
    },
    {
     "data": {
      "application/vnd.jupyter.widget-view+json": {
       "model_id": "7913aca219864a229b1220bcfe66408e",
       "version_major": 2,
       "version_minor": 0
      },
      "text/plain": [
       "Validation: 0it [00:00, ?it/s]"
      ]
     },
     "metadata": {},
     "output_type": "display_data"
    },
    {
     "data": {
      "application/vnd.jupyter.widget-view+json": {
       "model_id": "41f9461767bc400783b859870d2145b9",
       "version_major": 2,
       "version_minor": 0
      },
      "text/plain": [
       "Validation: 0it [00:00, ?it/s]"
      ]
     },
     "metadata": {},
     "output_type": "display_data"
    },
    {
     "data": {
      "application/vnd.jupyter.widget-view+json": {
       "model_id": "238d5ecd043a49bfbbc13eb2244fdad0",
       "version_major": 2,
       "version_minor": 0
      },
      "text/plain": [
       "Validation: 0it [00:00, ?it/s]"
      ]
     },
     "metadata": {},
     "output_type": "display_data"
    },
    {
     "data": {
      "application/vnd.jupyter.widget-view+json": {
       "model_id": "78f7f6561d8c4bd4b02504bbe37c5588",
       "version_major": 2,
       "version_minor": 0
      },
      "text/plain": [
       "Validation: 0it [00:00, ?it/s]"
      ]
     },
     "metadata": {},
     "output_type": "display_data"
    },
    {
     "data": {
      "application/vnd.jupyter.widget-view+json": {
       "model_id": "99700f8094244efb933e4c4a4a57606c",
       "version_major": 2,
       "version_minor": 0
      },
      "text/plain": [
       "Validation: 0it [00:00, ?it/s]"
      ]
     },
     "metadata": {},
     "output_type": "display_data"
    },
    {
     "data": {
      "application/vnd.jupyter.widget-view+json": {
       "model_id": "37a1f7e12fe44773ab0ee9aa0bad3b14",
       "version_major": 2,
       "version_minor": 0
      },
      "text/plain": [
       "Validation: 0it [00:00, ?it/s]"
      ]
     },
     "metadata": {},
     "output_type": "display_data"
    },
    {
     "data": {
      "application/vnd.jupyter.widget-view+json": {
       "model_id": "eadcb30688f845f3a23d48fd90a5b8ed",
       "version_major": 2,
       "version_minor": 0
      },
      "text/plain": [
       "Validation: 0it [00:00, ?it/s]"
      ]
     },
     "metadata": {},
     "output_type": "display_data"
    },
    {
     "data": {
      "application/vnd.jupyter.widget-view+json": {
       "model_id": "42a50a1d3ab344d9bf24c897650d9d84",
       "version_major": 2,
       "version_minor": 0
      },
      "text/plain": [
       "Validation: 0it [00:00, ?it/s]"
      ]
     },
     "metadata": {},
     "output_type": "display_data"
    },
    {
     "data": {
      "application/vnd.jupyter.widget-view+json": {
       "model_id": "ec94012616464380bbeeff85a56301e3",
       "version_major": 2,
       "version_minor": 0
      },
      "text/plain": [
       "Validation: 0it [00:00, ?it/s]"
      ]
     },
     "metadata": {},
     "output_type": "display_data"
    },
    {
     "data": {
      "application/vnd.jupyter.widget-view+json": {
       "model_id": "c7ffd5274e434b139035b73443cf5e2d",
       "version_major": 2,
       "version_minor": 0
      },
      "text/plain": [
       "Validation: 0it [00:00, ?it/s]"
      ]
     },
     "metadata": {},
     "output_type": "display_data"
    },
    {
     "data": {
      "application/vnd.jupyter.widget-view+json": {
       "model_id": "75070b0140f94404a30a138aa4c47a87",
       "version_major": 2,
       "version_minor": 0
      },
      "text/plain": [
       "Validation: 0it [00:00, ?it/s]"
      ]
     },
     "metadata": {},
     "output_type": "display_data"
    },
    {
     "data": {
      "application/vnd.jupyter.widget-view+json": {
       "model_id": "5a82f79e91e34cf0aca00c6ed5905746",
       "version_major": 2,
       "version_minor": 0
      },
      "text/plain": [
       "Validation: 0it [00:00, ?it/s]"
      ]
     },
     "metadata": {},
     "output_type": "display_data"
    },
    {
     "data": {
      "application/vnd.jupyter.widget-view+json": {
       "model_id": "b73bd73d1afd43148e26a74aa8e94a87",
       "version_major": 2,
       "version_minor": 0
      },
      "text/plain": [
       "Validation: 0it [00:00, ?it/s]"
      ]
     },
     "metadata": {},
     "output_type": "display_data"
    },
    {
     "data": {
      "application/vnd.jupyter.widget-view+json": {
       "model_id": "7944d35b919c4564bb9807cf2619eb61",
       "version_major": 2,
       "version_minor": 0
      },
      "text/plain": [
       "Validation: 0it [00:00, ?it/s]"
      ]
     },
     "metadata": {},
     "output_type": "display_data"
    },
    {
     "data": {
      "application/vnd.jupyter.widget-view+json": {
       "model_id": "924649a1aaf3430e8822aecc22609904",
       "version_major": 2,
       "version_minor": 0
      },
      "text/plain": [
       "Validation: 0it [00:00, ?it/s]"
      ]
     },
     "metadata": {},
     "output_type": "display_data"
    },
    {
     "data": {
      "application/vnd.jupyter.widget-view+json": {
       "model_id": "46d7ea5f6dc14e24bd43e3a89c20f168",
       "version_major": 2,
       "version_minor": 0
      },
      "text/plain": [
       "Validation: 0it [00:00, ?it/s]"
      ]
     },
     "metadata": {},
     "output_type": "display_data"
    },
    {
     "data": {
      "application/vnd.jupyter.widget-view+json": {
       "model_id": "be82b73ada0349b4859f194aa2d27a4a",
       "version_major": 2,
       "version_minor": 0
      },
      "text/plain": [
       "Validation: 0it [00:00, ?it/s]"
      ]
     },
     "metadata": {},
     "output_type": "display_data"
    },
    {
     "data": {
      "application/vnd.jupyter.widget-view+json": {
       "model_id": "680e93607e254b31b6e2fe428764c27a",
       "version_major": 2,
       "version_minor": 0
      },
      "text/plain": [
       "Validation: 0it [00:00, ?it/s]"
      ]
     },
     "metadata": {},
     "output_type": "display_data"
    },
    {
     "data": {
      "application/vnd.jupyter.widget-view+json": {
       "model_id": "f4558215642d4bc98321d6863f644604",
       "version_major": 2,
       "version_minor": 0
      },
      "text/plain": [
       "Validation: 0it [00:00, ?it/s]"
      ]
     },
     "metadata": {},
     "output_type": "display_data"
    },
    {
     "data": {
      "application/vnd.jupyter.widget-view+json": {
       "model_id": "6e57b061bb5241beb5c4b647c19e026c",
       "version_major": 2,
       "version_minor": 0
      },
      "text/plain": [
       "Validation: 0it [00:00, ?it/s]"
      ]
     },
     "metadata": {},
     "output_type": "display_data"
    },
    {
     "data": {
      "application/vnd.jupyter.widget-view+json": {
       "model_id": "efd5d70c71534e359b38010731e2c7cd",
       "version_major": 2,
       "version_minor": 0
      },
      "text/plain": [
       "Validation: 0it [00:00, ?it/s]"
      ]
     },
     "metadata": {},
     "output_type": "display_data"
    },
    {
     "data": {
      "application/vnd.jupyter.widget-view+json": {
       "model_id": "39b606de922d45749b55a561d66860d6",
       "version_major": 2,
       "version_minor": 0
      },
      "text/plain": [
       "Validation: 0it [00:00, ?it/s]"
      ]
     },
     "metadata": {},
     "output_type": "display_data"
    },
    {
     "data": {
      "application/vnd.jupyter.widget-view+json": {
       "model_id": "779cda0c092f4c78bfea8b601d1e8175",
       "version_major": 2,
       "version_minor": 0
      },
      "text/plain": [
       "Validation: 0it [00:00, ?it/s]"
      ]
     },
     "metadata": {},
     "output_type": "display_data"
    },
    {
     "data": {
      "application/vnd.jupyter.widget-view+json": {
       "model_id": "70888a631d064954a634556b9e7ad2ee",
       "version_major": 2,
       "version_minor": 0
      },
      "text/plain": [
       "Validation: 0it [00:00, ?it/s]"
      ]
     },
     "metadata": {},
     "output_type": "display_data"
    },
    {
     "data": {
      "application/vnd.jupyter.widget-view+json": {
       "model_id": "c7d3fedbb68f4b7a8c5b579a353ab977",
       "version_major": 2,
       "version_minor": 0
      },
      "text/plain": [
       "Validation: 0it [00:00, ?it/s]"
      ]
     },
     "metadata": {},
     "output_type": "display_data"
    },
    {
     "data": {
      "application/vnd.jupyter.widget-view+json": {
       "model_id": "a9ea694b462141929a74cfde33e12bf1",
       "version_major": 2,
       "version_minor": 0
      },
      "text/plain": [
       "Validation: 0it [00:00, ?it/s]"
      ]
     },
     "metadata": {},
     "output_type": "display_data"
    },
    {
     "data": {
      "application/vnd.jupyter.widget-view+json": {
       "model_id": "5190a383583d4a059fde7554f472d267",
       "version_major": 2,
       "version_minor": 0
      },
      "text/plain": [
       "Validation: 0it [00:00, ?it/s]"
      ]
     },
     "metadata": {},
     "output_type": "display_data"
    },
    {
     "data": {
      "application/vnd.jupyter.widget-view+json": {
       "model_id": "ce0c5426fa3d4b499e55f8fbb06e2b34",
       "version_major": 2,
       "version_minor": 0
      },
      "text/plain": [
       "Validation: 0it [00:00, ?it/s]"
      ]
     },
     "metadata": {},
     "output_type": "display_data"
    },
    {
     "data": {
      "application/vnd.jupyter.widget-view+json": {
       "model_id": "2f4cd96888094a3bb96295bcd1ace475",
       "version_major": 2,
       "version_minor": 0
      },
      "text/plain": [
       "Validation: 0it [00:00, ?it/s]"
      ]
     },
     "metadata": {},
     "output_type": "display_data"
    }
   ],
   "source": [
    "checkpoint = ModelCheckpoint(\n",
    "    monitor=\"recall_top_k\", \n",
    "    mode=\"max\"\n",
    ")\n",
    "\n",
    "trainer = Trainer(\n",
    "    max_epochs=50,\n",
    "    devices=[1],\n",
    "    accelerator=\"gpu\",\n",
    "    callbacks=[checkpoint]\n",
    ")\n",
    "\n",
    "trainer.fit(model, datamodule)"
   ]
  },
  {
   "cell_type": "code",
   "execution_count": 34,
   "metadata": {},
   "outputs": [
    {
     "data": {
      "text/plain": [
       "<All keys matched successfully>"
      ]
     },
     "execution_count": 34,
     "metadata": {},
     "output_type": "execute_result"
    }
   ],
   "source": [
    "model.load_state_dict(torch.load(checkpoint.best_model_path)[\"state_dict\"])"
   ]
  },
  {
   "cell_type": "code",
   "execution_count": 41,
   "metadata": {},
   "outputs": [],
   "source": [
    "# torch.save(model.seq_encoder.state_dict(), \"coles_churn.pth\")"
   ]
  },
  {
   "cell_type": "markdown",
   "metadata": {},
   "source": [
    "## Model evaluation"
   ]
  },
  {
   "cell_type": "code",
   "execution_count": 29,
   "metadata": {},
   "outputs": [],
   "source": [
    "train_val_ds = MemoryMapDataset(train + val, [SeqLenFilter(min_seq_len=15)])"
   ]
  },
  {
   "cell_type": "code",
   "execution_count": 30,
   "metadata": {},
   "outputs": [
    {
     "name": "stdout",
     "output_type": "stream",
     "text": [
      "Train size: 6372\n",
      "Test size: 708\n"
     ]
    }
   ],
   "source": [
    "X_train, y_train = encode_data(model.seq_encoder, train_val_ds)\n",
    "X_test, y_test = encode_data(model.seq_encoder, test_ds)\n",
    "\n",
    "print(\"Train size:\", len(y_train))\n",
    "print(\"Test size:\", len(y_test))"
   ]
  },
  {
   "cell_type": "code",
   "execution_count": 31,
   "metadata": {},
   "outputs": [
    {
     "data": {
      "text/html": [
       "<style>#sk-container-id-1 {color: black;}#sk-container-id-1 pre{padding: 0;}#sk-container-id-1 div.sk-toggleable {background-color: white;}#sk-container-id-1 label.sk-toggleable__label {cursor: pointer;display: block;width: 100%;margin-bottom: 0;padding: 0.3em;box-sizing: border-box;text-align: center;}#sk-container-id-1 label.sk-toggleable__label-arrow:before {content: \"▸\";float: left;margin-right: 0.25em;color: #696969;}#sk-container-id-1 label.sk-toggleable__label-arrow:hover:before {color: black;}#sk-container-id-1 div.sk-estimator:hover label.sk-toggleable__label-arrow:before {color: black;}#sk-container-id-1 div.sk-toggleable__content {max-height: 0;max-width: 0;overflow: hidden;text-align: left;background-color: #f0f8ff;}#sk-container-id-1 div.sk-toggleable__content pre {margin: 0.2em;color: black;border-radius: 0.25em;background-color: #f0f8ff;}#sk-container-id-1 input.sk-toggleable__control:checked~div.sk-toggleable__content {max-height: 200px;max-width: 100%;overflow: auto;}#sk-container-id-1 input.sk-toggleable__control:checked~label.sk-toggleable__label-arrow:before {content: \"▾\";}#sk-container-id-1 div.sk-estimator input.sk-toggleable__control:checked~label.sk-toggleable__label {background-color: #d4ebff;}#sk-container-id-1 div.sk-label input.sk-toggleable__control:checked~label.sk-toggleable__label {background-color: #d4ebff;}#sk-container-id-1 input.sk-hidden--visually {border: 0;clip: rect(1px 1px 1px 1px);clip: rect(1px, 1px, 1px, 1px);height: 1px;margin: -1px;overflow: hidden;padding: 0;position: absolute;width: 1px;}#sk-container-id-1 div.sk-estimator {font-family: monospace;background-color: #f0f8ff;border: 1px dotted black;border-radius: 0.25em;box-sizing: border-box;margin-bottom: 0.5em;}#sk-container-id-1 div.sk-estimator:hover {background-color: #d4ebff;}#sk-container-id-1 div.sk-parallel-item::after {content: \"\";width: 100%;border-bottom: 1px solid gray;flex-grow: 1;}#sk-container-id-1 div.sk-label:hover label.sk-toggleable__label {background-color: #d4ebff;}#sk-container-id-1 div.sk-serial::before {content: \"\";position: absolute;border-left: 1px solid gray;box-sizing: border-box;top: 0;bottom: 0;left: 50%;z-index: 0;}#sk-container-id-1 div.sk-serial {display: flex;flex-direction: column;align-items: center;background-color: white;padding-right: 0.2em;padding-left: 0.2em;position: relative;}#sk-container-id-1 div.sk-item {position: relative;z-index: 1;}#sk-container-id-1 div.sk-parallel {display: flex;align-items: stretch;justify-content: center;background-color: white;position: relative;}#sk-container-id-1 div.sk-item::before, #sk-container-id-1 div.sk-parallel-item::before {content: \"\";position: absolute;border-left: 1px solid gray;box-sizing: border-box;top: 0;bottom: 0;left: 50%;z-index: -1;}#sk-container-id-1 div.sk-parallel-item {display: flex;flex-direction: column;z-index: 1;position: relative;background-color: white;}#sk-container-id-1 div.sk-parallel-item:first-child::after {align-self: flex-end;width: 50%;}#sk-container-id-1 div.sk-parallel-item:last-child::after {align-self: flex-start;width: 50%;}#sk-container-id-1 div.sk-parallel-item:only-child::after {width: 0;}#sk-container-id-1 div.sk-dashed-wrapped {border: 1px dashed gray;margin: 0 0.4em 0.5em 0.4em;box-sizing: border-box;padding-bottom: 0.4em;background-color: white;}#sk-container-id-1 div.sk-label label {font-family: monospace;font-weight: bold;display: inline-block;line-height: 1.2em;}#sk-container-id-1 div.sk-label-container {text-align: center;}#sk-container-id-1 div.sk-container {/* jupyter's `normalize.less` sets `[hidden] { display: none; }` but bootstrap.min.css set `[hidden] { display: none !important; }` so we also need the `!important` here to be able to override the default hidden behavior on the sphinx rendered scikit-learn.org. See: https://github.com/scikit-learn/scikit-learn/issues/21755 */display: inline-block !important;position: relative;}#sk-container-id-1 div.sk-text-repr-fallback {display: none;}</style><div id=\"sk-container-id-1\" class=\"sk-top-container\"><div class=\"sk-text-repr-fallback\"><pre>LGBMClassifier(feature_fraction=0.75, lambda_l1=1, lambda_l2=1,\n",
       "               learning_rate=0.02, max_depth=6, min_data_in_leaf=50,\n",
       "               n_estimators=500, n_jobs=8, random_state=42, subsample=0.5,\n",
       "               subsample_freq=1, verbose=-1)</pre><b>In a Jupyter environment, please rerun this cell to show the HTML representation or trust the notebook. <br />On GitHub, the HTML representation is unable to render, please try loading this page with nbviewer.org.</b></div><div class=\"sk-container\" hidden><div class=\"sk-item\"><div class=\"sk-estimator sk-toggleable\"><input class=\"sk-toggleable__control sk-hidden--visually\" id=\"sk-estimator-id-1\" type=\"checkbox\" checked><label for=\"sk-estimator-id-1\" class=\"sk-toggleable__label sk-toggleable__label-arrow\">LGBMClassifier</label><div class=\"sk-toggleable__content\"><pre>LGBMClassifier(feature_fraction=0.75, lambda_l1=1, lambda_l2=1,\n",
       "               learning_rate=0.02, max_depth=6, min_data_in_leaf=50,\n",
       "               n_estimators=500, n_jobs=8, random_state=42, subsample=0.5,\n",
       "               subsample_freq=1, verbose=-1)</pre></div></div></div></div></div>"
      ],
      "text/plain": [
       "LGBMClassifier(feature_fraction=0.75, lambda_l1=1, lambda_l2=1,\n",
       "               learning_rate=0.02, max_depth=6, min_data_in_leaf=50,\n",
       "               n_estimators=500, n_jobs=8, random_state=42, subsample=0.5,\n",
       "               subsample_freq=1, verbose=-1)"
      ]
     },
     "execution_count": 31,
     "metadata": {},
     "output_type": "execute_result"
    }
   ],
   "source": [
    "from sklearn.metrics import roc_auc_score, average_precision_score\n",
    "from lightgbm import LGBMClassifier\n",
    "\n",
    "\n",
    "lgbm = LGBMClassifier(\n",
    "    n_estimators=500,\n",
    "    boosting_type=\"gbdt\",\n",
    "    subsample=0.5,\n",
    "    subsample_freq=1,\n",
    "    learning_rate=0.02,\n",
    "    feature_fraction=0.75,\n",
    "    max_depth=6,\n",
    "    lambda_l1=1,\n",
    "    lambda_l2=1,\n",
    "    min_data_in_leaf=50,\n",
    "    random_state=42,\n",
    "    n_jobs=8,\n",
    "    verbose=-1\n",
    ")\n",
    "\n",
    "lgbm.fit(X_train, y_train)"
   ]
  },
  {
   "cell_type": "code",
   "execution_count": 32,
   "metadata": {},
   "outputs": [
    {
     "data": {
      "text/plain": [
       "(0.6130724114595083, 0.0640716599343085)"
      ]
     },
     "execution_count": 32,
     "metadata": {},
     "output_type": "execute_result"
    }
   ],
   "source": [
    "y_pred = lgbm.predict_proba(X_test)[:, 1]\n",
    "\n",
    "roc_auc_score(y_test, y_pred), average_precision_score(y_test, y_pred)"
   ]
  },
  {
   "attachments": {},
   "cell_type": "markdown",
   "metadata": {},
   "source": [
    "# CoLES with time features"
   ]
  },
  {
   "attachments": {},
   "cell_type": "markdown",
   "metadata": {},
   "source": [
    "## Model training"
   ]
  },
  {
   "cell_type": "code",
   "execution_count": 9,
   "metadata": {},
   "outputs": [],
   "source": [
    "trx_encoder = TrxEncoder(\n",
    "    embeddings={\n",
    "        \"mcc_code\": {\"in\": 345, \"out\": 24}\n",
    "    },\n",
    "    numeric_values={\n",
    "        \"amount\": \"identity\",\n",
    "        \"event_time\": \"identity\",\n",
    "        \"time_delta\": \"identity\",\n",
    "    },\n",
    "    use_batch_norm_with_lens=True,\n",
    "    norm_embeddings=False,\n",
    "    embeddings_noise=0.0003\n",
    ")\n",
    "\n",
    "seq_encoder = RnnSeqEncoder(\n",
    "    trx_encoder,\n",
    "    hidden_size=1024,\n",
    "    type=\"lstm\",\n",
    "    bidir=False,\n",
    "    trainable_starter=\"static\",\n",
    ")"
   ]
  },
  {
   "cell_type": "code",
   "execution_count": 10,
   "metadata": {},
   "outputs": [],
   "source": [
    "lr_scheduler_partial = partial(torch.optim.lr_scheduler.ReduceLROnPlateau, factor=.9025, patience=5, mode=\"max\")\n",
    "optimizer_partial = partial(torch.optim.Adam, lr=4e-3)\n",
    "\n",
    "model = CoLESModule(\n",
    "    seq_encoder,\n",
    "    optimizer_partial=optimizer_partial,\n",
    "    lr_scheduler_partial=lr_scheduler_partial\n",
    ")"
   ]
  },
  {
   "cell_type": "code",
   "execution_count": null,
   "metadata": {},
   "outputs": [],
   "source": [
    "checkpoint = ModelCheckpoint(\n",
    "    monitor=\"recall_top_k\", \n",
    "    mode=\"max\"\n",
    ")\n",
    "\n",
    "trainer = Trainer(\n",
    "    max_epochs=50,\n",
    "    devices=[1],\n",
    "    accelerator=\"gpu\",\n",
    "    callbacks=[checkpoint]\n",
    ")\n",
    "\n",
    "trainer.fit(model, datamodule)"
   ]
  },
  {
   "cell_type": "code",
   "execution_count": 21,
   "metadata": {},
   "outputs": [
    {
     "data": {
      "text/plain": [
       "<All keys matched successfully>"
      ]
     },
     "execution_count": 21,
     "metadata": {},
     "output_type": "execute_result"
    }
   ],
   "source": [
    "model.load_state_dict(torch.load(checkpoint.best_model_path)[\"state_dict\"])"
   ]
  },
  {
   "cell_type": "code",
   "execution_count": 30,
   "metadata": {},
   "outputs": [],
   "source": [
    "torch.save(model.seq_encoder.state_dict(), \"coles_churn_date.pth\")"
   ]
  },
  {
   "attachments": {},
   "cell_type": "markdown",
   "metadata": {},
   "source": [
    "## Model evaluation"
   ]
  },
  {
   "cell_type": "code",
   "execution_count": 24,
   "metadata": {},
   "outputs": [],
   "source": [
    "train_val_ds = MemoryMapDataset(train + val, [SeqLenFilter(min_seq_len=15)])"
   ]
  },
  {
   "cell_type": "code",
   "execution_count": 25,
   "metadata": {},
   "outputs": [
    {
     "name": "stdout",
     "output_type": "stream",
     "text": [
      "Train size: 3961\n",
      "Test size: 443\n"
     ]
    }
   ],
   "source": [
    "X_train, y_train = encode_data(model.seq_encoder, train_val_ds)\n",
    "X_test, y_test = encode_data(model.seq_encoder, test_ds)\n",
    "\n",
    "print(\"Train size:\", len(y_train))\n",
    "print(\"Test size:\", len(y_test))"
   ]
  },
  {
   "cell_type": "code",
   "execution_count": 26,
   "metadata": {},
   "outputs": [],
   "source": [
    "results = bootstrap_eval(X_train, X_test, y_train, y_test, n_runs=10)"
   ]
  },
  {
   "cell_type": "code",
   "execution_count": 27,
   "metadata": {},
   "outputs": [
    {
     "data": {
      "text/html": [
       "<div>\n",
       "<style scoped>\n",
       "    .dataframe tbody tr th:only-of-type {\n",
       "        vertical-align: middle;\n",
       "    }\n",
       "\n",
       "    .dataframe tbody tr th {\n",
       "        vertical-align: top;\n",
       "    }\n",
       "\n",
       "    .dataframe thead th {\n",
       "        text-align: right;\n",
       "    }\n",
       "</style>\n",
       "<table border=\"1\" class=\"dataframe\">\n",
       "  <thead>\n",
       "    <tr style=\"text-align: right;\">\n",
       "      <th></th>\n",
       "      <th>ROC-AUC</th>\n",
       "      <th>PR-AUC</th>\n",
       "    </tr>\n",
       "  </thead>\n",
       "  <tbody>\n",
       "    <tr>\n",
       "      <th>0</th>\n",
       "      <td>0.797338</td>\n",
       "      <td>0.863472</td>\n",
       "    </tr>\n",
       "    <tr>\n",
       "      <th>1</th>\n",
       "      <td>0.805485</td>\n",
       "      <td>0.871617</td>\n",
       "    </tr>\n",
       "    <tr>\n",
       "      <th>2</th>\n",
       "      <td>0.812807</td>\n",
       "      <td>0.874014</td>\n",
       "    </tr>\n",
       "    <tr>\n",
       "      <th>3</th>\n",
       "      <td>0.803771</td>\n",
       "      <td>0.867662</td>\n",
       "    </tr>\n",
       "    <tr>\n",
       "      <th>4</th>\n",
       "      <td>0.806120</td>\n",
       "      <td>0.854886</td>\n",
       "    </tr>\n",
       "    <tr>\n",
       "      <th>5</th>\n",
       "      <td>0.800406</td>\n",
       "      <td>0.859777</td>\n",
       "    </tr>\n",
       "    <tr>\n",
       "      <th>6</th>\n",
       "      <td>0.798713</td>\n",
       "      <td>0.858944</td>\n",
       "    </tr>\n",
       "    <tr>\n",
       "      <th>7</th>\n",
       "      <td>0.812807</td>\n",
       "      <td>0.873045</td>\n",
       "    </tr>\n",
       "    <tr>\n",
       "      <th>8</th>\n",
       "      <td>0.815177</td>\n",
       "      <td>0.872571</td>\n",
       "    </tr>\n",
       "    <tr>\n",
       "      <th>9</th>\n",
       "      <td>0.806882</td>\n",
       "      <td>0.862757</td>\n",
       "    </tr>\n",
       "  </tbody>\n",
       "</table>\n",
       "</div>"
      ],
      "text/plain": [
       "    ROC-AUC    PR-AUC\n",
       "0  0.797338  0.863472\n",
       "1  0.805485  0.871617\n",
       "2  0.812807  0.874014\n",
       "3  0.803771  0.867662\n",
       "4  0.806120  0.854886\n",
       "5  0.800406  0.859777\n",
       "6  0.798713  0.858944\n",
       "7  0.812807  0.873045\n",
       "8  0.815177  0.872571\n",
       "9  0.806882  0.862757"
      ]
     },
     "execution_count": 27,
     "metadata": {},
     "output_type": "execute_result"
    }
   ],
   "source": [
    "results"
   ]
  },
  {
   "cell_type": "code",
   "execution_count": 29,
   "metadata": {},
   "outputs": [
    {
     "data": {
      "text/html": [
       "<div>\n",
       "<style scoped>\n",
       "    .dataframe tbody tr th:only-of-type {\n",
       "        vertical-align: middle;\n",
       "    }\n",
       "\n",
       "    .dataframe tbody tr th {\n",
       "        vertical-align: top;\n",
       "    }\n",
       "\n",
       "    .dataframe thead th {\n",
       "        text-align: right;\n",
       "    }\n",
       "</style>\n",
       "<table border=\"1\" class=\"dataframe\">\n",
       "  <thead>\n",
       "    <tr style=\"text-align: right;\">\n",
       "      <th></th>\n",
       "      <th>ROC-AUC</th>\n",
       "      <th>PR-AUC</th>\n",
       "    </tr>\n",
       "  </thead>\n",
       "  <tbody>\n",
       "    <tr>\n",
       "      <th>mean</th>\n",
       "      <td>0.805951</td>\n",
       "      <td>0.865875</td>\n",
       "    </tr>\n",
       "    <tr>\n",
       "      <th>std</th>\n",
       "      <td>0.006167</td>\n",
       "      <td>0.006833</td>\n",
       "    </tr>\n",
       "  </tbody>\n",
       "</table>\n",
       "</div>"
      ],
      "text/plain": [
       "       ROC-AUC    PR-AUC\n",
       "mean  0.805951  0.865875\n",
       "std   0.006167  0.006833"
      ]
     },
     "execution_count": 29,
     "metadata": {},
     "output_type": "execute_result"
    }
   ],
   "source": [
    "results.agg([\"mean\", \"std\"])"
   ]
  }
 ],
 "metadata": {
  "kernelspec": {
   "display_name": "env",
   "language": "python",
   "name": "python3"
  },
  "language_info": {
   "codemirror_mode": {
    "name": "ipython",
    "version": 3
   },
   "file_extension": ".py",
   "mimetype": "text/x-python",
   "name": "python",
   "nbconvert_exporter": "python",
   "pygments_lexer": "ipython3",
   "version": "3.9.16"
  },
  "orig_nbformat": 4,
  "vscode": {
   "interpreter": {
    "hash": "1d85f8d091281e8cdbbabc30d35abdaebd4eb091dd84d434d9fa6db6a3942f76"
   }
  }
 },
 "nbformat": 4,
 "nbformat_minor": 2
}
