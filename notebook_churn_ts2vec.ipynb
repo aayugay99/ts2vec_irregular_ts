{
 "cells": [
  {
   "cell_type": "code",
   "execution_count": 1,
   "metadata": {},
   "outputs": [],
   "source": [
    "import os \n",
    "\n",
    "os.chdir(\"app/\")"
   ]
  },
  {
   "cell_type": "code",
   "execution_count": 2,
   "metadata": {},
   "outputs": [],
   "source": [
    "from functools import partial\n",
    "\n",
    "import matplotlib.pyplot as plt\n",
    "import pandas as pd\n",
    "import numpy as np\n",
    "\n",
    "from sklearn.model_selection import train_test_split\n",
    "\n",
    "import torch.nn as nn\n",
    "import torch\n",
    "\n",
    "from pytorch_lightning.callbacks import ModelCheckpoint, EarlyStopping\n",
    "from pytorch_lightning.trainer import Trainer\n",
    "\n",
    "from ptls.preprocessing import PandasDataPreprocessor\n",
    "from ptls.nn import TrxEncoder\n",
    "from ptls.frames import PtlsDataModule\n",
    "    \n",
    "from nn.seq_encoder import ConvSeqEncoder\n",
    "from modules.ts2vec_module import TS2Vec\n",
    "from datasets import TS2VecDataset\n",
    "from utils.encode import encode_data\n",
    "from utils.evaluation import bootstrap_eval"
   ]
  },
  {
   "attachments": {},
   "cell_type": "markdown",
   "metadata": {},
   "source": [
    "## Load data"
   ]
  },
  {
   "cell_type": "code",
   "execution_count": 3,
   "metadata": {},
   "outputs": [
    {
     "data": {
      "text/html": [
       "<div>\n",
       "<style scoped>\n",
       "    .dataframe tbody tr th:only-of-type {\n",
       "        vertical-align: middle;\n",
       "    }\n",
       "\n",
       "    .dataframe tbody tr th {\n",
       "        vertical-align: top;\n",
       "    }\n",
       "\n",
       "    .dataframe thead th {\n",
       "        text-align: right;\n",
       "    }\n",
       "</style>\n",
       "<table border=\"1\" class=\"dataframe\">\n",
       "  <thead>\n",
       "    <tr style=\"text-align: right;\">\n",
       "      <th></th>\n",
       "      <th>user_id</th>\n",
       "      <th>mcc_code</th>\n",
       "      <th>timestamp</th>\n",
       "      <th>amount</th>\n",
       "      <th>global_target</th>\n",
       "      <th>holiday_target</th>\n",
       "      <th>weekend_target</th>\n",
       "      <th>churn_target</th>\n",
       "      <th>minute</th>\n",
       "      <th>hour</th>\n",
       "      <th>day</th>\n",
       "      <th>month</th>\n",
       "      <th>day_of_week</th>\n",
       "      <th>time_delta</th>\n",
       "    </tr>\n",
       "  </thead>\n",
       "  <tbody>\n",
       "    <tr>\n",
       "      <th>0</th>\n",
       "      <td>0</td>\n",
       "      <td>2</td>\n",
       "      <td>2017-10-12 12:24:07</td>\n",
       "      <td>20000.0</td>\n",
       "      <td>0</td>\n",
       "      <td>0</td>\n",
       "      <td>0</td>\n",
       "      <td>0</td>\n",
       "      <td>24</td>\n",
       "      <td>12</td>\n",
       "      <td>12</td>\n",
       "      <td>10</td>\n",
       "      <td>3</td>\n",
       "      <td>0</td>\n",
       "    </tr>\n",
       "    <tr>\n",
       "      <th>1</th>\n",
       "      <td>0</td>\n",
       "      <td>19</td>\n",
       "      <td>2017-10-21 00:00:00</td>\n",
       "      <td>5023.0</td>\n",
       "      <td>0</td>\n",
       "      <td>0</td>\n",
       "      <td>1</td>\n",
       "      <td>0</td>\n",
       "      <td>0</td>\n",
       "      <td>0</td>\n",
       "      <td>21</td>\n",
       "      <td>10</td>\n",
       "      <td>5</td>\n",
       "      <td>732953</td>\n",
       "    </tr>\n",
       "    <tr>\n",
       "      <th>2</th>\n",
       "      <td>0</td>\n",
       "      <td>1</td>\n",
       "      <td>2017-10-21 00:00:00</td>\n",
       "      <td>2031.0</td>\n",
       "      <td>0</td>\n",
       "      <td>0</td>\n",
       "      <td>1</td>\n",
       "      <td>0</td>\n",
       "      <td>0</td>\n",
       "      <td>0</td>\n",
       "      <td>21</td>\n",
       "      <td>10</td>\n",
       "      <td>5</td>\n",
       "      <td>0</td>\n",
       "    </tr>\n",
       "    <tr>\n",
       "      <th>3</th>\n",
       "      <td>0</td>\n",
       "      <td>9</td>\n",
       "      <td>2017-10-24 13:14:24</td>\n",
       "      <td>36562.0</td>\n",
       "      <td>0</td>\n",
       "      <td>0</td>\n",
       "      <td>0</td>\n",
       "      <td>0</td>\n",
       "      <td>14</td>\n",
       "      <td>13</td>\n",
       "      <td>24</td>\n",
       "      <td>10</td>\n",
       "      <td>1</td>\n",
       "      <td>306864</td>\n",
       "    </tr>\n",
       "    <tr>\n",
       "      <th>4</th>\n",
       "      <td>0</td>\n",
       "      <td>10</td>\n",
       "      <td>2017-12-05 00:00:00</td>\n",
       "      <td>767.0</td>\n",
       "      <td>0</td>\n",
       "      <td>0</td>\n",
       "      <td>0</td>\n",
       "      <td>0</td>\n",
       "      <td>0</td>\n",
       "      <td>0</td>\n",
       "      <td>5</td>\n",
       "      <td>12</td>\n",
       "      <td>1</td>\n",
       "      <td>3581136</td>\n",
       "    </tr>\n",
       "  </tbody>\n",
       "</table>\n",
       "</div>"
      ],
      "text/plain": [
       "   user_id  mcc_code           timestamp   amount  global_target  \\\n",
       "0        0         2 2017-10-12 12:24:07  20000.0              0   \n",
       "1        0        19 2017-10-21 00:00:00   5023.0              0   \n",
       "2        0         1 2017-10-21 00:00:00   2031.0              0   \n",
       "3        0         9 2017-10-24 13:14:24  36562.0              0   \n",
       "4        0        10 2017-12-05 00:00:00    767.0              0   \n",
       "\n",
       "   holiday_target  weekend_target  churn_target  minute  hour  day  month  \\\n",
       "0               0               0             0      24    12   12     10   \n",
       "1               0               1             0       0     0   21     10   \n",
       "2               0               1             0       0     0   21     10   \n",
       "3               0               0             0      14    13   24     10   \n",
       "4               0               0             0       0     0    5     12   \n",
       "\n",
       "   day_of_week  time_delta  \n",
       "0            3           0  \n",
       "1            5      732953  \n",
       "2            5           0  \n",
       "3            1      306864  \n",
       "4            1     3581136  "
      ]
     },
     "execution_count": 3,
     "metadata": {},
     "output_type": "execute_result"
    }
   ],
   "source": [
    "df = pd.read_parquet(\"data/preprocessed_new/churn.parquet\")\n",
    "df.head()"
   ]
  },
  {
   "attachments": {},
   "cell_type": "markdown",
   "metadata": {},
   "source": [
    "## Prepare dataset and dataloaders"
   ]
  },
  {
   "cell_type": "code",
   "execution_count": 4,
   "metadata": {},
   "outputs": [],
   "source": [
    "preprocessor = PandasDataPreprocessor(\n",
    "    col_id=\"user_id\",\n",
    "    col_event_time=\"timestamp\",\n",
    "    event_time_transformation=\"dt_to_timestamp\",\n",
    "    cols_category=[\"mcc_code\"],\n",
    "    cols_first_item=[\"global_target\"]\n",
    ")"
   ]
  },
  {
   "cell_type": "code",
   "execution_count": 5,
   "metadata": {},
   "outputs": [],
   "source": [
    "data = preprocessor.fit_transform(df)"
   ]
  },
  {
   "cell_type": "code",
   "execution_count": 6,
   "metadata": {},
   "outputs": [],
   "source": [
    "val_size = 0.1\n",
    "test_size = 0.1\n",
    "\n",
    "train, val_test = train_test_split(data, test_size=test_size+val_size, random_state=42)\n",
    "val, test = train_test_split(val_test, test_size=test_size/(test_size+val_size), random_state=42)"
   ]
  },
  {
   "cell_type": "code",
   "execution_count": 7,
   "metadata": {},
   "outputs": [],
   "source": [
    "train_ds = TS2VecDataset(train, min_seq_len=15)\n",
    "val_ds = TS2VecDataset(val, min_seq_len=15)\n",
    "test_ds = TS2VecDataset(test, min_seq_len=15)"
   ]
  },
  {
   "cell_type": "code",
   "execution_count": 8,
   "metadata": {},
   "outputs": [],
   "source": [
    "datamodule = PtlsDataModule(\n",
    "    train_data=train_ds,\n",
    "    valid_data=val_ds,\n",
    "    train_batch_size=16,\n",
    "    valid_batch_size=16,\n",
    "    train_num_workers=8,\n",
    "    valid_num_workers=8\n",
    ")"
   ]
  },
  {
   "attachments": {},
   "cell_type": "markdown",
   "metadata": {},
   "source": [
    "# TS2Vec"
   ]
  },
  {
   "cell_type": "markdown",
   "metadata": {},
   "source": [
    "## Model training"
   ]
  },
  {
   "cell_type": "code",
   "execution_count": 9,
   "metadata": {},
   "outputs": [],
   "source": [
    "trx_encoder = TrxEncoder(\n",
    "    embeddings={\n",
    "        \"mcc_code\": {\"in\": 345, \"out\": 24}\n",
    "    },\n",
    "    numeric_values={\n",
    "        \"amount\": \"identity\"\n",
    "    },\n",
    "    use_batch_norm_with_lens=True,\n",
    "    norm_embeddings=False,\n",
    "    embeddings_noise=0.0003\n",
    ")\n",
    "\n",
    "seq_encoder = ConvSeqEncoder(\n",
    "    trx_encoder,\n",
    "    hidden_size=1024,\n",
    "    num_layers=10,\n",
    "    dropout=0.1,\n",
    ")"
   ]
  },
  {
   "cell_type": "code",
   "execution_count": 10,
   "metadata": {},
   "outputs": [],
   "source": [
    "import torch\n",
    "import torch.nn as nn\n",
    "import torch.nn.functional as F\n",
    "\n",
    "\n",
    "def hierarchical_contrastive_loss_joint(z1, z2, alpha=0.5, temporal_unit=0):\n",
    "    loss = torch.tensor(0., device=z1.device)\n",
    "    d = 0\n",
    "    while z1.size(1) > 1:\n",
    "        #if alpha != 0:\n",
    "        #    loss += alpha * instance_contrastive_loss(z1, z2)\n",
    "        #if d >= temporal_unit:\n",
    "        #    if 1 - alpha != 0:\n",
    "        #        loss += (1 - alpha) * temporal_contrastive_loss(z1, z2)\n",
    "        loss += level_contrastive_loss(z1, z2)\n",
    "        d += 1\n",
    "        z1 = F.max_pool1d(z1.transpose(1, 2), kernel_size=2).transpose(1, 2)\n",
    "        z2 = F.max_pool1d(z2.transpose(1, 2), kernel_size=2).transpose(1, 2)\n",
    "    if z1.size(1) == 1:\n",
    "        if alpha != 0:\n",
    "            loss += level_contrastive_loss(z1, z2)\n",
    "        d += 1\n",
    "    return loss / d\n",
    "\n",
    "def level_contrastive_loss(z1, z2):\n",
    "    B, _, C= z1.shape\n",
    "\n",
    "    if B == 1:\n",
    "        return z1.new_tensor(0., requires_grad=True)\n",
    "    \n",
    "    z1 = z1.reshape(-1, C) # (BT, C)\n",
    "    z2 = z2.reshape(-1, C) # (BT, C)\n",
    "\n",
    "    z = torch.cat([z1, z2], dim=0) # (2BT, C)\n",
    "    sim = torch.matmul(z, z.T) # (2BT, 2BT)\n",
    "\n",
    "    loss = sim.exp().sum(dim=1).log().mean() - 2 * (z1 * z2).sum(dim=1).mean() \n",
    "\n",
    "    return loss\n",
    "\n",
    "\n",
    "class HierarchicalContrastiveLossJoint(nn.Module):\n",
    "    def __init__(self, alpha=0.5, temporal_unit=0):\n",
    "        super().__init__()\n",
    "\n",
    "        self.alpha = alpha\n",
    "        self.temporal_unit = temporal_unit\n",
    "\n",
    "    def forward(self, embeddings, _):\n",
    "        out1, out2 = embeddings\n",
    "        return hierarchical_contrastive_loss_joint(out1, out2, self.alpha, self.temporal_unit)"
   ]
  },
  {
   "cell_type": "code",
   "execution_count": 11,
   "metadata": {},
   "outputs": [],
   "source": [
    "lr_scheduler_partial = partial(torch.optim.lr_scheduler.ReduceLROnPlateau, factor=.9025, patience=5, mode=\"min\")\n",
    "optimizer_partial = partial(torch.optim.Adam, lr=4e-3)\n",
    "\n",
    "model = TS2Vec(\n",
    "    seq_encoder,\n",
    "    loss = HierarchicalContrastiveLossJoint(),\n",
    "    optimizer_partial=optimizer_partial,\n",
    "    lr_scheduler_partial=lr_scheduler_partial\n",
    ")"
   ]
  },
  {
   "cell_type": "code",
   "execution_count": 12,
   "metadata": {},
   "outputs": [
    {
     "name": "stderr",
     "output_type": "stream",
     "text": [
      "GPU available: True, used: True\n",
      "TPU available: False, using: 0 TPU cores\n",
      "IPU available: False, using: 0 IPUs\n",
      "HPU available: False, using: 0 HPUs\n",
      "LOCAL_RANK: 0 - CUDA_VISIBLE_DEVICES: [0,1,2,3]\n",
      "\n",
      "  | Name         | Type                             | Params\n",
      "------------------------------------------------------------------\n",
      "0 | _loss        | HierarchicalContrastiveLossJoint | 0     \n",
      "1 | _seq_encoder | ConvSeqEncoder                   | 3.3 M \n",
      "2 | _head        | Head                             | 0     \n",
      "3 | valid_loss   | MeanMetric                       | 0     \n",
      "------------------------------------------------------------------\n",
      "3.3 M     Trainable params\n",
      "0         Non-trainable params\n",
      "3.3 M     Total params\n",
      "13.190    Total estimated model params size (MB)\n"
     ]
    },
    {
     "data": {
      "application/vnd.jupyter.widget-view+json": {
       "model_id": "015c230167e148d0aa03968d83e85b22",
       "version_major": 2,
       "version_minor": 0
      },
      "text/plain": [
       "Sanity Checking: 0it [00:00, ?it/s]"
      ]
     },
     "metadata": {},
     "output_type": "display_data"
    },
    {
     "data": {
      "application/vnd.jupyter.widget-view+json": {
       "model_id": "3e43730edf1a49229f603eca042d7eb5",
       "version_major": 2,
       "version_minor": 0
      },
      "text/plain": [
       "Training: 0it [00:00, ?it/s]"
      ]
     },
     "metadata": {},
     "output_type": "display_data"
    },
    {
     "data": {
      "application/vnd.jupyter.widget-view+json": {
       "model_id": "e8cba2212a684c3b854be0366c746edd",
       "version_major": 2,
       "version_minor": 0
      },
      "text/plain": [
       "Validation: 0it [00:00, ?it/s]"
      ]
     },
     "metadata": {},
     "output_type": "display_data"
    },
    {
     "data": {
      "application/vnd.jupyter.widget-view+json": {
       "model_id": "f2e28ea9a6e94fd58fa1b0a285490266",
       "version_major": 2,
       "version_minor": 0
      },
      "text/plain": [
       "Validation: 0it [00:00, ?it/s]"
      ]
     },
     "metadata": {},
     "output_type": "display_data"
    },
    {
     "data": {
      "application/vnd.jupyter.widget-view+json": {
       "model_id": "7ef69681700240ed83dd517a305d479f",
       "version_major": 2,
       "version_minor": 0
      },
      "text/plain": [
       "Validation: 0it [00:00, ?it/s]"
      ]
     },
     "metadata": {},
     "output_type": "display_data"
    },
    {
     "data": {
      "application/vnd.jupyter.widget-view+json": {
       "model_id": "00d5619c5d864a289ec047575b4c3757",
       "version_major": 2,
       "version_minor": 0
      },
      "text/plain": [
       "Validation: 0it [00:00, ?it/s]"
      ]
     },
     "metadata": {},
     "output_type": "display_data"
    },
    {
     "name": "stderr",
     "output_type": "stream",
     "text": [
      "/home/macro-micro-coles/miniconda/envs/env/lib/python3.9/site-packages/torchmetrics/utilities/prints.py:42: UserWarning: Encounted `nan` values in tensor. Will be removed.\n",
      "  warnings.warn(*args, **kwargs)  # noqa: B028\n"
     ]
    },
    {
     "data": {
      "application/vnd.jupyter.widget-view+json": {
       "model_id": "223eb4042cd141a4b3315866fe2c552c",
       "version_major": 2,
       "version_minor": 0
      },
      "text/plain": [
       "Validation: 0it [00:00, ?it/s]"
      ]
     },
     "metadata": {},
     "output_type": "display_data"
    },
    {
     "data": {
      "application/vnd.jupyter.widget-view+json": {
       "model_id": "f3f5cdbc343c4af2baba9fb4b08e6fce",
       "version_major": 2,
       "version_minor": 0
      },
      "text/plain": [
       "Validation: 0it [00:00, ?it/s]"
      ]
     },
     "metadata": {},
     "output_type": "display_data"
    },
    {
     "data": {
      "application/vnd.jupyter.widget-view+json": {
       "model_id": "77540db6d8d746dea21dbb0c5399d7eb",
       "version_major": 2,
       "version_minor": 0
      },
      "text/plain": [
       "Validation: 0it [00:00, ?it/s]"
      ]
     },
     "metadata": {},
     "output_type": "display_data"
    },
    {
     "name": "stderr",
     "output_type": "stream",
     "text": [
      "/home/macro-micro-coles/miniconda/envs/env/lib/python3.9/site-packages/pytorch_lightning/trainer/trainer.py:726: UserWarning: Detected KeyboardInterrupt, attempting graceful shutdown...\n",
      "  rank_zero_warn(\"Detected KeyboardInterrupt, attempting graceful shutdown...\")\n"
     ]
    }
   ],
   "source": [
    "checkpoint = ModelCheckpoint(\n",
    "    monitor=\"valid_loss\", \n",
    "    mode=\"min\"\n",
    ")\n",
    "\n",
    "trainer = Trainer(\n",
    "    max_epochs=50,\n",
    "    devices=[0],\n",
    "    accelerator=\"gpu\",\n",
    "    callbacks=[checkpoint]\n",
    ")\n",
    "\n",
    "trainer.fit(model, datamodule)"
   ]
  },
  {
   "cell_type": "code",
   "execution_count": 13,
   "metadata": {},
   "outputs": [
    {
     "data": {
      "text/plain": [
       "<All keys matched successfully>"
      ]
     },
     "execution_count": 13,
     "metadata": {},
     "output_type": "execute_result"
    }
   ],
   "source": [
    "model.load_state_dict(torch.load(checkpoint.best_model_path)[\"state_dict\"])"
   ]
  },
  {
   "cell_type": "code",
   "execution_count": 60,
   "metadata": {},
   "outputs": [],
   "source": [
    "torch.save(model.seq_encoder.state_dict(), \"ts2vec_churn.pth\")"
   ]
  },
  {
   "cell_type": "markdown",
   "metadata": {},
   "source": [
    "## Model evaluation"
   ]
  },
  {
   "cell_type": "code",
   "execution_count": 14,
   "metadata": {},
   "outputs": [],
   "source": [
    "train_val_ds = TS2VecDataset(train + val, min_seq_len=15)"
   ]
  },
  {
   "cell_type": "code",
   "execution_count": 15,
   "metadata": {},
   "outputs": [
    {
     "name": "stdout",
     "output_type": "stream",
     "text": [
      "Train size: 3961\n",
      "Test size: 443\n"
     ]
    }
   ],
   "source": [
    "X_train, y_train = encode_data(model.seq_encoder, train_val_ds)\n",
    "X_test, y_test = encode_data(model.seq_encoder, test_ds)\n",
    "\n",
    "print(\"Train size:\", len(y_train))\n",
    "print(\"Test size:\", len(y_test))"
   ]
  },
  {
   "cell_type": "code",
   "execution_count": 16,
   "metadata": {},
   "outputs": [
    {
     "name": "stderr",
     "output_type": "stream",
     "text": [
      "100%|██████████| 10/10 [00:34<00:00,  3.41s/it]\n"
     ]
    }
   ],
   "source": [
    "results = bootstrap_eval(X_train, X_test, y_train, y_test, n_runs=10)"
   ]
  },
  {
   "cell_type": "code",
   "execution_count": 17,
   "metadata": {},
   "outputs": [
    {
     "data": {
      "text/html": [
       "<div>\n",
       "<style scoped>\n",
       "    .dataframe tbody tr th:only-of-type {\n",
       "        vertical-align: middle;\n",
       "    }\n",
       "\n",
       "    .dataframe tbody tr th {\n",
       "        vertical-align: top;\n",
       "    }\n",
       "\n",
       "    .dataframe thead th {\n",
       "        text-align: right;\n",
       "    }\n",
       "</style>\n",
       "<table border=\"1\" class=\"dataframe\">\n",
       "  <thead>\n",
       "    <tr style=\"text-align: right;\">\n",
       "      <th></th>\n",
       "      <th>ROC-AUC</th>\n",
       "      <th>PR-AUC</th>\n",
       "      <th>Accuracy</th>\n",
       "    </tr>\n",
       "  </thead>\n",
       "  <tbody>\n",
       "    <tr>\n",
       "      <th>0</th>\n",
       "      <td>0.613827</td>\n",
       "      <td>0.680214</td>\n",
       "      <td>0.598194</td>\n",
       "    </tr>\n",
       "    <tr>\n",
       "      <th>1</th>\n",
       "      <td>0.605616</td>\n",
       "      <td>0.682446</td>\n",
       "      <td>0.602709</td>\n",
       "    </tr>\n",
       "    <tr>\n",
       "      <th>2</th>\n",
       "      <td>0.590719</td>\n",
       "      <td>0.687127</td>\n",
       "      <td>0.623025</td>\n",
       "    </tr>\n",
       "    <tr>\n",
       "      <th>3</th>\n",
       "      <td>0.605616</td>\n",
       "      <td>0.684079</td>\n",
       "      <td>0.618510</td>\n",
       "    </tr>\n",
       "    <tr>\n",
       "      <th>4</th>\n",
       "      <td>0.613933</td>\n",
       "      <td>0.700334</td>\n",
       "      <td>0.591422</td>\n",
       "    </tr>\n",
       "    <tr>\n",
       "      <th>5</th>\n",
       "      <td>0.605331</td>\n",
       "      <td>0.680462</td>\n",
       "      <td>0.582393</td>\n",
       "    </tr>\n",
       "    <tr>\n",
       "      <th>6</th>\n",
       "      <td>0.584137</td>\n",
       "      <td>0.659196</td>\n",
       "      <td>0.591422</td>\n",
       "    </tr>\n",
       "    <tr>\n",
       "      <th>7</th>\n",
       "      <td>0.605860</td>\n",
       "      <td>0.688606</td>\n",
       "      <td>0.591422</td>\n",
       "    </tr>\n",
       "    <tr>\n",
       "      <th>8</th>\n",
       "      <td>0.595163</td>\n",
       "      <td>0.682059</td>\n",
       "      <td>0.593679</td>\n",
       "    </tr>\n",
       "    <tr>\n",
       "      <th>9</th>\n",
       "      <td>0.615171</td>\n",
       "      <td>0.686740</td>\n",
       "      <td>0.595937</td>\n",
       "    </tr>\n",
       "  </tbody>\n",
       "</table>\n",
       "</div>"
      ],
      "text/plain": [
       "    ROC-AUC    PR-AUC  Accuracy\n",
       "0  0.613827  0.680214  0.598194\n",
       "1  0.605616  0.682446  0.602709\n",
       "2  0.590719  0.687127  0.623025\n",
       "3  0.605616  0.684079  0.618510\n",
       "4  0.613933  0.700334  0.591422\n",
       "5  0.605331  0.680462  0.582393\n",
       "6  0.584137  0.659196  0.591422\n",
       "7  0.605860  0.688606  0.591422\n",
       "8  0.595163  0.682059  0.593679\n",
       "9  0.615171  0.686740  0.595937"
      ]
     },
     "execution_count": 17,
     "metadata": {},
     "output_type": "execute_result"
    }
   ],
   "source": [
    "results"
   ]
  },
  {
   "cell_type": "code",
   "execution_count": 59,
   "metadata": {},
   "outputs": [
    {
     "data": {
      "text/html": [
       "<div>\n",
       "<style scoped>\n",
       "    .dataframe tbody tr th:only-of-type {\n",
       "        vertical-align: middle;\n",
       "    }\n",
       "\n",
       "    .dataframe tbody tr th {\n",
       "        vertical-align: top;\n",
       "    }\n",
       "\n",
       "    .dataframe thead th {\n",
       "        text-align: right;\n",
       "    }\n",
       "</style>\n",
       "<table border=\"1\" class=\"dataframe\">\n",
       "  <thead>\n",
       "    <tr style=\"text-align: right;\">\n",
       "      <th></th>\n",
       "      <th>ROC-AUC</th>\n",
       "      <th>PR-AUC</th>\n",
       "    </tr>\n",
       "  </thead>\n",
       "  <tbody>\n",
       "    <tr>\n",
       "      <th>mean</th>\n",
       "      <td>0.675032</td>\n",
       "      <td>0.756812</td>\n",
       "    </tr>\n",
       "    <tr>\n",
       "      <th>std</th>\n",
       "      <td>0.012706</td>\n",
       "      <td>0.007555</td>\n",
       "    </tr>\n",
       "  </tbody>\n",
       "</table>\n",
       "</div>"
      ],
      "text/plain": [
       "       ROC-AUC    PR-AUC\n",
       "mean  0.675032  0.756812\n",
       "std   0.012706  0.007555"
      ]
     },
     "execution_count": 59,
     "metadata": {},
     "output_type": "execute_result"
    }
   ],
   "source": [
    "results.agg([\"mean\", \"std\"])"
   ]
  },
  {
   "attachments": {},
   "cell_type": "markdown",
   "metadata": {},
   "source": [
    "# TS2Vec with time features"
   ]
  },
  {
   "attachments": {},
   "cell_type": "markdown",
   "metadata": {},
   "source": [
    "## Model training"
   ]
  },
  {
   "cell_type": "code",
   "execution_count": 23,
   "metadata": {},
   "outputs": [],
   "source": [
    "trx_encoder = TrxEncoder(\n",
    "    embeddings={\n",
    "        \"mcc_code\": {\"in\": 345, \"out\": 24}\n",
    "    },\n",
    "    numeric_values={\n",
    "        \"amount\": \"identity\",\n",
    "        \"event_time\": \"identity\",\n",
    "        \"time_delta\": \"identity\",\n",
    "    },\n",
    "    use_batch_norm_with_lens=True,\n",
    "    norm_embeddings=False,\n",
    "    embeddings_noise=0.0003\n",
    ")\n",
    "\n",
    "seq_encoder = ConvSeqEncoder(\n",
    "    trx_encoder,\n",
    "    hidden_size=1024,\n",
    "    num_layers=10,\n",
    "    dropout=0.1,\n",
    ")"
   ]
  },
  {
   "cell_type": "code",
   "execution_count": 24,
   "metadata": {},
   "outputs": [],
   "source": [
    "lr_scheduler_partial = partial(torch.optim.lr_scheduler.ReduceLROnPlateau, factor=.9025, patience=5, mode=\"min\")\n",
    "optimizer_partial = partial(torch.optim.Adam, lr=4e-3)\n",
    "\n",
    "model = TS2Vec(\n",
    "    seq_encoder,\n",
    "    optimizer_partial=optimizer_partial,\n",
    "    lr_scheduler_partial=lr_scheduler_partial\n",
    ")"
   ]
  },
  {
   "cell_type": "code",
   "execution_count": null,
   "metadata": {},
   "outputs": [],
   "source": [
    "checkpoint = ModelCheckpoint(\n",
    "    monitor=\"valid_loss\", \n",
    "    mode=\"min\"\n",
    ")\n",
    "\n",
    "trainer = Trainer(\n",
    "    max_epochs=50,\n",
    "    devices=[3],\n",
    "    accelerator=\"gpu\",\n",
    "    callbacks=[checkpoint]\n",
    ")\n",
    "\n",
    "trainer.fit(model, datamodule)"
   ]
  },
  {
   "cell_type": "code",
   "execution_count": 34,
   "metadata": {},
   "outputs": [
    {
     "data": {
      "text/plain": [
       "<All keys matched successfully>"
      ]
     },
     "execution_count": 34,
     "metadata": {},
     "output_type": "execute_result"
    }
   ],
   "source": [
    "model.load_state_dict(torch.load(checkpoint.best_model_path)[\"state_dict\"])"
   ]
  },
  {
   "cell_type": "code",
   "execution_count": 40,
   "metadata": {},
   "outputs": [],
   "source": [
    "torch.save(model.seq_encoder.state_dict(), \"ts2vec_churn_date.pth\")"
   ]
  },
  {
   "attachments": {},
   "cell_type": "markdown",
   "metadata": {},
   "source": [
    "## Model evaluation"
   ]
  },
  {
   "cell_type": "code",
   "execution_count": 35,
   "metadata": {},
   "outputs": [],
   "source": [
    "train_val_ds = TS2VecDataset(train + val, min_seq_len=15)"
   ]
  },
  {
   "cell_type": "code",
   "execution_count": 36,
   "metadata": {},
   "outputs": [
    {
     "name": "stdout",
     "output_type": "stream",
     "text": [
      "Train size: 3961\n",
      "Test size: 443\n"
     ]
    }
   ],
   "source": [
    "X_train, y_train = encode_data(model.seq_encoder, train_val_ds)\n",
    "X_test, y_test = encode_data(model.seq_encoder, test_ds)\n",
    "\n",
    "print(\"Train size:\", len(y_train))\n",
    "print(\"Test size:\", len(y_test))"
   ]
  },
  {
   "cell_type": "code",
   "execution_count": 37,
   "metadata": {},
   "outputs": [],
   "source": [
    "results = bootstrap_eval(X_train, X_test, y_train, y_test, n_runs=10)"
   ]
  },
  {
   "cell_type": "code",
   "execution_count": 38,
   "metadata": {},
   "outputs": [
    {
     "data": {
      "text/html": [
       "<div>\n",
       "<style scoped>\n",
       "    .dataframe tbody tr th:only-of-type {\n",
       "        vertical-align: middle;\n",
       "    }\n",
       "\n",
       "    .dataframe tbody tr th {\n",
       "        vertical-align: top;\n",
       "    }\n",
       "\n",
       "    .dataframe thead th {\n",
       "        text-align: right;\n",
       "    }\n",
       "</style>\n",
       "<table border=\"1\" class=\"dataframe\">\n",
       "  <thead>\n",
       "    <tr style=\"text-align: right;\">\n",
       "      <th></th>\n",
       "      <th>ROC-AUC</th>\n",
       "      <th>PR-AUC</th>\n",
       "    </tr>\n",
       "  </thead>\n",
       "  <tbody>\n",
       "    <tr>\n",
       "      <th>0</th>\n",
       "      <td>0.734573</td>\n",
       "      <td>0.807961</td>\n",
       "    </tr>\n",
       "    <tr>\n",
       "      <th>1</th>\n",
       "      <td>0.715507</td>\n",
       "      <td>0.813229</td>\n",
       "    </tr>\n",
       "    <tr>\n",
       "      <th>2</th>\n",
       "      <td>0.726342</td>\n",
       "      <td>0.804885</td>\n",
       "    </tr>\n",
       "    <tr>\n",
       "      <th>3</th>\n",
       "      <td>0.721855</td>\n",
       "      <td>0.796088</td>\n",
       "    </tr>\n",
       "    <tr>\n",
       "      <th>4</th>\n",
       "      <td>0.728860</td>\n",
       "      <td>0.818177</td>\n",
       "    </tr>\n",
       "    <tr>\n",
       "      <th>5</th>\n",
       "      <td>0.709264</td>\n",
       "      <td>0.796140</td>\n",
       "    </tr>\n",
       "    <tr>\n",
       "      <th>6</th>\n",
       "      <td>0.732415</td>\n",
       "      <td>0.812827</td>\n",
       "    </tr>\n",
       "    <tr>\n",
       "      <th>7</th>\n",
       "      <td>0.718575</td>\n",
       "      <td>0.813551</td>\n",
       "    </tr>\n",
       "    <tr>\n",
       "      <th>8</th>\n",
       "      <td>0.716311</td>\n",
       "      <td>0.802546</td>\n",
       "    </tr>\n",
       "    <tr>\n",
       "      <th>9</th>\n",
       "      <td>0.708757</td>\n",
       "      <td>0.794835</td>\n",
       "    </tr>\n",
       "  </tbody>\n",
       "</table>\n",
       "</div>"
      ],
      "text/plain": [
       "    ROC-AUC    PR-AUC\n",
       "0  0.734573  0.807961\n",
       "1  0.715507  0.813229\n",
       "2  0.726342  0.804885\n",
       "3  0.721855  0.796088\n",
       "4  0.728860  0.818177\n",
       "5  0.709264  0.796140\n",
       "6  0.732415  0.812827\n",
       "7  0.718575  0.813551\n",
       "8  0.716311  0.802546\n",
       "9  0.708757  0.794835"
      ]
     },
     "execution_count": 38,
     "metadata": {},
     "output_type": "execute_result"
    }
   ],
   "source": [
    "results"
   ]
  },
  {
   "cell_type": "code",
   "execution_count": 39,
   "metadata": {},
   "outputs": [
    {
     "data": {
      "text/html": [
       "<div>\n",
       "<style scoped>\n",
       "    .dataframe tbody tr th:only-of-type {\n",
       "        vertical-align: middle;\n",
       "    }\n",
       "\n",
       "    .dataframe tbody tr th {\n",
       "        vertical-align: top;\n",
       "    }\n",
       "\n",
       "    .dataframe thead th {\n",
       "        text-align: right;\n",
       "    }\n",
       "</style>\n",
       "<table border=\"1\" class=\"dataframe\">\n",
       "  <thead>\n",
       "    <tr style=\"text-align: right;\">\n",
       "      <th></th>\n",
       "      <th>ROC-AUC</th>\n",
       "      <th>PR-AUC</th>\n",
       "    </tr>\n",
       "  </thead>\n",
       "  <tbody>\n",
       "    <tr>\n",
       "      <th>mean</th>\n",
       "      <td>0.721246</td>\n",
       "      <td>0.806024</td>\n",
       "    </tr>\n",
       "    <tr>\n",
       "      <th>std</th>\n",
       "      <td>0.009133</td>\n",
       "      <td>0.008441</td>\n",
       "    </tr>\n",
       "  </tbody>\n",
       "</table>\n",
       "</div>"
      ],
      "text/plain": [
       "       ROC-AUC    PR-AUC\n",
       "mean  0.721246  0.806024\n",
       "std   0.009133  0.008441"
      ]
     },
     "execution_count": 39,
     "metadata": {},
     "output_type": "execute_result"
    }
   ],
   "source": [
    "results.agg([\"mean\", \"std\"])"
   ]
  },
  {
   "cell_type": "code",
   "execution_count": null,
   "metadata": {},
   "outputs": [],
   "source": []
  }
 ],
 "metadata": {
  "kernelspec": {
   "display_name": "env",
   "language": "python",
   "name": "python3"
  },
  "language_info": {
   "codemirror_mode": {
    "name": "ipython",
    "version": 3
   },
   "file_extension": ".py",
   "mimetype": "text/x-python",
   "name": "python",
   "nbconvert_exporter": "python",
   "pygments_lexer": "ipython3",
   "version": "3.9.16"
  },
  "orig_nbformat": 4,
  "vscode": {
   "interpreter": {
    "hash": "1d85f8d091281e8cdbbabc30d35abdaebd4eb091dd84d434d9fa6db6a3942f76"
   }
  }
 },
 "nbformat": 4,
 "nbformat_minor": 2
}
