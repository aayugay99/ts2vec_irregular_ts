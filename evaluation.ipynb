{
 "cells": [
  {
   "cell_type": "code",
   "execution_count": 1,
   "metadata": {},
   "outputs": [],
   "source": [
    "import os \n",
    "\n",
    "os.chdir(\"app/\")"
   ]
  },
  {
   "cell_type": "code",
   "execution_count": 2,
   "metadata": {},
   "outputs": [],
   "source": [
    "import pandas as pd\n",
    "\n",
    "import json\n",
    "import glob\n",
    "import hydra\n",
    "from hydra import initialize, compose\n",
    "\n",
    "import torch\n",
    "\n",
    "from ptls.preprocessing import PandasDataPreprocessor\n",
    "from ptls.data_load.iterable_processing import SeqLenFilter\n",
    "from ptls.data_load.datasets import MemoryMapDataset\n",
    "\n",
    "from sklearn.model_selection import train_test_split\n",
    "\n",
    "from utils.encode import encode_data\n",
    "from utils.evaluation import bootstrap_eval"
   ]
  },
  {
   "cell_type": "code",
   "execution_count": 3,
   "metadata": {},
   "outputs": [],
   "source": [
    "def evaluate_checkpoints(dataset):\n",
    "    assert dataset in [\"churn\", \"age\"]\n",
    "\n",
    "    df = pd.read_parquet(f\"data/preprocessed_new/{dataset}.parquet\")\n",
    "    \n",
    "    preprocessor = PandasDataPreprocessor(\n",
    "        col_id=\"user_id\",\n",
    "        col_event_time=\"timestamp\",\n",
    "        event_time_transformation=\"dt_to_timestamp\" if dataset == \"churn\" else \"none\",\n",
    "        cols_category=[\"mcc_code\"],\n",
    "        cols_first_item=[\"global_target\"]\n",
    "    )\n",
    "\n",
    "    data = preprocessor.fit_transform(df)\n",
    "\n",
    "    val_size = 0.1\n",
    "    test_size = 0.1\n",
    "\n",
    "    train, val_test = train_test_split(data, test_size=test_size+val_size, random_state=42)\n",
    "    val, test = train_test_split(val_test, test_size=test_size/(test_size+val_size), random_state=42)\n",
    "\n",
    "    min_seq_len = 15 if dataset == \"churn\" else 25\n",
    "\n",
    "    train_churn_ds = MemoryMapDataset(train + val, [SeqLenFilter(min_seq_len=min_seq_len)])\n",
    "    test_churn_ds = MemoryMapDataset(test, [SeqLenFilter(min_seq_len=min_seq_len)])\n",
    "    \n",
    "    config_paths = glob.glob(f\"checkpoints/{dataset}/**/*.yaml\", recursive=True)\n",
    "    \n",
    "    results_dict = {}\n",
    "    for path in config_paths:\n",
    "        path_split = path.split(\"/\")\n",
    "        config_name = path_split[-1].replace(\".yaml\", \"\")\n",
    "        path_to_config = \"/\".join(path_split[:-1])\n",
    "\n",
    "        with initialize(version_base=None, config_path=path_to_config):\n",
    "            cfg = compose(config_name=config_name)\n",
    "            \n",
    "        seq_encoder = hydra.utils.instantiate(cfg[\"seq_encoder\"])\n",
    "        seq_encoder.load_state_dict(torch.load(cfg[\"path_to_state_dict\"]))\n",
    "\n",
    "        X_train, y_train = encode_data(seq_encoder, train_churn_ds)\n",
    "        X_test, y_test = encode_data(seq_encoder, test_churn_ds)\n",
    "\n",
    "        results = bootstrap_eval(X_train, X_test, y_train, y_test)\n",
    "        \n",
    "        if not os.path.exists(\"results\"):\n",
    "            os.mkdir(\"results\")\n",
    "        \n",
    "        results.to_csv(f\"results/{config_name}.csv\")\n",
    "        \n",
    "        results_dict[config_name] = results.agg([\"mean\", \"std\"]).to_dict()\n",
    "\n",
    "    return results_dict"
   ]
  },
  {
   "attachments": {},
   "cell_type": "markdown",
   "metadata": {},
   "source": [
    "# Churn dataset"
   ]
  },
  {
   "cell_type": "code",
   "execution_count": 4,
   "metadata": {},
   "outputs": [
    {
     "name": "stderr",
     "output_type": "stream",
     "text": [
      "100%|██████████| 10/10 [00:40<00:00,  4.07s/it]\n",
      "100%|██████████| 10/10 [00:40<00:00,  4.08s/it]\n",
      "100%|██████████| 10/10 [00:39<00:00,  4.00s/it]\n",
      "100%|██████████| 10/10 [00:38<00:00,  3.83s/it]\n"
     ]
    }
   ],
   "source": [
    "results_churn = evaluate_checkpoints(\"churn\")"
   ]
  },
  {
   "cell_type": "code",
   "execution_count": 8,
   "metadata": {},
   "outputs": [],
   "source": [
    "with open(\"results/churn.json\", \"w\") as f:\n",
    "    json.dump(results_churn, f)"
   ]
  },
  {
   "attachments": {},
   "cell_type": "markdown",
   "metadata": {},
   "source": [
    "# Age dataset"
   ]
  },
  {
   "cell_type": "code",
   "execution_count": 4,
   "metadata": {},
   "outputs": [
    {
     "name": "stderr",
     "output_type": "stream",
     "text": [
      "100%|██████████| 10/10 [06:46<00:00, 40.68s/it]\n",
      "100%|██████████| 10/10 [07:22<00:00, 44.25s/it]\n",
      "100%|██████████| 10/10 [06:58<00:00, 41.84s/it]\n",
      "100%|██████████| 10/10 [06:45<00:00, 40.58s/it]\n"
     ]
    }
   ],
   "source": [
    "results_age = evaluate_checkpoints(\"age\")"
   ]
  },
  {
   "cell_type": "code",
   "execution_count": 5,
   "metadata": {},
   "outputs": [],
   "source": [
    "with open(\"results/age.json\", \"w\") as f:\n",
    "    json.dump(results_age, f)"
   ]
  },
  {
   "cell_type": "code",
   "execution_count": null,
   "metadata": {},
   "outputs": [],
   "source": []
  }
 ],
 "metadata": {
  "kernelspec": {
   "display_name": "env",
   "language": "python",
   "name": "python3"
  },
  "language_info": {
   "codemirror_mode": {
    "name": "ipython",
    "version": 3
   },
   "file_extension": ".py",
   "mimetype": "text/x-python",
   "name": "python",
   "nbconvert_exporter": "python",
   "pygments_lexer": "ipython3",
   "version": "3.9.16"
  },
  "orig_nbformat": 4,
  "vscode": {
   "interpreter": {
    "hash": "1d85f8d091281e8cdbbabc30d35abdaebd4eb091dd84d434d9fa6db6a3942f76"
   }
  }
 },
 "nbformat": 4,
 "nbformat_minor": 2
}
