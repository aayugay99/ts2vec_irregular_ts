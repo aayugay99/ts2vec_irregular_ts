{
 "cells": [
  {
   "cell_type": "code",
   "execution_count": 29,
   "metadata": {},
   "outputs": [
    {
     "ename": "FileNotFoundError",
     "evalue": "[Errno 2] No such file or directory: 'app/'",
     "output_type": "error",
     "traceback": [
      "\u001b[0;31m---------------------------------------------------------------------------\u001b[0m",
      "\u001b[0;31mFileNotFoundError\u001b[0m                         Traceback (most recent call last)",
      "Cell \u001b[0;32mIn[29], line 3\u001b[0m\n\u001b[1;32m      1\u001b[0m \u001b[39mimport\u001b[39;00m \u001b[39mos\u001b[39;00m \n\u001b[0;32m----> 3\u001b[0m os\u001b[39m.\u001b[39;49mchdir(\u001b[39m\"\u001b[39;49m\u001b[39mapp/\u001b[39;49m\u001b[39m\"\u001b[39;49m)\n",
      "\u001b[0;31mFileNotFoundError\u001b[0m: [Errno 2] No such file or directory: 'app/'"
     ]
    }
   ],
   "source": [
    "import os \n",
    "\n",
    "os.chdir(\"app/\")"
   ]
  },
  {
   "cell_type": "code",
   "execution_count": 2,
   "metadata": {},
   "outputs": [],
   "source": [
    "import pandas as pd\n",
    "import numpy as np\n",
    "\n",
    "import json\n",
    "import glob\n",
    "import hydra\n",
    "from hydra import initialize, compose\n",
    "\n",
    "import torch\n",
    "\n",
    "from ptls.preprocessing import PandasDataPreprocessor\n",
    "from ptls.data_load.iterable_processing import SeqLenFilter\n",
    "from ptls.data_load.datasets import MemoryMapDataset\n",
    "\n",
    "from sklearn.model_selection import train_test_split\n",
    "\n",
    "from utils.encode import encode_data\n",
    "from utils.evaluation import bootstrap_eval"
   ]
  },
  {
   "cell_type": "code",
   "execution_count": 3,
   "metadata": {},
   "outputs": [],
   "source": [
    "def evaluate_checkpoints(dataset):\n",
    "    assert dataset in [\"churn\", \"age\"]\n",
    "\n",
    "    df = pd.read_parquet(f\"data/preprocessed_new/{dataset}.parquet\")\n",
    "\n",
    "    preprocessor = PandasDataPreprocessor(\n",
    "        col_id=\"user_id\",\n",
    "        col_event_time=\"timestamp\",\n",
    "        event_time_transformation=\"dt_to_timestamp\" if dataset == \"churn\" else \"none\",\n",
    "        cols_category=[\"mcc_code\"],\n",
    "        cols_first_item=[\"global_target\"]\n",
    "    )\n",
    "\n",
    "    data = preprocessor.fit_transform(df)\n",
    "\n",
    "    val_size = 0.1\n",
    "    test_size = 0.1\n",
    "\n",
    "    train, val_test = train_test_split(data, test_size=test_size+val_size, random_state=42)\n",
    "    val, test = train_test_split(val_test, test_size=test_size/(test_size+val_size), random_state=42)\n",
    "\n",
    "    min_seq_len = 15 if dataset == \"churn\" else 25\n",
    "\n",
    "    train_ds = MemoryMapDataset(train + val, [SeqLenFilter(min_seq_len=min_seq_len)])\n",
    "    test_ds = MemoryMapDataset(test, [SeqLenFilter(min_seq_len=min_seq_len)])\n",
    "    \n",
    "    config_paths = glob.glob(f\"checkpoints/{dataset}/**/*.yaml\", recursive=True)\n",
    "    \n",
    "    results_dict = {}\n",
    "    for path in config_paths:\n",
    "        path_split = path.split(\"/\")\n",
    "        config_name = path_split[-1].replace(\".yaml\", \"\")\n",
    "        path_to_config = \"/\".join(path_split[:-1])\n",
    "\n",
    "        with initialize(version_base=None, config_path=path_to_config):\n",
    "            cfg = compose(config_name=config_name)\n",
    "            \n",
    "        seq_encoder = hydra.utils.instantiate(cfg[\"seq_encoder\"])\n",
    "        seq_encoder.load_state_dict(torch.load(cfg[\"path_to_state_dict\"]))\n",
    "\n",
    "        X_train, y_train = encode_data(seq_encoder, train_ds)\n",
    "        X_test, y_test = encode_data(seq_encoder, test_ds)\n",
    "\n",
    "        results = bootstrap_eval(X_train, X_test, y_train, y_test)\n",
    "        \n",
    "        if not os.path.exists(\"results\"):\n",
    "            os.mkdir(\"results\")\n",
    "        \n",
    "        results.to_csv(f\"results/{config_name}.csv\")\n",
    "        \n",
    "        results_dict[config_name] = results.agg([\"mean\", \"std\"]).to_dict()\n",
    "\n",
    "    return results_dict"
   ]
  },
  {
   "attachments": {},
   "cell_type": "markdown",
   "metadata": {},
   "source": [
    "# Churn dataset"
   ]
  },
  {
   "cell_type": "code",
   "execution_count": 4,
   "metadata": {},
   "outputs": [
    {
     "name": "stderr",
     "output_type": "stream",
     "text": [
      "100%|██████████| 10/10 [00:40<00:00,  4.07s/it]\n",
      "100%|██████████| 10/10 [00:40<00:00,  4.08s/it]\n",
      "100%|██████████| 10/10 [00:39<00:00,  4.00s/it]\n",
      "100%|██████████| 10/10 [00:38<00:00,  3.83s/it]\n"
     ]
    }
   ],
   "source": [
    "results_churn = evaluate_checkpoints(\"churn\")"
   ]
  },
  {
   "cell_type": "code",
   "execution_count": 8,
   "metadata": {},
   "outputs": [],
   "source": [
    "with open(\"results/churn.json\", \"w\") as f:\n",
    "    json.dump(results_churn, f)"
   ]
  },
  {
   "attachments": {},
   "cell_type": "markdown",
   "metadata": {},
   "source": [
    "# Age dataset"
   ]
  },
  {
   "cell_type": "code",
   "execution_count": 4,
   "metadata": {},
   "outputs": [
    {
     "name": "stderr",
     "output_type": "stream",
     "text": [
      "100%|██████████| 10/10 [06:46<00:00, 40.68s/it]\n",
      "100%|██████████| 10/10 [07:22<00:00, 44.25s/it]\n",
      "100%|██████████| 10/10 [06:58<00:00, 41.84s/it]\n",
      "100%|██████████| 10/10 [06:45<00:00, 40.58s/it]\n"
     ]
    }
   ],
   "source": [
    "results_age = evaluate_checkpoints(\"age\")"
   ]
  },
  {
   "cell_type": "code",
   "execution_count": 5,
   "metadata": {},
   "outputs": [],
   "source": [
    "with open(\"results/age.json\", \"w\") as f:\n",
    "    json.dump(results_age, f)"
   ]
  },
  {
   "attachments": {},
   "cell_type": "markdown",
   "metadata": {},
   "source": [
    "# Default dataset"
   ]
  },
  {
   "cell_type": "code",
   "execution_count": 3,
   "metadata": {},
   "outputs": [],
   "source": [
    "df = pd.read_parquet(\"data/preprocessed_new/default.parquet\")"
   ]
  },
  {
   "cell_type": "code",
   "execution_count": 4,
   "metadata": {},
   "outputs": [],
   "source": [
    "from utils.preprocessing import CustomDatetimeNormalization\n",
    "\n",
    "preprocessor = PandasDataPreprocessor(\n",
    "    col_id=\"user_id\",\n",
    "    col_event_time=CustomDatetimeNormalization(\n",
    "        min_timestamp=1514769288,\n",
    "        col_name_original=\"timestamp\",\n",
    "        col_name_target=\"event_time\",\n",
    "    ),\n",
    "    cols_category=[\"mcc_code\"],\n",
    "    cols_first_item=[\"global_target\"]\n",
    ")"
   ]
  },
  {
   "cell_type": "code",
   "execution_count": 5,
   "metadata": {},
   "outputs": [],
   "source": [
    "data = preprocessor.fit_transform(df)"
   ]
  },
  {
   "cell_type": "code",
   "execution_count": 6,
   "metadata": {},
   "outputs": [],
   "source": [
    "y = np.array([data[i][\"global_target\"] for i in range(len(data))])"
   ]
  },
  {
   "cell_type": "code",
   "execution_count": 7,
   "metadata": {},
   "outputs": [],
   "source": [
    "val_size = 0.1\n",
    "test_size = 0.1\n",
    "\n",
    "train, val_test, y_train, y_val_test = train_test_split(data, y, stratify=y, test_size=test_size+val_size, random_state=42)\n",
    "val, test, y_val, y_test = train_test_split(val_test, y_val_test, stratify=y_val_test, test_size=test_size/(test_size+val_size), random_state=42)"
   ]
  },
  {
   "cell_type": "code",
   "execution_count": 8,
   "metadata": {},
   "outputs": [],
   "source": [
    "train_ds = MemoryMapDataset(train + val, [SeqLenFilter(min_seq_len=15)])\n",
    "test_ds = MemoryMapDataset(test, [SeqLenFilter(min_seq_len=15)])"
   ]
  },
  {
   "cell_type": "code",
   "execution_count": 22,
   "metadata": {},
   "outputs": [],
   "source": [
    "import glob\n",
    "from tqdm import tqdm\n",
    "\n",
    "from sklearn.metrics import roc_auc_score, average_precision_score, accuracy_score\n",
    "from lightgbm import LGBMClassifier\n",
    "\n",
    "\n",
    "def checkpoints_eval(train_ds, test_ds, config_path, config_name):\n",
    "    with hydra.initialize(version_base=None, config_path=config_path):\n",
    "        cfg = hydra.compose(config_name)  \n",
    "\n",
    "    lgbm = LGBMClassifier(\n",
    "        n_estimators=500,\n",
    "        boosting_type=\"gbdt\",\n",
    "        subsample=0.5,\n",
    "        subsample_freq=1,\n",
    "        learning_rate=0.02,\n",
    "        feature_fraction=0.75,\n",
    "        max_depth=6,\n",
    "        lambda_l1=1,\n",
    "        lambda_l2=1,\n",
    "        min_data_in_leaf=50,\n",
    "        random_state=42,\n",
    "        n_jobs=8,\n",
    "        verbose=-1\n",
    "    )\n",
    "\n",
    "    seq_encoder = hydra.utils.instantiate(cfg[\"seq_encoder\"])\n",
    "\n",
    "    paths = glob.glob(f'{cfg[\"path_to_folder\"]}/*.pth')\n",
    "    print(f\"Found {len(paths)} checkpoints.\")\n",
    "\n",
    "    scores = []\n",
    "    for path in tqdm(paths):\n",
    "        seq_encoder.load_state_dict(torch.load(path))\n",
    "\n",
    "        X_train, y_train = encode_data(seq_encoder, train_ds)\n",
    "        X_test, y_test = encode_data(seq_encoder, test_ds)\n",
    "\n",
    "        lgbm.fit(X_train, y_train)\n",
    "\n",
    "        y_pred = lgbm.predict_proba(X_test)\n",
    "\n",
    "        if y_pred.shape[1] == 2:\n",
    "            scores.append({\n",
    "                \"ROC-AUC\": roc_auc_score(y_test, y_pred[:, 1]),\n",
    "                \"PR-AUC\": average_precision_score(y_test, y_pred[:, 1]),\n",
    "                \"Accuracy\": accuracy_score(y_test, y_pred.argmax(axis=1)),\n",
    "            })\n",
    "        \n",
    "        else:\n",
    "            scores.append({\n",
    "                \"ROC-AUC\": roc_auc_score(y_test, y_pred, average=\"macro\", multi_class=\"ovr\"),\n",
    "                \"PR-AUC\": average_precision_score(y_test, y_pred, average=\"macro\"),\n",
    "                \"Accuracy\": accuracy_score(y_test, y_pred.argmax(axis=1))\n",
    "            })\n",
    "\n",
    "\n",
    "    return pd.DataFrame(scores)"
   ]
  },
  {
   "cell_type": "code",
   "execution_count": 32,
   "metadata": {},
   "outputs": [
    {
     "name": "stdout",
     "output_type": "stream",
     "text": [
      "Found 5 checkpoints.\n"
     ]
    },
    {
     "name": "stderr",
     "output_type": "stream",
     "text": [
      "100%|██████████| 5/5 [00:42<00:00,  8.40s/it]\n"
     ]
    }
   ],
   "source": [
    "res = checkpoints_eval(train_ds, test_ds, \"checkpoints/default/ts2vec\", \"ts2vec_default_aligned_instance_loss\")"
   ]
  },
  {
   "cell_type": "code",
   "execution_count": 33,
   "metadata": {},
   "outputs": [
    {
     "name": "stdout",
     "output_type": "stream",
     "text": [
      "    ROC-AUC    PR-AUC  Accuracy\n",
      "0  0.564460  0.080117  0.963277\n",
      "1  0.591755  0.049901  0.963277\n",
      "2  0.588371  0.069799  0.963277\n",
      "3  0.558877  0.051763  0.963277\n",
      "4  0.561132  0.042985  0.963277\n"
     ]
    },
    {
     "data": {
      "text/html": [
       "<div>\n",
       "<style scoped>\n",
       "    .dataframe tbody tr th:only-of-type {\n",
       "        vertical-align: middle;\n",
       "    }\n",
       "\n",
       "    .dataframe tbody tr th {\n",
       "        vertical-align: top;\n",
       "    }\n",
       "\n",
       "    .dataframe thead th {\n",
       "        text-align: right;\n",
       "    }\n",
       "</style>\n",
       "<table border=\"1\" class=\"dataframe\">\n",
       "  <thead>\n",
       "    <tr style=\"text-align: right;\">\n",
       "      <th></th>\n",
       "      <th>ROC-AUC</th>\n",
       "      <th>PR-AUC</th>\n",
       "      <th>Accuracy</th>\n",
       "    </tr>\n",
       "  </thead>\n",
       "  <tbody>\n",
       "    <tr>\n",
       "      <th>mean</th>\n",
       "      <td>0.572919</td>\n",
       "      <td>0.058913</td>\n",
       "      <td>0.963277</td>\n",
       "    </tr>\n",
       "    <tr>\n",
       "      <th>std</th>\n",
       "      <td>0.015821</td>\n",
       "      <td>0.015445</td>\n",
       "      <td>0.000000</td>\n",
       "    </tr>\n",
       "  </tbody>\n",
       "</table>\n",
       "</div>"
      ],
      "text/plain": [
       "       ROC-AUC    PR-AUC  Accuracy\n",
       "mean  0.572919  0.058913  0.963277\n",
       "std   0.015821  0.015445  0.000000"
      ]
     },
     "execution_count": 33,
     "metadata": {},
     "output_type": "execute_result"
    }
   ],
   "source": [
    "print(res)\n",
    "res.agg([\"mean\", \"std\"])"
   ]
  },
  {
   "cell_type": "code",
   "execution_count": 32,
   "metadata": {},
   "outputs": [],
   "source": [
    "from sklearn.metrics import roc_auc_score, average_precision_score\n",
    "from lightgbm import LGBMClassifier\n",
    "\n",
    "res = []\n",
    "\n",
    "for i in range(5):\n",
    "    path = f\"{path_to_checkpoints}{cfg['name']}_{i}.pth\"\n",
    "    \n",
    "    seq_encoder = hydra.utils.instantiate(cfg[\"seq_encoder\"])\n",
    "    seq_encoder.load_state_dict(torch.load(path))\n",
    "\n",
    "    X_train, y_train = encode_data(seq_encoder, train_ds, device=\"cuda:1\")\n",
    "    X_test, y_test = encode_data(seq_encoder, test_ds, device=\"cuda:1\")\n",
    "\n",
    "    lgbm = LGBMClassifier(\n",
    "        n_estimators=500,\n",
    "        boosting_type=\"gbdt\",\n",
    "        subsample=0.5,\n",
    "        subsample_freq=1,\n",
    "        learning_rate=0.02,\n",
    "        feature_fraction=0.75,\n",
    "        max_depth=6,\n",
    "        lambda_l1=1,\n",
    "        lambda_l2=1,\n",
    "        min_data_in_leaf=50,\n",
    "        random_state=42,\n",
    "        n_jobs=8,\n",
    "        verbose=-1\n",
    "    )\n",
    "\n",
    "    lgbm.fit(X_train, y_train)\n",
    "\n",
    "    y_pred = lgbm.predict_proba(X_test)[:, 1]\n",
    "\n",
    "    res.append(\n",
    "        {\n",
    "            \"ROC-AUC\": roc_auc_score(y_test, y_pred),\n",
    "            \"PR-AUC\": average_precision_score(y_test, y_pred)\n",
    "        }\n",
    "    )"
   ]
  },
  {
   "cell_type": "code",
   "execution_count": 34,
   "metadata": {},
   "outputs": [
    {
     "data": {
      "text/html": [
       "<div>\n",
       "<style scoped>\n",
       "    .dataframe tbody tr th:only-of-type {\n",
       "        vertical-align: middle;\n",
       "    }\n",
       "\n",
       "    .dataframe tbody tr th {\n",
       "        vertical-align: top;\n",
       "    }\n",
       "\n",
       "    .dataframe thead th {\n",
       "        text-align: right;\n",
       "    }\n",
       "</style>\n",
       "<table border=\"1\" class=\"dataframe\">\n",
       "  <thead>\n",
       "    <tr style=\"text-align: right;\">\n",
       "      <th></th>\n",
       "      <th>ROC-AUC</th>\n",
       "      <th>PR-AUC</th>\n",
       "    </tr>\n",
       "  </thead>\n",
       "  <tbody>\n",
       "    <tr>\n",
       "      <th>mean</th>\n",
       "      <td>0.564945</td>\n",
       "      <td>0.051488</td>\n",
       "    </tr>\n",
       "    <tr>\n",
       "      <th>std</th>\n",
       "      <td>0.032395</td>\n",
       "      <td>0.010189</td>\n",
       "    </tr>\n",
       "  </tbody>\n",
       "</table>\n",
       "</div>"
      ],
      "text/plain": [
       "       ROC-AUC    PR-AUC\n",
       "mean  0.564945  0.051488\n",
       "std   0.032395  0.010189"
      ]
     },
     "execution_count": 34,
     "metadata": {},
     "output_type": "execute_result"
    }
   ],
   "source": [
    "pd.DataFrame(res).agg([\"mean\", \"std\"])"
   ]
  },
  {
   "cell_type": "code",
   "execution_count": null,
   "metadata": {},
   "outputs": [],
   "source": []
  }
 ],
 "metadata": {
  "kernelspec": {
   "display_name": "env",
   "language": "python",
   "name": "python3"
  },
  "language_info": {
   "codemirror_mode": {
    "name": "ipython",
    "version": 3
   },
   "file_extension": ".py",
   "mimetype": "text/x-python",
   "name": "python",
   "nbconvert_exporter": "python",
   "pygments_lexer": "ipython3",
   "version": "3.9.16"
  },
  "orig_nbformat": 4,
  "vscode": {
   "interpreter": {
    "hash": "1d85f8d091281e8cdbbabc30d35abdaebd4eb091dd84d434d9fa6db6a3942f76"
   }
  }
 },
 "nbformat": 4,
 "nbformat_minor": 2
}
