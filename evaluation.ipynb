{
 "cells": [
  {
   "cell_type": "code",
   "execution_count": 1,
   "metadata": {},
   "outputs": [],
   "source": [
    "import os \n",
    "\n",
    "os.chdir(\"app/\")"
   ]
  },
  {
   "cell_type": "code",
   "execution_count": 14,
   "metadata": {},
   "outputs": [],
   "source": [
    "import pandas as pd\n",
    "import numpy as np\n",
    "\n",
    "import json\n",
    "import glob\n",
    "import hydra\n",
    "from hydra import initialize, compose\n",
    "\n",
    "import torch\n",
    "\n",
    "from ptls.preprocessing import PandasDataPreprocessor\n",
    "from ptls.data_load.iterable_processing import SeqLenFilter\n",
    "from ptls.data_load.datasets import MemoryMapDataset\n",
    "\n",
    "from sklearn.model_selection import train_test_split\n",
    "\n",
    "from utils.encode import encode_data\n",
    "from utils.evaluation import bootstrap_eval"
   ]
  },
  {
   "cell_type": "code",
   "execution_count": 3,
   "metadata": {},
   "outputs": [],
   "source": [
    "def evaluate_checkpoints(dataset):\n",
    "    assert dataset in [\"churn\", \"age\"]\n",
    "\n",
    "    df = pd.read_parquet(f\"data/preprocessed_new/{dataset}.parquet\")\n",
    "\n",
    "    preprocessor = PandasDataPreprocessor(\n",
    "        col_id=\"user_id\",\n",
    "        col_event_time=\"timestamp\",\n",
    "        event_time_transformation=\"dt_to_timestamp\" if dataset == \"churn\" else \"none\",\n",
    "        cols_category=[\"mcc_code\"],\n",
    "        cols_first_item=[\"global_target\"]\n",
    "    )\n",
    "\n",
    "    data = preprocessor.fit_transform(df)\n",
    "\n",
    "    val_size = 0.1\n",
    "    test_size = 0.1\n",
    "\n",
    "    train, val_test = train_test_split(data, test_size=test_size+val_size, random_state=42)\n",
    "    val, test = train_test_split(val_test, test_size=test_size/(test_size+val_size), random_state=42)\n",
    "\n",
    "    min_seq_len = 15 if dataset == \"churn\" else 25\n",
    "\n",
    "    train_ds = MemoryMapDataset(train + val, [SeqLenFilter(min_seq_len=min_seq_len)])\n",
    "    test_ds = MemoryMapDataset(test, [SeqLenFilter(min_seq_len=min_seq_len)])\n",
    "    \n",
    "    config_paths = glob.glob(f\"checkpoints/{dataset}/**/*.yaml\", recursive=True)\n",
    "    \n",
    "    results_dict = {}\n",
    "    for path in config_paths:\n",
    "        path_split = path.split(\"/\")\n",
    "        config_name = path_split[-1].replace(\".yaml\", \"\")\n",
    "        path_to_config = \"/\".join(path_split[:-1])\n",
    "\n",
    "        with initialize(version_base=None, config_path=path_to_config):\n",
    "            cfg = compose(config_name=config_name)\n",
    "            \n",
    "        seq_encoder = hydra.utils.instantiate(cfg[\"seq_encoder\"])\n",
    "        seq_encoder.load_state_dict(torch.load(cfg[\"path_to_state_dict\"]))\n",
    "\n",
    "        X_train, y_train = encode_data(seq_encoder, train_ds)\n",
    "        X_test, y_test = encode_data(seq_encoder, test_ds)\n",
    "\n",
    "        results = bootstrap_eval(X_train, X_test, y_train, y_test)\n",
    "        \n",
    "        if not os.path.exists(\"results\"):\n",
    "            os.mkdir(\"results\")\n",
    "        \n",
    "        results.to_csv(f\"results/{config_name}.csv\")\n",
    "        \n",
    "        results_dict[config_name] = results.agg([\"mean\", \"std\"]).to_dict()\n",
    "\n",
    "    return results_dict"
   ]
  },
  {
   "attachments": {},
   "cell_type": "markdown",
   "metadata": {},
   "source": [
    "# Churn dataset"
   ]
  },
  {
   "cell_type": "code",
   "execution_count": 4,
   "metadata": {},
   "outputs": [
    {
     "name": "stderr",
     "output_type": "stream",
     "text": [
      "100%|██████████| 10/10 [00:40<00:00,  4.07s/it]\n",
      "100%|██████████| 10/10 [00:40<00:00,  4.08s/it]\n",
      "100%|██████████| 10/10 [00:39<00:00,  4.00s/it]\n",
      "100%|██████████| 10/10 [00:38<00:00,  3.83s/it]\n"
     ]
    }
   ],
   "source": [
    "results_churn = evaluate_checkpoints(\"churn\")"
   ]
  },
  {
   "cell_type": "code",
   "execution_count": 8,
   "metadata": {},
   "outputs": [],
   "source": [
    "with open(\"results/churn.json\", \"w\") as f:\n",
    "    json.dump(results_churn, f)"
   ]
  },
  {
   "attachments": {},
   "cell_type": "markdown",
   "metadata": {},
   "source": [
    "# Age dataset"
   ]
  },
  {
   "cell_type": "code",
   "execution_count": 4,
   "metadata": {},
   "outputs": [
    {
     "name": "stderr",
     "output_type": "stream",
     "text": [
      "100%|██████████| 10/10 [06:46<00:00, 40.68s/it]\n",
      "100%|██████████| 10/10 [07:22<00:00, 44.25s/it]\n",
      "100%|██████████| 10/10 [06:58<00:00, 41.84s/it]\n",
      "100%|██████████| 10/10 [06:45<00:00, 40.58s/it]\n"
     ]
    }
   ],
   "source": [
    "results_age = evaluate_checkpoints(\"age\")"
   ]
  },
  {
   "cell_type": "code",
   "execution_count": 5,
   "metadata": {},
   "outputs": [],
   "source": [
    "with open(\"results/age.json\", \"w\") as f:\n",
    "    json.dump(results_age, f)"
   ]
  },
  {
   "attachments": {},
   "cell_type": "markdown",
   "metadata": {},
   "source": [
    "# Default dataset"
   ]
  },
  {
   "cell_type": "code",
   "execution_count": 25,
   "metadata": {},
   "outputs": [],
   "source": [
    "df = pd.read_parquet(\"data/preprocessed_new/default.parquet\")"
   ]
  },
  {
   "cell_type": "code",
   "execution_count": 26,
   "metadata": {},
   "outputs": [],
   "source": [
    "preprocessor = PandasDataPreprocessor(\n",
    "    col_id=\"user_id\",\n",
    "    col_event_time=\"timestamp\",\n",
    "    event_time_transformation=\"dt_to_timestamp\",\n",
    "    cols_category=[\"mcc_code\"],\n",
    "    cols_first_item=[\"global_target\"]\n",
    ")"
   ]
  },
  {
   "cell_type": "code",
   "execution_count": 27,
   "metadata": {},
   "outputs": [],
   "source": [
    "data = preprocessor.fit_transform(df)"
   ]
  },
  {
   "cell_type": "code",
   "execution_count": 28,
   "metadata": {},
   "outputs": [],
   "source": [
    "y = np.array([data[i][\"global_target\"] for i in range(len(data))])"
   ]
  },
  {
   "cell_type": "code",
   "execution_count": 29,
   "metadata": {},
   "outputs": [],
   "source": [
    "val_size = 0.1\n",
    "test_size = 0.1\n",
    "\n",
    "train, val_test, y_train, y_val_test = train_test_split(data, y, stratify=y, test_size=test_size+val_size, random_state=42)\n",
    "val, test, y_val, y_test = train_test_split(val_test, y_val_test, stratify=y_val_test, test_size=test_size/(test_size+val_size), random_state=42)"
   ]
  },
  {
   "cell_type": "code",
   "execution_count": 30,
   "metadata": {},
   "outputs": [],
   "source": [
    "train_ds = MemoryMapDataset(train + val, [SeqLenFilter(min_seq_len=15)])\n",
    "test_ds = MemoryMapDataset(test, [SeqLenFilter(min_seq_len=15)])"
   ]
  },
  {
   "cell_type": "code",
   "execution_count": 31,
   "metadata": {},
   "outputs": [],
   "source": [
    "path_to_checkpoints = \"checkpoints/default/ts2vec/\"\n",
    "\n",
    "with hydra.initialize(version_base=None, config_path=path_to_checkpoints):\n",
    "    cfg = hydra.compose(\"ts2vec_default_date\")"
   ]
  },
  {
   "cell_type": "code",
   "execution_count": 32,
   "metadata": {},
   "outputs": [],
   "source": [
    "from sklearn.metrics import roc_auc_score, average_precision_score\n",
    "from lightgbm import LGBMClassifier\n",
    "\n",
    "res = []\n",
    "\n",
    "for i in range(5):\n",
    "    path = f\"{path_to_checkpoints}{cfg['name']}_{i}.pth\"\n",
    "    \n",
    "    seq_encoder = hydra.utils.instantiate(cfg[\"seq_encoder\"])\n",
    "    seq_encoder.load_state_dict(torch.load(path))\n",
    "\n",
    "    X_train, y_train = encode_data(seq_encoder, train_ds)\n",
    "    X_test, y_test = encode_data(seq_encoder, test_ds)\n",
    "\n",
    "    lgbm = LGBMClassifier(\n",
    "        n_estimators=500,\n",
    "        boosting_type=\"gbdt\",\n",
    "        subsample=0.5,\n",
    "        subsample_freq=1,\n",
    "        learning_rate=0.02,\n",
    "        feature_fraction=0.75,\n",
    "        max_depth=6,\n",
    "        lambda_l1=1,\n",
    "        lambda_l2=1,\n",
    "        min_data_in_leaf=50,\n",
    "        random_state=42,\n",
    "        n_jobs=8,\n",
    "        verbose=-1\n",
    "    )\n",
    "\n",
    "    lgbm.fit(X_train, y_train)\n",
    "\n",
    "    y_pred = lgbm.predict_proba(X_test)[:, 1]\n",
    "\n",
    "    res.append(\n",
    "        {\n",
    "            \"ROC-AUC\": roc_auc_score(y_test, y_pred),\n",
    "            \"PR-AUC\": average_precision_score(y_test, y_pred)\n",
    "        }\n",
    "    )"
   ]
  },
  {
   "cell_type": "code",
   "execution_count": 36,
   "metadata": {},
   "outputs": [
    {
     "data": {
      "text/html": [
       "<div>\n",
       "<style scoped>\n",
       "    .dataframe tbody tr th:only-of-type {\n",
       "        vertical-align: middle;\n",
       "    }\n",
       "\n",
       "    .dataframe tbody tr th {\n",
       "        vertical-align: top;\n",
       "    }\n",
       "\n",
       "    .dataframe thead th {\n",
       "        text-align: right;\n",
       "    }\n",
       "</style>\n",
       "<table border=\"1\" class=\"dataframe\">\n",
       "  <thead>\n",
       "    <tr style=\"text-align: right;\">\n",
       "      <th></th>\n",
       "      <th>ROC-AUC</th>\n",
       "      <th>PR-AUC</th>\n",
       "    </tr>\n",
       "  </thead>\n",
       "  <tbody>\n",
       "    <tr>\n",
       "      <th>mean</th>\n",
       "      <td>0.529326</td>\n",
       "      <td>0.053046</td>\n",
       "    </tr>\n",
       "    <tr>\n",
       "      <th>std</th>\n",
       "      <td>0.031451</td>\n",
       "      <td>0.010593</td>\n",
       "    </tr>\n",
       "  </tbody>\n",
       "</table>\n",
       "</div>"
      ],
      "text/plain": [
       "       ROC-AUC    PR-AUC\n",
       "mean  0.529326  0.053046\n",
       "std   0.031451  0.010593"
      ]
     },
     "execution_count": 36,
     "metadata": {},
     "output_type": "execute_result"
    }
   ],
   "source": [
    "pd.DataFrame(res).agg([\"mean\", \"std\"])"
   ]
  },
  {
   "cell_type": "code",
   "execution_count": null,
   "metadata": {},
   "outputs": [],
   "source": []
  }
 ],
 "metadata": {
  "kernelspec": {
   "display_name": "env",
   "language": "python",
   "name": "python3"
  },
  "language_info": {
   "codemirror_mode": {
    "name": "ipython",
    "version": 3
   },
   "file_extension": ".py",
   "mimetype": "text/x-python",
   "name": "python",
   "nbconvert_exporter": "python",
   "pygments_lexer": "ipython3",
   "version": "3.9.16"
  },
  "orig_nbformat": 4,
  "vscode": {
   "interpreter": {
    "hash": "1d85f8d091281e8cdbbabc30d35abdaebd4eb091dd84d434d9fa6db6a3942f76"
   }
  }
 },
 "nbformat": 4,
 "nbformat_minor": 2
}
