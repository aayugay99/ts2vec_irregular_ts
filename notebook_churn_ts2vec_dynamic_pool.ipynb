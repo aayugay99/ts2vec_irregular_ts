{
 "cells": [
  {
   "cell_type": "code",
   "execution_count": 1,
   "metadata": {},
   "outputs": [],
   "source": [
    "import os \n",
    "\n",
    "#os.chdir(\"app/\")"
   ]
  },
  {
   "cell_type": "code",
   "execution_count": 2,
   "metadata": {},
   "outputs": [
    {
     "name": "stdout",
     "output_type": "stream",
     "text": [
      "env: CUDA_VISIBLDE_DEVICES=5\n"
     ]
    }
   ],
   "source": [
    "%env CUDA_VISIBLDE_DEVICES=5"
   ]
  },
  {
   "cell_type": "code",
   "execution_count": 3,
   "metadata": {},
   "outputs": [],
   "source": [
    "from functools import partial\n",
    "\n",
    "import matplotlib.pyplot as plt\n",
    "import pandas as pd\n",
    "import numpy as np\n",
    "\n",
    "from sklearn.model_selection import train_test_split\n",
    "\n",
    "import torch.nn as nn\n",
    "import torch\n",
    "\n",
    "from pytorch_lightning.callbacks import ModelCheckpoint, EarlyStopping\n",
    "from pytorch_lightning.trainer import Trainer\n",
    "\n",
    "from ptls.preprocessing import PandasDataPreprocessor\n",
    "from ptls.nn import TrxEncoder\n",
    "from ptls.frames import PtlsDataModule\n",
    "    \n",
    "from nn.seq_encoder import ConvSeqEncoder\n",
    "from modules.ts2vec_module import TS2Vec\n",
    "from datasets import TS2VecDataset\n",
    "from utils.encode import encode_data\n",
    "from utils.evaluation import bootstrap_eval"
   ]
  },
  {
   "attachments": {},
   "cell_type": "markdown",
   "metadata": {},
   "source": [
    "## Load data"
   ]
  },
  {
   "cell_type": "code",
   "execution_count": 4,
   "metadata": {},
   "outputs": [
    {
     "data": {
      "text/html": [
       "<div>\n",
       "<style scoped>\n",
       "    .dataframe tbody tr th:only-of-type {\n",
       "        vertical-align: middle;\n",
       "    }\n",
       "\n",
       "    .dataframe tbody tr th {\n",
       "        vertical-align: top;\n",
       "    }\n",
       "\n",
       "    .dataframe thead th {\n",
       "        text-align: right;\n",
       "    }\n",
       "</style>\n",
       "<table border=\"1\" class=\"dataframe\">\n",
       "  <thead>\n",
       "    <tr style=\"text-align: right;\">\n",
       "      <th></th>\n",
       "      <th>user_id</th>\n",
       "      <th>mcc_code</th>\n",
       "      <th>timestamp</th>\n",
       "      <th>amount</th>\n",
       "      <th>global_target</th>\n",
       "      <th>holiday_target</th>\n",
       "      <th>weekend_target</th>\n",
       "      <th>churn_target</th>\n",
       "      <th>minute</th>\n",
       "      <th>hour</th>\n",
       "      <th>day</th>\n",
       "      <th>month</th>\n",
       "      <th>day_of_week</th>\n",
       "      <th>time_delta</th>\n",
       "    </tr>\n",
       "  </thead>\n",
       "  <tbody>\n",
       "    <tr>\n",
       "      <th>0</th>\n",
       "      <td>0</td>\n",
       "      <td>2</td>\n",
       "      <td>2017-10-12 12:24:07</td>\n",
       "      <td>20000.0</td>\n",
       "      <td>0</td>\n",
       "      <td>0</td>\n",
       "      <td>0</td>\n",
       "      <td>0</td>\n",
       "      <td>24</td>\n",
       "      <td>12</td>\n",
       "      <td>12</td>\n",
       "      <td>10</td>\n",
       "      <td>3</td>\n",
       "      <td>0</td>\n",
       "    </tr>\n",
       "    <tr>\n",
       "      <th>1</th>\n",
       "      <td>0</td>\n",
       "      <td>19</td>\n",
       "      <td>2017-10-21 00:00:00</td>\n",
       "      <td>5023.0</td>\n",
       "      <td>0</td>\n",
       "      <td>0</td>\n",
       "      <td>1</td>\n",
       "      <td>0</td>\n",
       "      <td>0</td>\n",
       "      <td>0</td>\n",
       "      <td>21</td>\n",
       "      <td>10</td>\n",
       "      <td>5</td>\n",
       "      <td>732953</td>\n",
       "    </tr>\n",
       "    <tr>\n",
       "      <th>2</th>\n",
       "      <td>0</td>\n",
       "      <td>1</td>\n",
       "      <td>2017-10-21 00:00:00</td>\n",
       "      <td>2031.0</td>\n",
       "      <td>0</td>\n",
       "      <td>0</td>\n",
       "      <td>1</td>\n",
       "      <td>0</td>\n",
       "      <td>0</td>\n",
       "      <td>0</td>\n",
       "      <td>21</td>\n",
       "      <td>10</td>\n",
       "      <td>5</td>\n",
       "      <td>0</td>\n",
       "    </tr>\n",
       "    <tr>\n",
       "      <th>3</th>\n",
       "      <td>0</td>\n",
       "      <td>9</td>\n",
       "      <td>2017-10-24 13:14:24</td>\n",
       "      <td>36562.0</td>\n",
       "      <td>0</td>\n",
       "      <td>0</td>\n",
       "      <td>0</td>\n",
       "      <td>0</td>\n",
       "      <td>14</td>\n",
       "      <td>13</td>\n",
       "      <td>24</td>\n",
       "      <td>10</td>\n",
       "      <td>1</td>\n",
       "      <td>306864</td>\n",
       "    </tr>\n",
       "    <tr>\n",
       "      <th>4</th>\n",
       "      <td>0</td>\n",
       "      <td>10</td>\n",
       "      <td>2017-12-05 00:00:00</td>\n",
       "      <td>767.0</td>\n",
       "      <td>0</td>\n",
       "      <td>0</td>\n",
       "      <td>0</td>\n",
       "      <td>0</td>\n",
       "      <td>0</td>\n",
       "      <td>0</td>\n",
       "      <td>5</td>\n",
       "      <td>12</td>\n",
       "      <td>1</td>\n",
       "      <td>3581136</td>\n",
       "    </tr>\n",
       "  </tbody>\n",
       "</table>\n",
       "</div>"
      ],
      "text/plain": [
       "   user_id  mcc_code           timestamp   amount  global_target  \\\n",
       "0        0         2 2017-10-12 12:24:07  20000.0              0   \n",
       "1        0        19 2017-10-21 00:00:00   5023.0              0   \n",
       "2        0         1 2017-10-21 00:00:00   2031.0              0   \n",
       "3        0         9 2017-10-24 13:14:24  36562.0              0   \n",
       "4        0        10 2017-12-05 00:00:00    767.0              0   \n",
       "\n",
       "   holiday_target  weekend_target  churn_target  minute  hour  day  month  \\\n",
       "0               0               0             0      24    12   12     10   \n",
       "1               0               1             0       0     0   21     10   \n",
       "2               0               1             0       0     0   21     10   \n",
       "3               0               0             0      14    13   24     10   \n",
       "4               0               0             0       0     0    5     12   \n",
       "\n",
       "   day_of_week  time_delta  \n",
       "0            3           0  \n",
       "1            5      732953  \n",
       "2            5           0  \n",
       "3            1      306864  \n",
       "4            1     3581136  "
      ]
     },
     "execution_count": 4,
     "metadata": {},
     "output_type": "execute_result"
    }
   ],
   "source": [
    "df = pd.read_parquet(\"data/preprocessed_new/churn.parquet\")\n",
    "df.head()"
   ]
  },
  {
   "attachments": {},
   "cell_type": "markdown",
   "metadata": {},
   "source": [
    "## Prepare dataset and dataloaders"
   ]
  },
  {
   "cell_type": "code",
   "execution_count": 5,
   "metadata": {},
   "outputs": [],
   "source": [
    "preprocessor = PandasDataPreprocessor(\n",
    "    col_id=\"user_id\",\n",
    "    col_event_time=\"timestamp\",\n",
    "    event_time_transformation=\"dt_to_timestamp\",\n",
    "    cols_category=[\"mcc_code\"],\n",
    "    cols_first_item=[\"global_target\"]\n",
    ")"
   ]
  },
  {
   "cell_type": "code",
   "execution_count": 6,
   "metadata": {},
   "outputs": [],
   "source": [
    "data = preprocessor.fit_transform(df)"
   ]
  },
  {
   "cell_type": "code",
   "execution_count": 7,
   "metadata": {},
   "outputs": [
    {
     "data": {
      "text/plain": [
       "{'user_id': 0,\n",
       " 'amount': tensor([20000.,  5023.,  2031., 36562.,   767.], dtype=torch.float64),\n",
       " 'global_target': 0,\n",
       " 'holiday_target': tensor([0, 0, 0, 0, 0]),\n",
       " 'weekend_target': tensor([0, 1, 1, 0, 0]),\n",
       " 'churn_target': tensor([0, 0, 0, 0, 0]),\n",
       " 'minute': tensor([24,  0,  0, 14,  0], dtype=torch.int32),\n",
       " 'hour': tensor([12,  0,  0, 13,  0], dtype=torch.int32),\n",
       " 'day': tensor([12, 21, 21, 24,  5], dtype=torch.int32),\n",
       " 'month': tensor([10, 10, 10, 10, 12], dtype=torch.int32),\n",
       " 'day_of_week': tensor([3, 5, 5, 1, 1], dtype=torch.int32),\n",
       " 'time_delta': tensor([      0,  732953,       0,  306864, 3581136]),\n",
       " 'event_time': tensor([1507811047, 1508544000, 1508544000, 1508850864, 1512432000]),\n",
       " 'mcc_code': tensor([ 2, 19,  1,  9, 10])}"
      ]
     },
     "execution_count": 7,
     "metadata": {},
     "output_type": "execute_result"
    }
   ],
   "source": [
    "data[0]"
   ]
  },
  {
   "cell_type": "code",
   "execution_count": 8,
   "metadata": {},
   "outputs": [],
   "source": [
    "val_size = 0.1\n",
    "test_size = 0.1\n",
    "\n",
    "train, val_test = train_test_split(data, test_size=test_size+val_size, random_state=42)\n",
    "val, test = train_test_split(val_test, test_size=test_size/(test_size+val_size), random_state=42)"
   ]
  },
  {
   "cell_type": "code",
   "execution_count": 9,
   "metadata": {},
   "outputs": [],
   "source": [
    "train_ds = TS2VecDataset(train, min_seq_len=15)\n",
    "val_ds = TS2VecDataset(val, min_seq_len=15)\n",
    "test_ds = TS2VecDataset(test, min_seq_len=15)"
   ]
  },
  {
   "cell_type": "code",
   "execution_count": 10,
   "metadata": {},
   "outputs": [],
   "source": [
    "datamodule = PtlsDataModule(\n",
    "    train_data=train_ds,\n",
    "    valid_data=val_ds,\n",
    "    train_batch_size=128,\n",
    "    valid_batch_size=128,\n",
    "    train_num_workers=8,\n",
    "    valid_num_workers=8,\n",
    ")"
   ]
  },
  {
   "cell_type": "code",
   "execution_count": 11,
   "metadata": {},
   "outputs": [
    {
     "name": "stdout",
     "output_type": "stream",
     "text": [
      "user_id torch.Size([128])\n",
      "amount torch.Size([128, 439])\n",
      "global_target torch.Size([128])\n",
      "holiday_target torch.Size([128, 439])\n",
      "weekend_target torch.Size([128, 439])\n",
      "churn_target torch.Size([128, 439])\n",
      "minute torch.Size([128, 439])\n",
      "hour torch.Size([128, 439])\n",
      "day torch.Size([128, 439])\n",
      "month torch.Size([128, 439])\n",
      "day_of_week torch.Size([128, 439])\n",
      "time_delta torch.Size([128, 439])\n",
      "event_time torch.Size([128, 439])\n",
      "mcc_code torch.Size([128, 439])\n"
     ]
    }
   ],
   "source": [
    "for batch in datamodule.train_dataloader():\n",
    "    batch\n",
    "    for field_name, field in batch[0].payload.items():\n",
    "        print(field_name, field.shape)\n",
    "    break"
   ]
  },
  {
   "cell_type": "code",
   "execution_count": 184,
   "metadata": {},
   "outputs": [
    {
     "data": {
      "text/plain": [
       "tensor([112, 120,  65, 171,  49, 147,  77,  30,  22,  36,  56, 119, 160,  17,\n",
       "        108,  17, 135,  42,  37,  34,  19, 206,  22, 104, 104,  93,  94, 118,\n",
       "         22,  47,  37,  88, 127, 140, 190,  19, 144, 162,  37, 127,  23, 187,\n",
       "        115, 164,  24,  60,  94,  55,  44,  44,  71,  77, 140, 144, 259,  55,\n",
       "        174, 133,  21, 100, 153,  32, 141,  94,  41, 111,  23, 323,  89, 112,\n",
       "        186, 290, 172,  23, 278,  79, 281, 125, 108,  44,  93,  66,  85, 131,\n",
       "         40,  16,  63,  65, 159, 105, 173,  65,  33, 104,  40,  70, 147, 164,\n",
       "        111,  43,  20, 125, 101,  37, 123,  41, 138, 145,  91,  41, 155,  31,\n",
       "        233,  62, 161, 439,  35, 222, 148, 208, 126,  47,  16, 135, 131,  18,\n",
       "        206,  25])"
      ]
     },
     "execution_count": 184,
     "metadata": {},
     "output_type": "execute_result"
    }
   ],
   "source": [
    "batch[0].seq_lens"
   ]
  },
  {
   "cell_type": "code",
   "execution_count": 18,
   "metadata": {},
   "outputs": [],
   "source": [
    "event_time = batch[0].payload[\"event_time\"]\n",
    "ones = torch.ones_like(batch[0].payload[\"amount\"])\n"
   ]
  },
  {
   "cell_type": "code",
   "execution_count": 22,
   "metadata": {},
   "outputs": [
    {
     "data": {
      "text/plain": [
       "tensor([ 86400,      0, 172800, 259200,      0,      0,  86400,      0,      0])"
      ]
     },
     "execution_count": 22,
     "metadata": {},
     "output_type": "execute_result"
    }
   ],
   "source": [
    "event_time[0, :10].diff()"
   ]
  },
  {
   "cell_type": "code",
   "execution_count": 25,
   "metadata": {},
   "outputs": [
    {
     "data": {
      "text/plain": [
       "86400"
      ]
     },
     "execution_count": 25,
     "metadata": {},
     "output_type": "execute_result"
    }
   ],
   "source": [
    "24 * 60 * 60"
   ]
  },
  {
   "cell_type": "code",
   "execution_count": 269,
   "metadata": {},
   "outputs": [],
   "source": [
    "def pool_fixed_span(stepwise_embeds, timestamps, non_padded_lengths, span: int, stride: int):\n",
    "    batch_size = len(stepwise_embeds)\n",
    "    seq_len, dim = stepwise_embeds[0].shape\n",
    "    \n",
    "    pooled_embeds = []\n",
    "    pooled_time = []\n",
    "    next_none_padded_lengths = []\n",
    "\n",
    "    for sample_i in range(batch_size):\n",
    "        print(sample_i)\n",
    "        left = 0\n",
    "        right = 1\n",
    "\n",
    "        pooled_embeds_i = []\n",
    "        pooled_time_i = []\n",
    "\n",
    "        while right <= non_padded_lengths[sample_i]:\n",
    "            if right < non_padded_lengths[sample_i] and timestamps[sample_i][right] - timestamps[sample_i][left] < span:\n",
    "                right += 1\n",
    "            else:\n",
    "                #print(stepwise_embeds[sample_i, :, left:right+1])\n",
    "                      \n",
    "                pooled_embeds_i.append(stepwise_embeds[sample_i][left:right].sum(axis=-2))\n",
    "                pooled_time_i.append(timestamps[sample_i][left:right].sum(axis=-1).item() // (right - left) )\n",
    "\n",
    "                print(timestamps[sample_i][left:right+1] // (24 * 60 * 60), \"->\", pooled_time_i[-1] // (24 * 60 * 60))\n",
    "                \n",
    "                left += stride\n",
    "                right = max(right, left + 1)\n",
    "\n",
    "        #print([s.shape for s in pooled_embeds_i])\n",
    "        \n",
    "        pooled_embeds.append(torch.stack(pooled_embeds_i))\n",
    "        pooled_time.append(torch.tensor(pooled_time_i))\n",
    "        next_none_padded_lengths.append(len(pooled_time_i))\n",
    "\n",
    "    return pooled_embeds, pooled_time, next_none_padded_lengths"
   ]
  },
  {
   "cell_type": "code",
   "execution_count": 270,
   "metadata": {},
   "outputs": [],
   "source": [
    "embeds = torch.ones(2, 439, 4)\n",
    "none_padded_lengths = [10, 8]"
   ]
  },
  {
   "cell_type": "code",
   "execution_count": 271,
   "metadata": {},
   "outputs": [
    {
     "data": {
      "text/plain": [
       "tensor([17141, 17142, 17142, 17144, 17147, 17147, 17147, 17148, 17148, 17148,\n",
       "        17149, 17149, 17149, 17150, 17150])"
      ]
     },
     "execution_count": 271,
     "metadata": {},
     "output_type": "execute_result"
    }
   ],
   "source": [
    "event_time[0, :15] // (24 * 60 * 60)"
   ]
  },
  {
   "cell_type": "code",
   "execution_count": 272,
   "metadata": {},
   "outputs": [
    {
     "data": {
      "text/plain": [
       "tensor([17114, 17114, 17117, 17117, 17118, 17118, 17118, 17118, 17118, 17119,\n",
       "        17119, 17121, 17126, 17128, 17129])"
      ]
     },
     "execution_count": 272,
     "metadata": {},
     "output_type": "execute_result"
    }
   ],
   "source": [
    "event_time[1, :15] // (24 * 60 * 60)"
   ]
  },
  {
   "cell_type": "code",
   "execution_count": 273,
   "metadata": {},
   "outputs": [
    {
     "name": "stdout",
     "output_type": "stream",
     "text": [
      "0\n",
      "tensor([17141, 17142, 17142, 17144]) -> 17141\n",
      "tensor([17142, 17144]) -> 17142\n",
      "tensor([17147, 17147, 17147, 17148, 17148, 17148, 17149]) -> 17147\n",
      "tensor([17147, 17148, 17148, 17148, 17149]) -> 17147\n",
      "tensor([17148, 17148, 17149]) -> 17148\n",
      "1\n",
      "tensor([17114, 17114, 17117]) -> 17114\n",
      "tensor([17117, 17117, 17118, 17118, 17118, 17118, 17118]) -> 17117\n",
      "tensor([17118, 17118, 17118, 17118, 17118]) -> 17118\n",
      "tensor([17118, 17118, 17118]) -> 17118\n"
     ]
    }
   ],
   "source": [
    "pooled_embeds, pooled_time, next_none_padded_lengths = pool_fixed_span(embeds, event_time, none_padded_lengths, 2 * 24 * 60 * 60, 2)"
   ]
  },
  {
   "cell_type": "code",
   "execution_count": 274,
   "metadata": {},
   "outputs": [
    {
     "data": {
      "text/plain": [
       "[tensor([[3., 3., 3., 3.],\n",
       "         [1., 1., 1., 1.],\n",
       "         [6., 6., 6., 6.],\n",
       "         [4., 4., 4., 4.],\n",
       "         [2., 2., 2., 2.]]),\n",
       " tensor([[2., 2., 2., 2.],\n",
       "         [6., 6., 6., 6.],\n",
       "         [4., 4., 4., 4.],\n",
       "         [2., 2., 2., 2.]])]"
      ]
     },
     "execution_count": 274,
     "metadata": {},
     "output_type": "execute_result"
    }
   ],
   "source": [
    "pooled_embeds"
   ]
  },
  {
   "cell_type": "code",
   "execution_count": 275,
   "metadata": {},
   "outputs": [
    {
     "name": "stdout",
     "output_type": "stream",
     "text": [
      "0\n",
      "tensor([17141, 17142, 17147]) -> 17141\n",
      "tensor([17147, 17147, 17148]) -> 17147\n",
      "tensor([17148]) -> 17148\n",
      "1\n",
      "tensor([17114, 17117, 17118]) -> 17115\n",
      "tensor([17118, 17118]) -> 17118\n"
     ]
    }
   ],
   "source": [
    "pooled_embeds, pooled_time, next_none_padded_lengths = pool_fixed_span(pooled_embeds, pooled_time, next_none_padded_lengths, 4 * 24 * 60 * 60, 2)"
   ]
  },
  {
   "cell_type": "code",
   "execution_count": 276,
   "metadata": {},
   "outputs": [
    {
     "data": {
      "text/plain": [
       "[tensor([[ 4.,  4.,  4.,  4.],\n",
       "         [12., 12., 12., 12.],\n",
       "         [ 2.,  2.,  2.,  2.]]),\n",
       " tensor([[8., 8., 8., 8.],\n",
       "         [6., 6., 6., 6.]])]"
      ]
     },
     "execution_count": 276,
     "metadata": {},
     "output_type": "execute_result"
    }
   ],
   "source": [
    "pooled_embeds"
   ]
  },
  {
   "cell_type": "code",
   "execution_count": 277,
   "metadata": {},
   "outputs": [
    {
     "name": "stdout",
     "output_type": "stream",
     "text": [
      "0\n",
      "tensor([17141, 17147, 17148]) -> 17145\n",
      "tensor([17148]) -> 17148\n",
      "1\n",
      "tensor([17115, 17118]) -> 17116\n"
     ]
    }
   ],
   "source": [
    "pooled_embeds, pooled_time, next_none_padded_lengths = pool_fixed_span(pooled_embeds, pooled_time, next_none_padded_lengths, 8 * 24 * 60 * 60, 2)"
   ]
  },
  {
   "cell_type": "code",
   "execution_count": 278,
   "metadata": {},
   "outputs": [
    {
     "data": {
      "text/plain": [
       "[tensor([[18., 18., 18., 18.],\n",
       "         [ 2.,  2.,  2.,  2.]]),\n",
       " tensor([[14., 14., 14., 14.]])]"
      ]
     },
     "execution_count": 278,
     "metadata": {},
     "output_type": "execute_result"
    }
   ],
   "source": [
    "pooled_embeds"
   ]
  },
  {
   "cell_type": "code",
   "execution_count": 279,
   "metadata": {},
   "outputs": [
    {
     "data": {
      "text/plain": [
       "[tensor([1481402400, 1481587200]), tensor([1478901600])]"
      ]
     },
     "execution_count": 279,
     "metadata": {},
     "output_type": "execute_result"
    }
   ],
   "source": [
    "pooled_time"
   ]
  },
  {
   "cell_type": "code",
   "execution_count": 282,
   "metadata": {},
   "outputs": [
    {
     "name": "stdout",
     "output_type": "stream",
     "text": [
      "0\n",
      "tensor([17145, 17148]) -> 17146\n",
      "1\n",
      "tensor([17116]) -> 17116\n"
     ]
    }
   ],
   "source": [
    "pooled_embeds, pooled_time, next_none_padded_lengths = pool_fixed_span(pooled_embeds, pooled_time, next_none_padded_lengths, 16 * 24 * 60 * 60, 2)"
   ]
  },
  {
   "cell_type": "code",
   "execution_count": 283,
   "metadata": {},
   "outputs": [
    {
     "data": {
      "text/plain": [
       "[tensor([[20., 20., 20., 20.]]), tensor([[14., 14., 14., 14.]])]"
      ]
     },
     "execution_count": 283,
     "metadata": {},
     "output_type": "execute_result"
    }
   ],
   "source": [
    "pooled_embeds"
   ]
  },
  {
   "cell_type": "code",
   "execution_count": 284,
   "metadata": {},
   "outputs": [
    {
     "data": {
      "text/plain": [
       "[tensor([1481494800]), tensor([1478901600])]"
      ]
     },
     "execution_count": 284,
     "metadata": {},
     "output_type": "execute_result"
    }
   ],
   "source": [
    "pooled_time"
   ]
  },
  {
   "cell_type": "code",
   "execution_count": 285,
   "metadata": {},
   "outputs": [
    {
     "data": {
      "text/plain": [
       "tensor([1481494800])"
      ]
     },
     "execution_count": 285,
     "metadata": {},
     "output_type": "execute_result"
    }
   ],
   "source": [
    "pooled_time[0]"
   ]
  },
  {
   "cell_type": "code",
   "execution_count": 286,
   "metadata": {},
   "outputs": [
    {
     "data": {
      "text/plain": [
       "[1, 1]"
      ]
     },
     "execution_count": 286,
     "metadata": {},
     "output_type": "execute_result"
    }
   ],
   "source": [
    "next_none_padded_lengths"
   ]
  },
  {
   "attachments": {},
   "cell_type": "markdown",
   "metadata": {},
   "source": [
    "# TS2Vec with time features"
   ]
  },
  {
   "attachments": {},
   "cell_type": "markdown",
   "metadata": {},
   "source": [
    "## Model training"
   ]
  },
  {
   "cell_type": "code",
   "execution_count": 23,
   "metadata": {},
   "outputs": [],
   "source": [
    "trx_encoder = TrxEncoder(\n",
    "    embeddings={\n",
    "        \"mcc_code\": {\"in\": 345, \"out\": 24}\n",
    "    },\n",
    "    numeric_values={\n",
    "        \"amount\": \"identity\",\n",
    "        \"event_time\": \"identity\",\n",
    "        \"time_delta\": \"identity\",\n",
    "    },\n",
    "    use_batch_norm_with_lens=True,\n",
    "    norm_embeddings=False,\n",
    "    embeddings_noise=0.0003\n",
    ")\n",
    "\n",
    "seq_encoder = ConvSeqEncoder(\n",
    "    trx_encoder,\n",
    "    hidden_size=1024,\n",
    "    num_layers=10,\n",
    "    dropout=0.1,\n",
    ")"
   ]
  },
  {
   "cell_type": "code",
   "execution_count": 24,
   "metadata": {},
   "outputs": [],
   "source": [
    "lr_scheduler_partial = partial(torch.optim.lr_scheduler.ReduceLROnPlateau, factor=.9025, patience=5, mode=\"min\")\n",
    "optimizer_partial = partial(torch.optim.Adam, lr=4e-3)\n",
    "\n",
    "model = TS2Vec(\n",
    "    seq_encoder,\n",
    "    optimizer_partial=optimizer_partial,\n",
    "    lr_scheduler_partial=lr_scheduler_partial\n",
    ")"
   ]
  },
  {
   "cell_type": "code",
   "execution_count": null,
   "metadata": {},
   "outputs": [],
   "source": [
    "checkpoint = ModelCheckpoint(\n",
    "    monitor=\"valid_loss\", \n",
    "    mode=\"min\"\n",
    ")\n",
    "\n",
    "trainer = Trainer(\n",
    "    max_epochs=50,\n",
    "    devices=[3],\n",
    "    accelerator=\"gpu\",\n",
    "    callbacks=[checkpoint]\n",
    ")\n",
    "\n",
    "trainer.fit(model, datamodule)"
   ]
  },
  {
   "cell_type": "code",
   "execution_count": 34,
   "metadata": {},
   "outputs": [
    {
     "data": {
      "text/plain": [
       "<All keys matched successfully>"
      ]
     },
     "execution_count": 34,
     "metadata": {},
     "output_type": "execute_result"
    }
   ],
   "source": [
    "model.load_state_dict(torch.load(checkpoint.best_model_path)[\"state_dict\"])"
   ]
  },
  {
   "cell_type": "code",
   "execution_count": 40,
   "metadata": {},
   "outputs": [],
   "source": [
    "torch.save(model.seq_encoder.state_dict(), \"ts2vec_churn_date.pth\")"
   ]
  },
  {
   "attachments": {},
   "cell_type": "markdown",
   "metadata": {},
   "source": [
    "## Model evaluation"
   ]
  },
  {
   "cell_type": "code",
   "execution_count": 35,
   "metadata": {},
   "outputs": [],
   "source": [
    "train_val_ds = TS2VecDataset(train + val, min_seq_len=15)"
   ]
  },
  {
   "cell_type": "code",
   "execution_count": 36,
   "metadata": {},
   "outputs": [
    {
     "name": "stdout",
     "output_type": "stream",
     "text": [
      "Train size: 3961\n",
      "Test size: 443\n"
     ]
    }
   ],
   "source": [
    "X_train, y_train = encode_data(model.seq_encoder, train_val_ds)\n",
    "X_test, y_test = encode_data(model.seq_encoder, test_ds)\n",
    "\n",
    "print(\"Train size:\", len(y_train))\n",
    "print(\"Test size:\", len(y_test))"
   ]
  },
  {
   "cell_type": "code",
   "execution_count": 37,
   "metadata": {},
   "outputs": [],
   "source": [
    "results = bootstrap_eval(X_train, X_test, y_train, y_test, n_runs=10)"
   ]
  },
  {
   "cell_type": "code",
   "execution_count": 38,
   "metadata": {},
   "outputs": [
    {
     "data": {
      "text/html": [
       "<div>\n",
       "<style scoped>\n",
       "    .dataframe tbody tr th:only-of-type {\n",
       "        vertical-align: middle;\n",
       "    }\n",
       "\n",
       "    .dataframe tbody tr th {\n",
       "        vertical-align: top;\n",
       "    }\n",
       "\n",
       "    .dataframe thead th {\n",
       "        text-align: right;\n",
       "    }\n",
       "</style>\n",
       "<table border=\"1\" class=\"dataframe\">\n",
       "  <thead>\n",
       "    <tr style=\"text-align: right;\">\n",
       "      <th></th>\n",
       "      <th>ROC-AUC</th>\n",
       "      <th>PR-AUC</th>\n",
       "    </tr>\n",
       "  </thead>\n",
       "  <tbody>\n",
       "    <tr>\n",
       "      <th>0</th>\n",
       "      <td>0.734573</td>\n",
       "      <td>0.807961</td>\n",
       "    </tr>\n",
       "    <tr>\n",
       "      <th>1</th>\n",
       "      <td>0.715507</td>\n",
       "      <td>0.813229</td>\n",
       "    </tr>\n",
       "    <tr>\n",
       "      <th>2</th>\n",
       "      <td>0.726342</td>\n",
       "      <td>0.804885</td>\n",
       "    </tr>\n",
       "    <tr>\n",
       "      <th>3</th>\n",
       "      <td>0.721855</td>\n",
       "      <td>0.796088</td>\n",
       "    </tr>\n",
       "    <tr>\n",
       "      <th>4</th>\n",
       "      <td>0.728860</td>\n",
       "      <td>0.818177</td>\n",
       "    </tr>\n",
       "    <tr>\n",
       "      <th>5</th>\n",
       "      <td>0.709264</td>\n",
       "      <td>0.796140</td>\n",
       "    </tr>\n",
       "    <tr>\n",
       "      <th>6</th>\n",
       "      <td>0.732415</td>\n",
       "      <td>0.812827</td>\n",
       "    </tr>\n",
       "    <tr>\n",
       "      <th>7</th>\n",
       "      <td>0.718575</td>\n",
       "      <td>0.813551</td>\n",
       "    </tr>\n",
       "    <tr>\n",
       "      <th>8</th>\n",
       "      <td>0.716311</td>\n",
       "      <td>0.802546</td>\n",
       "    </tr>\n",
       "    <tr>\n",
       "      <th>9</th>\n",
       "      <td>0.708757</td>\n",
       "      <td>0.794835</td>\n",
       "    </tr>\n",
       "  </tbody>\n",
       "</table>\n",
       "</div>"
      ],
      "text/plain": [
       "    ROC-AUC    PR-AUC\n",
       "0  0.734573  0.807961\n",
       "1  0.715507  0.813229\n",
       "2  0.726342  0.804885\n",
       "3  0.721855  0.796088\n",
       "4  0.728860  0.818177\n",
       "5  0.709264  0.796140\n",
       "6  0.732415  0.812827\n",
       "7  0.718575  0.813551\n",
       "8  0.716311  0.802546\n",
       "9  0.708757  0.794835"
      ]
     },
     "execution_count": 38,
     "metadata": {},
     "output_type": "execute_result"
    }
   ],
   "source": [
    "results"
   ]
  },
  {
   "cell_type": "code",
   "execution_count": 39,
   "metadata": {},
   "outputs": [
    {
     "data": {
      "text/html": [
       "<div>\n",
       "<style scoped>\n",
       "    .dataframe tbody tr th:only-of-type {\n",
       "        vertical-align: middle;\n",
       "    }\n",
       "\n",
       "    .dataframe tbody tr th {\n",
       "        vertical-align: top;\n",
       "    }\n",
       "\n",
       "    .dataframe thead th {\n",
       "        text-align: right;\n",
       "    }\n",
       "</style>\n",
       "<table border=\"1\" class=\"dataframe\">\n",
       "  <thead>\n",
       "    <tr style=\"text-align: right;\">\n",
       "      <th></th>\n",
       "      <th>ROC-AUC</th>\n",
       "      <th>PR-AUC</th>\n",
       "    </tr>\n",
       "  </thead>\n",
       "  <tbody>\n",
       "    <tr>\n",
       "      <th>mean</th>\n",
       "      <td>0.721246</td>\n",
       "      <td>0.806024</td>\n",
       "    </tr>\n",
       "    <tr>\n",
       "      <th>std</th>\n",
       "      <td>0.009133</td>\n",
       "      <td>0.008441</td>\n",
       "    </tr>\n",
       "  </tbody>\n",
       "</table>\n",
       "</div>"
      ],
      "text/plain": [
       "       ROC-AUC    PR-AUC\n",
       "mean  0.721246  0.806024\n",
       "std   0.009133  0.008441"
      ]
     },
     "execution_count": 39,
     "metadata": {},
     "output_type": "execute_result"
    }
   ],
   "source": [
    "results.agg([\"mean\", \"std\"])"
   ]
  },
  {
   "cell_type": "code",
   "execution_count": null,
   "metadata": {},
   "outputs": [],
   "source": []
  }
 ],
 "metadata": {
  "kernelspec": {
   "display_name": "Python 3 (ipykernel)",
   "language": "python",
   "name": "python3"
  },
  "language_info": {
   "codemirror_mode": {
    "name": "ipython",
    "version": 3
   },
   "file_extension": ".py",
   "mimetype": "text/x-python",
   "name": "python",
   "nbconvert_exporter": "python",
   "pygments_lexer": "ipython3",
   "version": "3.11.6"
  },
  "vscode": {
   "interpreter": {
    "hash": "1d85f8d091281e8cdbbabc30d35abdaebd4eb091dd84d434d9fa6db6a3942f76"
   }
  }
 },
 "nbformat": 4,
 "nbformat_minor": 4
}
