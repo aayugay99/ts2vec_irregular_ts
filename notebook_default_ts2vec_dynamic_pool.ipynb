{
 "cells": [
  {
   "cell_type": "code",
   "execution_count": 1,
   "metadata": {},
   "outputs": [
    {
     "name": "stdout",
     "output_type": "stream",
     "text": [
      "env: CUDA_VISIBLE_DEVICES=3\n"
     ]
    }
   ],
   "source": [
    "%env CUDA_VISIBLE_DEVICES=3"
   ]
  },
  {
   "cell_type": "code",
   "execution_count": 2,
   "metadata": {},
   "outputs": [],
   "source": [
    "import os\n",
    "\n",
    "#os.chdir(\"app/\")"
   ]
  },
  {
   "cell_type": "code",
   "execution_count": 3,
   "metadata": {},
   "outputs": [],
   "source": [
    "from functools import partial\n",
    "\n",
    "import matplotlib.pyplot as plt\n",
    "import pandas as pd\n",
    "import numpy as np\n",
    "\n",
    "from sklearn.model_selection import train_test_split\n",
    "\n",
    "import torch.nn as nn\n",
    "import torch\n",
    "\n",
    "from pytorch_lightning.callbacks import ModelCheckpoint, EarlyStopping\n",
    "from pytorch_lightning.trainer import Trainer\n",
    "\n",
    "from ptls.preprocessing import PandasDataPreprocessor\n",
    "from ptls.nn import TrxEncoder\n",
    "from ptls.frames import PtlsDataModule\n",
    "    \n",
    "from nn.seq_encoder import ConvSeqEncoder\n",
    "from modules.ts2vec_module_dynamic_pool import TS2VecDynamicPool\n",
    "from datasets import TS2VecDataset\n",
    "from utils.encode import encode_data\n",
    "from utils.evaluation import bootstrap_eval"
   ]
  },
  {
   "attachments": {},
   "cell_type": "markdown",
   "metadata": {},
   "source": [
    "## Load data"
   ]
  },
  {
   "cell_type": "code",
   "execution_count": 4,
   "metadata": {},
   "outputs": [
    {
     "data": {
      "text/html": [
       "<div>\n",
       "<style scoped>\n",
       "    .dataframe tbody tr th:only-of-type {\n",
       "        vertical-align: middle;\n",
       "    }\n",
       "\n",
       "    .dataframe tbody tr th {\n",
       "        vertical-align: top;\n",
       "    }\n",
       "\n",
       "    .dataframe thead th {\n",
       "        text-align: right;\n",
       "    }\n",
       "</style>\n",
       "<table border=\"1\" class=\"dataframe\">\n",
       "  <thead>\n",
       "    <tr style=\"text-align: right;\">\n",
       "      <th></th>\n",
       "      <th>user_id</th>\n",
       "      <th>mcc_code</th>\n",
       "      <th>amount</th>\n",
       "      <th>timestamp</th>\n",
       "      <th>holiday_target</th>\n",
       "      <th>weekend_target</th>\n",
       "      <th>global_target</th>\n",
       "      <th>default_target</th>\n",
       "      <th>time_delta</th>\n",
       "    </tr>\n",
       "  </thead>\n",
       "  <tbody>\n",
       "    <tr>\n",
       "      <th>0</th>\n",
       "      <td>69</td>\n",
       "      <td>5</td>\n",
       "      <td>-342.89792</td>\n",
       "      <td>2021-03-05 02:52:36</td>\n",
       "      <td>0</td>\n",
       "      <td>0</td>\n",
       "      <td>0</td>\n",
       "      <td>0</td>\n",
       "      <td>0</td>\n",
       "    </tr>\n",
       "    <tr>\n",
       "      <th>1</th>\n",
       "      <td>69</td>\n",
       "      <td>21</td>\n",
       "      <td>-1251.88120</td>\n",
       "      <td>2021-03-05 09:43:28</td>\n",
       "      <td>0</td>\n",
       "      <td>0</td>\n",
       "      <td>0</td>\n",
       "      <td>0</td>\n",
       "      <td>24652</td>\n",
       "    </tr>\n",
       "    <tr>\n",
       "      <th>2</th>\n",
       "      <td>69</td>\n",
       "      <td>12</td>\n",
       "      <td>-87.30924</td>\n",
       "      <td>2021-03-05 11:17:23</td>\n",
       "      <td>0</td>\n",
       "      <td>0</td>\n",
       "      <td>0</td>\n",
       "      <td>0</td>\n",
       "      <td>5635</td>\n",
       "    </tr>\n",
       "    <tr>\n",
       "      <th>3</th>\n",
       "      <td>69</td>\n",
       "      <td>6</td>\n",
       "      <td>-1822.17700</td>\n",
       "      <td>2021-03-05 13:41:03</td>\n",
       "      <td>0</td>\n",
       "      <td>0</td>\n",
       "      <td>0</td>\n",
       "      <td>0</td>\n",
       "      <td>8620</td>\n",
       "    </tr>\n",
       "    <tr>\n",
       "      <th>4</th>\n",
       "      <td>69</td>\n",
       "      <td>18</td>\n",
       "      <td>-427.12363</td>\n",
       "      <td>2021-03-05 19:14:23</td>\n",
       "      <td>0</td>\n",
       "      <td>0</td>\n",
       "      <td>0</td>\n",
       "      <td>0</td>\n",
       "      <td>20000</td>\n",
       "    </tr>\n",
       "  </tbody>\n",
       "</table>\n",
       "</div>"
      ],
      "text/plain": [
       "   user_id  mcc_code      amount           timestamp  holiday_target  \\\n",
       "0       69         5  -342.89792 2021-03-05 02:52:36               0   \n",
       "1       69        21 -1251.88120 2021-03-05 09:43:28               0   \n",
       "2       69        12   -87.30924 2021-03-05 11:17:23               0   \n",
       "3       69         6 -1822.17700 2021-03-05 13:41:03               0   \n",
       "4       69        18  -427.12363 2021-03-05 19:14:23               0   \n",
       "\n",
       "   weekend_target  global_target  default_target  time_delta  \n",
       "0               0              0               0           0  \n",
       "1               0              0               0       24652  \n",
       "2               0              0               0        5635  \n",
       "3               0              0               0        8620  \n",
       "4               0              0               0       20000  "
      ]
     },
     "execution_count": 4,
     "metadata": {},
     "output_type": "execute_result"
    }
   ],
   "source": [
    "df = pd.read_parquet(\"data/preprocessed_new/default_date.parquet\")\n",
    "df.head()"
   ]
  },
  {
   "attachments": {},
   "cell_type": "markdown",
   "metadata": {},
   "source": [
    "## Prepare dataset and dataloaders"
   ]
  },
  {
   "cell_type": "code",
   "execution_count": 5,
   "metadata": {},
   "outputs": [],
   "source": [
    "preprocessor = PandasDataPreprocessor(\n",
    "    col_id=\"user_id\",\n",
    "    col_event_time=\"timestamp\",\n",
    "    event_time_transformation=\"dt_to_timestamp\",\n",
    "    cols_category=[\"mcc_code\"],\n",
    "    cols_first_item=[\"global_target\"]\n",
    ")"
   ]
  },
  {
   "cell_type": "code",
   "execution_count": 6,
   "metadata": {},
   "outputs": [],
   "source": [
    "data = preprocessor.fit_transform(df)"
   ]
  },
  {
   "cell_type": "code",
   "execution_count": 7,
   "metadata": {
    "scrolled": true
   },
   "outputs": [
    {
     "data": {
      "text/plain": [
       "{'user_id': 69,\n",
       " 'amount': tensor([-3.4290e+02, -1.2519e+03, -8.7309e+01, -1.8222e+03, -4.2712e+02,\n",
       "         -1.5881e+02, -9.9954e+02, -3.2054e+02, -6.6186e+02, -1.3906e+02,\n",
       "         -3.0815e+02, -2.3189e+03, -6.7941e+02, -8.6535e+02, -4.6291e+02,\n",
       "         -5.7949e+03, -7.1238e+02, -1.2665e+02, -3.4464e+03, -1.2212e+03,\n",
       "         -2.5147e+02, -1.4552e+03, -9.0377e+02, -3.8657e+01, -1.1423e+03,\n",
       "         -8.2171e+02, -6.7822e+02, -8.9096e+01, -2.0213e+03, -7.9014e+02,\n",
       "         -3.5479e+01, -7.4267e+01, -7.0800e+02, -2.2680e+02, -9.1732e+01,\n",
       "         -4.4947e+02, -6.8309e+02, -3.5448e+02, -1.5044e+02, -3.9984e+02,\n",
       "         -4.7700e+02, -4.9064e+02, -2.7975e+03, -1.4055e+03, -7.2766e+03,\n",
       "         -2.2740e+03, -2.1838e+01, -9.8174e+02, -8.5465e+02, -5.5266e+02,\n",
       "         -1.1802e+03, -7.8140e+02, -8.7765e+02, -4.7904e+02, -5.4868e+02,\n",
       "         -2.4586e+03, -1.5617e+02, -4.6330e+01, -4.0802e+02, -6.9189e+01,\n",
       "         -6.9850e+02, -7.5377e+01, -5.7819e+02, -2.9812e+01, -1.2153e+03,\n",
       "         -3.8467e+02, -8.9703e+02, -1.2192e+03, -1.2925e+03, -4.6791e+02,\n",
       "         -4.1999e+02, -4.4023e+03, -1.9462e+02, -3.1281e+02, -2.5969e+02,\n",
       "         -5.4197e+02, -2.0317e+03, -1.0957e+03, -4.2049e+03, -2.7776e+03,\n",
       "         -1.1099e+03, -2.6742e+03, -2.2073e+01, -6.8870e+02, -3.0678e+01,\n",
       "         -7.3557e+01, -1.9844e+03, -1.3012e+03, -5.3438e+01, -8.4110e+03,\n",
       "         -4.7109e+03, -3.2970e+01, -2.7300e+03, -8.3634e+01, -5.1391e+03,\n",
       "         -2.5353e+03, -1.5546e+03, -3.3323e+03, -5.2994e+03, -1.8388e+03,\n",
       "         -8.3505e+02, -1.2544e+03, -3.4314e+02, -1.0254e+03, -1.0673e+03,\n",
       "         -1.0434e+03, -2.6182e+03, -1.0358e+03, -1.9753e+02, -4.9449e+01,\n",
       "         -8.5262e+01, -2.8454e+01, -1.3982e+03, -3.2860e+02, -3.1849e+02,\n",
       "         -3.2354e+02, -3.5423e+02, -9.3547e+01, -9.3450e+02, -1.2843e+03,\n",
       "         -8.2779e+01, -6.3585e+02, -2.7417e+02, -3.5993e+02, -3.9306e+02,\n",
       "         -5.9144e+02, -4.0217e+01, -3.5109e+02, -5.6117e+01, -2.3177e+02,\n",
       "         -3.6917e+01, -6.9780e+02, -4.2304e+02, -3.9439e+02, -7.6074e+02,\n",
       "         -4.1276e+03, -7.7397e+02, -3.7825e+02, -4.7847e+02, -7.1896e+02,\n",
       "         -2.6862e+03, -6.3061e+02, -1.1129e+03, -1.4534e+03, -3.1577e+01,\n",
       "         -8.4012e+02, -1.4759e+03, -2.6808e+03, -2.7204e+03, -3.3653e+01,\n",
       "         -2.2161e+02, -2.0884e+03, -3.6138e+01, -1.2755e+03, -3.0238e+03,\n",
       "         -6.7977e+02, -5.1494e+02, -3.2163e+01, -4.5652e+02, -3.7183e+02,\n",
       "         -3.2840e+03, -2.2730e+01, -4.3811e+02, -3.8020e+03, -9.7001e+02,\n",
       "         -1.1713e+03, -6.2424e+02, -4.7487e+02, -8.4720e+01, -5.3532e+02,\n",
       "         -3.0136e+02, -7.3247e+02, -1.1818e+03, -3.0050e+03, -2.9501e+02,\n",
       "         -3.4385e+02, -5.6312e+02, -2.2334e+02, -7.7716e+02, -1.9324e+01,\n",
       "         -3.5630e+02, -4.0690e+02, -4.0789e+01, -3.9927e+02, -3.7444e+02,\n",
       "         -3.2600e+01, -3.9977e+02, -2.6861e+02, -1.3797e+03, -1.0682e+03,\n",
       "         -8.9135e+02, -1.0508e+03, -2.5530e+03, -2.1138e+03, -8.7378e+02,\n",
       "         -6.1800e+02, -3.7603e+02, -7.8012e+01, -2.2336e+03, -8.2098e+02,\n",
       "         -1.2409e+02, -6.4816e+02, -6.1899e+03, -5.3663e+02, -1.1534e+03,\n",
       "         -2.0972e+02, -2.5075e+02, -2.5895e+02, -7.2327e+02, -9.3061e+02,\n",
       "         -3.8771e+02, -5.7166e+02, -1.0559e+03, -2.7058e+02, -2.3370e+03,\n",
       "         -2.6974e+02, -4.3984e+02, -1.1432e+02,  1.0710e+01, -9.2958e+02,\n",
       "         -1.2358e+02, -1.7443e+03, -8.5806e+01, -3.3067e+01, -1.8673e+03,\n",
       "         -4.3014e+02, -3.8594e+02, -1.5617e+03, -3.0588e+02, -1.6072e+03,\n",
       "         -2.9881e+02, -2.5423e+02, -1.0454e+03, -9.3567e+02, -9.6847e+02,\n",
       "         -7.3666e+02, -1.0370e+03, -8.7034e+03,  8.4540e+03, -5.3522e+01,\n",
       "         -1.0309e+04, -1.3535e+02, -1.2616e+03, -1.4626e+02, -1.2615e+03,\n",
       "         -3.1243e+02, -2.9188e+03, -1.3287e+02, -3.1971e+04, -1.4128e+03,\n",
       "         -1.6240e+02, -9.0640e+02, -6.4570e+02, -8.4486e+02, -8.7442e+02,\n",
       "         -6.3147e+02, -9.4859e+01, -7.9754e+01, -4.8933e+02, -1.8301e+03,\n",
       "         -1.4981e+02, -3.0961e+03, -6.7322e+02, -1.2317e+03, -1.5183e+02,\n",
       "         -8.4309e+02, -1.3468e+03, -5.2266e+02, -1.4033e+02, -7.2290e+02,\n",
       "         -6.3740e+02, -1.0659e+04, -6.2356e+02, -5.4871e+02, -5.5525e+01,\n",
       "         -6.5416e+01, -1.2810e+02, -1.3414e+02, -4.7512e+02, -1.9331e+02,\n",
       "         -9.2666e+02, -3.1854e+02, -1.4134e+03, -8.4692e+02, -6.2800e+02,\n",
       "         -4.0481e+02, -7.5301e+02, -1.5186e+02, -4.4142e+02, -1.3968e+03,\n",
       "         -9.2145e+02, -5.4885e+01, -2.1527e+02, -1.3124e+03, -4.0761e+02,\n",
       "         -1.5396e+03, -1.3338e+02, -9.5283e+02, -7.4175e+02, -5.3902e+02],\n",
       "        dtype=torch.float64),\n",
       " 'holiday_target': tensor([0, 0, 0, 0, 0, 0, 0, 0, 0, 0, 0, 1, 1, 1, 0, 0, 0, 0, 0, 0, 0, 0, 0, 0,\n",
       "         0, 0, 0, 0, 0, 0, 0, 0, 0, 0, 0, 0, 0, 0, 0, 0, 0, 0, 0, 0, 0, 0, 0, 0,\n",
       "         0, 0, 0, 0, 0, 0, 0, 0, 0, 0, 0, 0, 0, 0, 0, 0, 0, 0, 0, 0, 0, 0, 0, 0,\n",
       "         0, 0, 0, 0, 0, 0, 0, 0, 0, 0, 0, 0, 0, 0, 0, 0, 0, 0, 0, 0, 0, 0, 0, 0,\n",
       "         0, 1, 1, 0, 0, 0, 0, 0, 0, 0, 0, 1, 0, 0, 0, 0, 0, 0, 0, 0, 0, 0, 0, 0,\n",
       "         0, 0, 0, 0, 0, 0, 0, 0, 0, 0, 0, 0, 0, 0, 0, 0, 0, 0, 0, 0, 0, 0, 0, 0,\n",
       "         0, 0, 0, 0, 0, 0, 0, 0, 0, 0, 0, 0, 0, 0, 0, 0, 0, 0, 0, 0, 0, 0, 1, 1,\n",
       "         1, 0, 0, 0, 0, 0, 0, 0, 0, 0, 0, 0, 0, 0, 0, 0, 0, 0, 0, 0, 0, 0, 0, 0,\n",
       "         0, 0, 0, 0, 0, 0, 0, 0, 0, 0, 0, 0, 0, 0, 0, 0, 0, 0, 0, 0, 0, 0, 0, 0,\n",
       "         0, 0, 0, 0, 0, 0, 0, 0, 0, 0, 0, 0, 0, 0, 0, 0, 0, 0, 0, 0, 0, 0, 0, 0,\n",
       "         0, 0, 0, 0, 0, 0, 0, 0, 0, 0, 0, 0, 0, 0, 0, 0, 0, 0, 0, 0, 0, 0, 0, 0,\n",
       "         0, 0, 0, 0, 0, 0, 0, 0, 0, 0, 0, 0, 0, 0, 0, 0, 0, 0, 0, 0, 0, 0, 0, 0,\n",
       "         0, 0, 0, 0, 0, 0, 0, 0, 0, 0, 0, 0]),\n",
       " 'weekend_target': tensor([0, 0, 0, 0, 0, 1, 1, 1, 1, 1, 1, 0, 0, 0, 0, 0, 0, 0, 0, 0, 1, 1, 0, 0,\n",
       "         0, 0, 0, 0, 0, 0, 1, 1, 0, 0, 0, 0, 0, 0, 0, 1, 1, 1, 0, 0, 0, 0, 0, 0,\n",
       "         0, 0, 0, 0, 1, 1, 1, 1, 1, 1, 1, 1, 0, 0, 0, 0, 0, 0, 0, 1, 1, 1, 1, 1,\n",
       "         1, 0, 0, 0, 0, 0, 1, 1, 1, 1, 1, 1, 1, 1, 1, 1, 1, 1, 1, 1, 1, 0, 0, 0,\n",
       "         0, 1, 1, 1, 0, 0, 0, 0, 0, 0, 1, 1, 0, 0, 0, 1, 1, 1, 1, 1, 1, 1, 1, 1,\n",
       "         0, 0, 0, 0, 0, 0, 0, 1, 1, 1, 1, 1, 1, 1, 0, 0, 0, 0, 0, 0, 0, 1, 1, 1,\n",
       "         1, 1, 1, 1, 0, 0, 0, 0, 1, 1, 1, 1, 1, 0, 0, 0, 0, 0, 0, 0, 0, 0, 1, 1,\n",
       "         1, 1, 1, 1, 1, 1, 1, 0, 0, 0, 0, 0, 0, 0, 0, 0, 0, 0, 1, 0, 0, 0, 0, 0,\n",
       "         0, 0, 0, 0, 0, 0, 1, 1, 1, 1, 1, 1, 1, 1, 1, 0, 0, 0, 0, 0, 0, 0, 0, 0,\n",
       "         0, 0, 0, 0, 0, 0, 0, 1, 1, 1, 0, 0, 0, 0, 0, 0, 0, 0, 0, 0, 0, 0, 0, 0,\n",
       "         0, 0, 0, 1, 1, 1, 1, 1, 1, 1, 1, 1, 1, 0, 0, 0, 0, 0, 0, 0, 0, 0, 0, 0,\n",
       "         0, 0, 0, 0, 0, 0, 0, 0, 0, 0, 1, 1, 1, 1, 1, 1, 1, 1, 1, 0, 0, 0, 0, 0,\n",
       "         0, 0, 0, 0, 0, 0, 0, 0, 1, 1, 1, 0]),\n",
       " 'global_target': 0,\n",
       " 'default_target': tensor([0, 0, 0, 0, 0, 0, 0, 0, 0, 0, 0, 0, 0, 0, 0, 0, 0, 0, 0, 0, 0, 0, 0, 0,\n",
       "         0, 0, 0, 0, 0, 0, 0, 0, 0, 0, 0, 0, 0, 0, 0, 0, 0, 0, 0, 0, 0, 0, 0, 0,\n",
       "         0, 0, 0, 0, 0, 0, 0, 0, 0, 0, 0, 0, 0, 0, 0, 0, 0, 0, 0, 0, 0, 0, 0, 0,\n",
       "         0, 0, 0, 0, 0, 0, 0, 0, 0, 0, 0, 0, 0, 0, 0, 0, 0, 0, 0, 0, 0, 0, 0, 0,\n",
       "         0, 0, 0, 0, 0, 0, 0, 0, 0, 0, 0, 0, 0, 0, 0, 0, 0, 0, 0, 0, 0, 0, 0, 0,\n",
       "         0, 0, 0, 0, 0, 0, 0, 0, 0, 0, 0, 0, 0, 0, 0, 0, 0, 0, 0, 0, 0, 0, 0, 0,\n",
       "         0, 0, 0, 0, 0, 0, 0, 0, 0, 0, 0, 0, 0, 0, 0, 0, 0, 0, 0, 0, 0, 0, 0, 0,\n",
       "         0, 0, 0, 0, 0, 0, 0, 0, 0, 0, 0, 0, 0, 0, 0, 0, 0, 0, 0, 0, 0, 0, 0, 0,\n",
       "         0, 0, 0, 0, 0, 0, 0, 0, 0, 0, 0, 0, 0, 0, 0, 0, 0, 0, 0, 0, 0, 0, 0, 0,\n",
       "         0, 0, 0, 0, 0, 0, 0, 0, 0, 0, 0, 0, 0, 0, 0, 0, 0, 0, 0, 0, 0, 0, 0, 0,\n",
       "         0, 0, 0, 0, 0, 0, 0, 0, 0, 0, 0, 0, 0, 0, 0, 0, 0, 0, 0, 0, 0, 0, 0, 0,\n",
       "         0, 0, 0, 0, 0, 0, 0, 0, 0, 0, 0, 0, 0, 0, 0, 0, 0, 0, 0, 0, 0, 0, 0, 0,\n",
       "         0, 0, 0, 0, 0, 0, 0, 0, 0, 0, 0, 0]),\n",
       " 'time_delta': tensor([     0,  24652,   5635,   8620,  20000,  66169,    838,  24492,  51323,\n",
       "          10415,   5829,  55627,  17554,   3685,  49129,  47851,  81198,  82783,\n",
       "          88731,   1054,  71934,   1262, 142058, 131479,   3810,  86351,  80937,\n",
       "           4752,  72279,  29183,  72228,   7271, 125583, 164661, 129221,  80646,\n",
       "          24051, 455625,  53367, 218789,  21886,   5709, 159131,   2579,   5465,\n",
       "            928,  10209,   6340,  80001,   8229, 158888,   5725,  62039,  32857,\n",
       "           3375,   1288,  73053,    585,   2978,   6622,  54912,  27664,  76343,\n",
       "          87559,  77777,   9819,  83314,  94866,  66754,   3372,   1100,    865,\n",
       "          13169,  88478, 163728,   8523,  77337,   1691, 152566,   4400,   6576,\n",
       "           3144,   4202,    310,   6595,  66726,   3434,    527,   1482,    461,\n",
       "            911,   3742,   5042, 266097,    271,  75989,  86364,  88394,   1390,\n",
       "          91229,  70812,  84322,   5221, 245921,  28718,    357,  91069,  83011,\n",
       "         379164,  38596,   6457,  52864,  29614,    307,    296,   3971,    416,\n",
       "          14162,  56774,   8482, 195884,  68537,   1432,   6016,  74506,  44621,\n",
       "          40557,  63577,   8267,   2205,   1181,  85280,   9352,    335, 176857,\n",
       "            332,   2406, 173872,   5301,  81429,   3328,  32751,  42658,   4592,\n",
       "          62286,   3369,    586,   7174, 275983,  84316,     86,  80154,  78868,\n",
       "           6183,   3876,   6963,  82709,  85875,   3833, 212060,  16457,  24116,\n",
       "          10608,  66279,   8383,    465,  74193,   4902,    282,  88497,   4687,\n",
       "           5987,   2781,   9559,    253,  53914,   1393,  99930,  92479,   3525,\n",
       "           5388, 158520,  17593,   1797,   4925,   4342,  47955, 234699,  39265,\n",
       "          82428,   5040,  80790,   4855,  61138,  24078,   2940,   9890,   6642,\n",
       "          52324,   5359,   4128,    176,    637,   6290,   5930,  21246,  47495,\n",
       "          98868,  41459,   2634, 140782, 503578, 158294,  12640,   2090,   2493,\n",
       "          18354,  46900,   5077,    240,   1533,   7501,    495,  60102,  18480,\n",
       "         106622,  57421,   3468,     44,   4010,   2737,  68952,     44,  29020,\n",
       "          56909, 104413,    567,  69383,   4620,   8318,   1929,   2307,   2352,\n",
       "          72410,   1190,   1532,  17794,  18956,   1346,  52770,  12194,    605,\n",
       "          18389,  54874,  12772,    958,  68249,   2741,    757,   1231,     32,\n",
       "           9744,   4269,  55611,  21087,  14644,  58548,  14931,  72025,  11085,\n",
       "            656,   2636,   1209,   1703,  76100,   3133,   2481,  10934,  19268,\n",
       "          55379,   8493,     67,   7760,  66798,   2364,  80125,  10494,  77044,\n",
       "          86216,   4108,  65001,   4814,  17100,    953,  11817,  11685,  44628,\n",
       "           5865,  26563, 362164]),\n",
       " 'event_time': tensor([1614912756, 1614937408, 1614943043, 1614951663, 1614971663, 1615037832,\n",
       "         1615038670, 1615063162, 1615114485, 1615124900, 1615130729, 1615186356,\n",
       "         1615203910, 1615207595, 1615256724, 1615304575, 1615385773, 1615468556,\n",
       "         1615557287, 1615558341, 1615630275, 1615631537, 1615773595, 1615905074,\n",
       "         1615908884, 1615995235, 1616076172, 1616080924, 1616153203, 1616182386,\n",
       "         1616254614, 1616261885, 1616387468, 1616552129, 1616681350, 1616761996,\n",
       "         1616786047, 1617241672, 1617295039, 1617513828, 1617535714, 1617541423,\n",
       "         1617700554, 1617703133, 1617708598, 1617709526, 1617719735, 1617726075,\n",
       "         1617806076, 1617814305, 1617973193, 1617978918, 1618040957, 1618073814,\n",
       "         1618077189, 1618078477, 1618151530, 1618152115, 1618155093, 1618161715,\n",
       "         1618216627, 1618244291, 1618320634, 1618408193, 1618485970, 1618495789,\n",
       "         1618579103, 1618673969, 1618740723, 1618744095, 1618745195, 1618746060,\n",
       "         1618759229, 1618847707, 1619011435, 1619019958, 1619097295, 1619098986,\n",
       "         1619251552, 1619255952, 1619262528, 1619265672, 1619269874, 1619270184,\n",
       "         1619276779, 1619343505, 1619346939, 1619347466, 1619348948, 1619349409,\n",
       "         1619350320, 1619354062, 1619359104, 1619625201, 1619625472, 1619701461,\n",
       "         1619787825, 1619876219, 1619877609, 1619968838, 1620039650, 1620123972,\n",
       "         1620129193, 1620375114, 1620403832, 1620404189, 1620495258, 1620578269,\n",
       "         1620957433, 1620996029, 1621002486, 1621055350, 1621084964, 1621085271,\n",
       "         1621085567, 1621089538, 1621089954, 1621104116, 1621160890, 1621169372,\n",
       "         1621365256, 1621433793, 1621435225, 1621441241, 1621515747, 1621560368,\n",
       "         1621600925, 1621664502, 1621672769, 1621674974, 1621676155, 1621761435,\n",
       "         1621770787, 1621771122, 1621947979, 1621948311, 1621950717, 1622124589,\n",
       "         1622129890, 1622211319, 1622214647, 1622247398, 1622290056, 1622294648,\n",
       "         1622356934, 1622360303, 1622360889, 1622368063, 1622644046, 1622728362,\n",
       "         1622728448, 1622808602, 1622887470, 1622893653, 1622897529, 1622904492,\n",
       "         1622987201, 1623073076, 1623076909, 1623288969, 1623305426, 1623329542,\n",
       "         1623340150, 1623406429, 1623414812, 1623415277, 1623489470, 1623494372,\n",
       "         1623494654, 1623583151, 1623587838, 1623593825, 1623596606, 1623606165,\n",
       "         1623606418, 1623660332, 1623661725, 1623761655, 1623854134, 1623857659,\n",
       "         1623863047, 1624021567, 1624039160, 1624040957, 1624045882, 1624050224,\n",
       "         1624098179, 1624332878, 1624372143, 1624454571, 1624459611, 1624540401,\n",
       "         1624545256, 1624606394, 1624630472, 1624633412, 1624643302, 1624649944,\n",
       "         1624702268, 1624707627, 1624711755, 1624711931, 1624712568, 1624718858,\n",
       "         1624724788, 1624746034, 1624793529, 1624892397, 1624933856, 1624936490,\n",
       "         1625077272, 1625580850, 1625739144, 1625751784, 1625753874, 1625756367,\n",
       "         1625774721, 1625821621, 1625826698, 1625826938, 1625828471, 1625835972,\n",
       "         1625836467, 1625896569, 1625915049, 1626021671, 1626079092, 1626082560,\n",
       "         1626082604, 1626086614, 1626089351, 1626158303, 1626158347, 1626187367,\n",
       "         1626244276, 1626348689, 1626349256, 1626418639, 1626423259, 1626431577,\n",
       "         1626433506, 1626435813, 1626438165, 1626510575, 1626511765, 1626513297,\n",
       "         1626531091, 1626550047, 1626551393, 1626604163, 1626616357, 1626616962,\n",
       "         1626635351, 1626690225, 1626702997, 1626703955, 1626772204, 1626774945,\n",
       "         1626775702, 1626776933, 1626776965, 1626786709, 1626790978, 1626846589,\n",
       "         1626867676, 1626882320, 1626940868, 1626955799, 1627027824, 1627038909,\n",
       "         1627039565, 1627042201, 1627043410, 1627045113, 1627121213, 1627124346,\n",
       "         1627126827, 1627137761, 1627157029, 1627212408, 1627220901, 1627220968,\n",
       "         1627228728, 1627295526, 1627297890, 1627378015, 1627388509, 1627465553,\n",
       "         1627551769, 1627555877, 1627620878, 1627625692, 1627642792, 1627643745,\n",
       "         1627655562, 1627667247, 1627711875, 1627717740, 1627744303, 1628106467]),\n",
       " 'mcc_code': tensor([  5,  21,  12,   6,  18,   2,   1,   6,   1,  31,   6,  36,   6,   6,\n",
       "           5,  31,   6,  31,   5,   6,   5,   1,   5,  47,   6,   6,   1,   1,\n",
       "           3,   6,  49,  49,   5,   5,   6,  18,  18,   5,   7,   6,   6,   6,\n",
       "          76,  76,  21,   5,  21,   1,  21,  13,   6,   6,  42,   6,   6,   6,\n",
       "           4,   4,   6,   6,  42,   6,  13,  28,   5,   6,   6,   6,   5,   4,\n",
       "           6,  39,   6,   6,   2,   6,   6,   6,  21,   5,  13,  31,  20,   6,\n",
       "          20,   6,  30,  39,  84, 122,  39,   7,   6,   6,  21,   1,   6,   6,\n",
       "         101,   6,   6,  21,   6,   6,   6,   1,   6,   6,   5,   6,   6,   5,\n",
       "           6,   6,   6,   6,   6,  49,  19,   6,   6,  13,   6,   6,   6,   5,\n",
       "           6,  21,   6,  12,  20,   6,   5,   6,   6,  31,   6,   6,   6,   1,\n",
       "           1,   6,  13,   1,   6,  42,   6,  19,   6,   2,   6,   6,   6,   6,\n",
       "           6,   6,   6,   2,   2,   5,   3,  21,   6,  87,   5,   6,   6,   6,\n",
       "           6,   6,   1,   6,   1,   6,   1,   6,  21,   6,   6,   2,   1,   6,\n",
       "           1,   2,   2,   4,   6,   5,   6,   5,   6,   6,   6,   3,   1,   6,\n",
       "           1,   1,  21,   6,   6,   1,  21,   1,   1,   1,   6,   6,   1,   5,\n",
       "           1,  31,  21,  42,   6,  21,   6,   4,   5,   5,   4,   1,   6,   6,\n",
       "           1,   6,   2,  26,  12,  20,  76,   1,   1,   1,   1,   6,   5,  71,\n",
       "          71,   6,  71,  21,   1,   4,   6,   6,   6,   1,  11,  21,   6,   6,\n",
       "           1,  21,   1,   1,   4,   5,  21,  30,  26,   1,   1,   5,   6,   1,\n",
       "           5,   6,   1,   6,   1,  78,   2,   6,  21,   6,  21,   6,   6,   6,\n",
       "           5,   6,   1,   1,   1,   1,   6,   1,  20,   6,   5,   6,  21,  21,\n",
       "           6,   1,   6,  21,   5,   6])}"
      ]
     },
     "execution_count": 7,
     "metadata": {},
     "output_type": "execute_result"
    }
   ],
   "source": [
    "data[0]"
   ]
  },
  {
   "cell_type": "code",
   "execution_count": 8,
   "metadata": {},
   "outputs": [],
   "source": [
    "val_size = 0.1\n",
    "test_size = 0.1\n",
    "\n",
    "train, val_test = train_test_split(data, test_size=test_size+val_size, random_state=42)\n",
    "val, test = train_test_split(val_test, test_size=test_size/(test_size+val_size), random_state=42)"
   ]
  },
  {
   "cell_type": "code",
   "execution_count": 9,
   "metadata": {},
   "outputs": [],
   "source": [
    "train_ds = TS2VecDataset(train, min_seq_len=15)\n",
    "val_ds = TS2VecDataset(val, min_seq_len=15)\n",
    "test_ds = TS2VecDataset(test, min_seq_len=15)"
   ]
  },
  {
   "cell_type": "code",
   "execution_count": 10,
   "metadata": {},
   "outputs": [],
   "source": [
    "datamodule = PtlsDataModule(\n",
    "    train_data=train_ds,\n",
    "    valid_data=val_ds,\n",
    "    train_batch_size=128,\n",
    "    valid_batch_size=128,\n",
    "    train_num_workers=8,\n",
    "    valid_num_workers=8,\n",
    ")"
   ]
  },
  {
   "cell_type": "code",
   "execution_count": 11,
   "metadata": {},
   "outputs": [
    {
     "name": "stdout",
     "output_type": "stream",
     "text": [
      "user_id torch.Size([128])\n",
      "amount torch.Size([128, 300])\n",
      "holiday_target torch.Size([128, 300])\n",
      "weekend_target torch.Size([128, 300])\n",
      "global_target torch.Size([128])\n",
      "default_target torch.Size([128, 300])\n",
      "time_delta torch.Size([128, 300])\n",
      "event_time torch.Size([128, 300])\n",
      "mcc_code torch.Size([128, 300])\n"
     ]
    }
   ],
   "source": [
    "for batch in datamodule.train_dataloader():\n",
    "    batch\n",
    "    for field_name, field in batch[0].payload.items():\n",
    "        print(field_name, field.shape)\n",
    "    break"
   ]
  },
  {
   "cell_type": "code",
   "execution_count": 12,
   "metadata": {},
   "outputs": [
    {
     "data": {
      "text/plain": [
       "tensor([300, 300, 300, 300, 300, 300, 300, 300, 300, 300, 300, 300, 300, 300,\n",
       "        300, 300, 300, 300, 300, 300, 300, 300, 300, 300, 300, 300, 300, 300,\n",
       "        300, 300, 300, 300, 300, 300, 300, 300, 300, 300, 300, 300, 300, 300,\n",
       "        300, 300, 300, 300, 300, 300, 300, 300, 300, 300, 300, 300, 300, 300,\n",
       "        300, 300, 300, 300, 300, 300, 300, 300, 300, 300, 300, 300, 300, 300,\n",
       "        300, 300, 300, 300, 300, 300, 300, 300, 300, 300, 300, 300, 300, 300,\n",
       "        300, 300, 300, 300, 300, 300, 300, 300, 300, 300, 300, 300, 300, 300,\n",
       "        300, 300, 300, 300, 300, 300, 300, 300, 300, 300, 300, 300, 300, 300,\n",
       "        300, 300, 300, 300, 300, 300, 300, 300, 300, 300, 300, 300, 300, 300,\n",
       "        300, 300])"
      ]
     },
     "execution_count": 12,
     "metadata": {},
     "output_type": "execute_result"
    }
   ],
   "source": [
    "batch[0].seq_lens"
   ]
  },
  {
   "cell_type": "code",
   "execution_count": 13,
   "metadata": {},
   "outputs": [
    {
     "data": {
      "text/plain": [
       "tensor([[      0,     201,  100616,  ...,   46206,    9562,   15544],\n",
       "        [      0,    4883,  110328,  ...,   19312,    3134,  309238],\n",
       "        [      0,     262,   10370,  ...,    3132,   17424,  839443],\n",
       "        ...,\n",
       "        [      0,  145450,  128970,  ...,   35769,    1135,  177391],\n",
       "        [      0,   82700,   11949,  ...,   58276,  160635,   51853],\n",
       "        [      0,    2040,   87840,  ...,    4554, 2940358,  162698]])"
      ]
     },
     "execution_count": 13,
     "metadata": {},
     "output_type": "execute_result"
    }
   ],
   "source": [
    "batch[0].payload[\"time_delta\"]"
   ]
  },
  {
   "attachments": {},
   "cell_type": "markdown",
   "metadata": {},
   "source": [
    "# TS2Vec with time features"
   ]
  },
  {
   "attachments": {},
   "cell_type": "markdown",
   "metadata": {},
   "source": [
    "## Model training"
   ]
  },
  {
   "cell_type": "code",
   "execution_count": 14,
   "metadata": {},
   "outputs": [],
   "source": [
    "trx_encoder = TrxEncoder(\n",
    "    embeddings={\n",
    "        \"mcc_code\": {\"in\": 345, \"out\": 24}\n",
    "    },\n",
    "    numeric_values={\n",
    "        \"amount\": \"identity\",\n",
    "        \"event_time\": \"identity\",\n",
    "        \"time_delta\": \"identity\",\n",
    "    },\n",
    "    use_batch_norm_with_lens=True,\n",
    "    norm_embeddings=False,\n",
    "    embeddings_noise=0.0003\n",
    ")\n",
    "\n",
    "seq_encoder = ConvSeqEncoder(\n",
    "    trx_encoder,\n",
    "    hidden_size=128,\n",
    "    num_layers=5,\n",
    "    dropout=0.1,\n",
    ")"
   ]
  },
  {
   "cell_type": "code",
   "execution_count": 15,
   "metadata": {},
   "outputs": [],
   "source": [
    "lr_scheduler_partial = partial(torch.optim.lr_scheduler.ReduceLROnPlateau, factor=.9025, patience=5, mode=\"min\")\n",
    "optimizer_partial = partial(torch.optim.AdamW, lr=4e-3)\n",
    "\n",
    "model = TS2VecDynamicPool(\n",
    "    seq_encoder,\n",
    "    optimizer_partial=optimizer_partial,\n",
    "    lr_scheduler_partial=lr_scheduler_partial\n",
    ")"
   ]
  },
  {
   "cell_type": "code",
   "execution_count": 16,
   "metadata": {},
   "outputs": [
    {
     "name": "stderr",
     "output_type": "stream",
     "text": [
      "GPU available: True, used: True\n",
      "TPU available: False, using: 0 TPU cores\n",
      "IPU available: False, using: 0 IPUs\n",
      "HPU available: False, using: 0 HPUs\n",
      "LOCAL_RANK: 0 - CUDA_VISIBLE_DEVICES: [3]\n",
      "\n",
      "  | Name         | Type            | Params\n",
      "-------------------------------------------------\n",
      "0 | _loss        | DynamicPoolLoss | 0     \n",
      "1 | _seq_encoder | ConvSeqEncoder  | 93.8 K\n",
      "2 | _head        | Head            | 0     \n",
      "3 | valid_loss   | MeanMetric      | 0     \n",
      "-------------------------------------------------\n",
      "93.8 K    Trainable params\n",
      "0         Non-trainable params\n",
      "93.8 K    Total params\n",
      "0.375     Total estimated model params size (MB)\n"
     ]
    },
    {
     "data": {
      "application/vnd.jupyter.widget-view+json": {
       "model_id": "",
       "version_major": 2,
       "version_minor": 0
      },
      "text/plain": [
       "Sanity Checking: 0it [00:00, ?it/s]"
      ]
     },
     "metadata": {},
     "output_type": "display_data"
    },
    {
     "data": {
      "application/vnd.jupyter.widget-view+json": {
       "model_id": "e658fdf8403a4edf86a2511155c1df33",
       "version_major": 2,
       "version_minor": 0
      },
      "text/plain": [
       "Training: 0it [00:00, ?it/s]"
      ]
     },
     "metadata": {},
     "output_type": "display_data"
    },
    {
     "data": {
      "application/vnd.jupyter.widget-view+json": {
       "model_id": "",
       "version_major": 2,
       "version_minor": 0
      },
      "text/plain": [
       "Validation: 0it [00:00, ?it/s]"
      ]
     },
     "metadata": {},
     "output_type": "display_data"
    },
    {
     "data": {
      "application/vnd.jupyter.widget-view+json": {
       "model_id": "",
       "version_major": 2,
       "version_minor": 0
      },
      "text/plain": [
       "Validation: 0it [00:00, ?it/s]"
      ]
     },
     "metadata": {},
     "output_type": "display_data"
    },
    {
     "data": {
      "application/vnd.jupyter.widget-view+json": {
       "model_id": "",
       "version_major": 2,
       "version_minor": 0
      },
      "text/plain": [
       "Validation: 0it [00:00, ?it/s]"
      ]
     },
     "metadata": {},
     "output_type": "display_data"
    },
    {
     "data": {
      "application/vnd.jupyter.widget-view+json": {
       "model_id": "",
       "version_major": 2,
       "version_minor": 0
      },
      "text/plain": [
       "Validation: 0it [00:00, ?it/s]"
      ]
     },
     "metadata": {},
     "output_type": "display_data"
    },
    {
     "data": {
      "application/vnd.jupyter.widget-view+json": {
       "model_id": "",
       "version_major": 2,
       "version_minor": 0
      },
      "text/plain": [
       "Validation: 0it [00:00, ?it/s]"
      ]
     },
     "metadata": {},
     "output_type": "display_data"
    },
    {
     "data": {
      "application/vnd.jupyter.widget-view+json": {
       "model_id": "",
       "version_major": 2,
       "version_minor": 0
      },
      "text/plain": [
       "Validation: 0it [00:00, ?it/s]"
      ]
     },
     "metadata": {},
     "output_type": "display_data"
    },
    {
     "data": {
      "application/vnd.jupyter.widget-view+json": {
       "model_id": "",
       "version_major": 2,
       "version_minor": 0
      },
      "text/plain": [
       "Validation: 0it [00:00, ?it/s]"
      ]
     },
     "metadata": {},
     "output_type": "display_data"
    },
    {
     "data": {
      "application/vnd.jupyter.widget-view+json": {
       "model_id": "",
       "version_major": 2,
       "version_minor": 0
      },
      "text/plain": [
       "Validation: 0it [00:00, ?it/s]"
      ]
     },
     "metadata": {},
     "output_type": "display_data"
    },
    {
     "data": {
      "application/vnd.jupyter.widget-view+json": {
       "model_id": "",
       "version_major": 2,
       "version_minor": 0
      },
      "text/plain": [
       "Validation: 0it [00:00, ?it/s]"
      ]
     },
     "metadata": {},
     "output_type": "display_data"
    },
    {
     "data": {
      "application/vnd.jupyter.widget-view+json": {
       "model_id": "",
       "version_major": 2,
       "version_minor": 0
      },
      "text/plain": [
       "Validation: 0it [00:00, ?it/s]"
      ]
     },
     "metadata": {},
     "output_type": "display_data"
    },
    {
     "data": {
      "application/vnd.jupyter.widget-view+json": {
       "model_id": "",
       "version_major": 2,
       "version_minor": 0
      },
      "text/plain": [
       "Validation: 0it [00:00, ?it/s]"
      ]
     },
     "metadata": {},
     "output_type": "display_data"
    },
    {
     "data": {
      "application/vnd.jupyter.widget-view+json": {
       "model_id": "",
       "version_major": 2,
       "version_minor": 0
      },
      "text/plain": [
       "Validation: 0it [00:00, ?it/s]"
      ]
     },
     "metadata": {},
     "output_type": "display_data"
    },
    {
     "data": {
      "application/vnd.jupyter.widget-view+json": {
       "model_id": "",
       "version_major": 2,
       "version_minor": 0
      },
      "text/plain": [
       "Validation: 0it [00:00, ?it/s]"
      ]
     },
     "metadata": {},
     "output_type": "display_data"
    },
    {
     "data": {
      "application/vnd.jupyter.widget-view+json": {
       "model_id": "",
       "version_major": 2,
       "version_minor": 0
      },
      "text/plain": [
       "Validation: 0it [00:00, ?it/s]"
      ]
     },
     "metadata": {},
     "output_type": "display_data"
    },
    {
     "data": {
      "application/vnd.jupyter.widget-view+json": {
       "model_id": "",
       "version_major": 2,
       "version_minor": 0
      },
      "text/plain": [
       "Validation: 0it [00:00, ?it/s]"
      ]
     },
     "metadata": {},
     "output_type": "display_data"
    },
    {
     "data": {
      "application/vnd.jupyter.widget-view+json": {
       "model_id": "",
       "version_major": 2,
       "version_minor": 0
      },
      "text/plain": [
       "Validation: 0it [00:00, ?it/s]"
      ]
     },
     "metadata": {},
     "output_type": "display_data"
    },
    {
     "data": {
      "application/vnd.jupyter.widget-view+json": {
       "model_id": "",
       "version_major": 2,
       "version_minor": 0
      },
      "text/plain": [
       "Validation: 0it [00:00, ?it/s]"
      ]
     },
     "metadata": {},
     "output_type": "display_data"
    },
    {
     "data": {
      "application/vnd.jupyter.widget-view+json": {
       "model_id": "",
       "version_major": 2,
       "version_minor": 0
      },
      "text/plain": [
       "Validation: 0it [00:00, ?it/s]"
      ]
     },
     "metadata": {},
     "output_type": "display_data"
    },
    {
     "data": {
      "application/vnd.jupyter.widget-view+json": {
       "model_id": "",
       "version_major": 2,
       "version_minor": 0
      },
      "text/plain": [
       "Validation: 0it [00:00, ?it/s]"
      ]
     },
     "metadata": {},
     "output_type": "display_data"
    },
    {
     "data": {
      "application/vnd.jupyter.widget-view+json": {
       "model_id": "",
       "version_major": 2,
       "version_minor": 0
      },
      "text/plain": [
       "Validation: 0it [00:00, ?it/s]"
      ]
     },
     "metadata": {},
     "output_type": "display_data"
    },
    {
     "data": {
      "application/vnd.jupyter.widget-view+json": {
       "model_id": "",
       "version_major": 2,
       "version_minor": 0
      },
      "text/plain": [
       "Validation: 0it [00:00, ?it/s]"
      ]
     },
     "metadata": {},
     "output_type": "display_data"
    },
    {
     "data": {
      "application/vnd.jupyter.widget-view+json": {
       "model_id": "",
       "version_major": 2,
       "version_minor": 0
      },
      "text/plain": [
       "Validation: 0it [00:00, ?it/s]"
      ]
     },
     "metadata": {},
     "output_type": "display_data"
    },
    {
     "data": {
      "application/vnd.jupyter.widget-view+json": {
       "model_id": "",
       "version_major": 2,
       "version_minor": 0
      },
      "text/plain": [
       "Validation: 0it [00:00, ?it/s]"
      ]
     },
     "metadata": {},
     "output_type": "display_data"
    },
    {
     "data": {
      "application/vnd.jupyter.widget-view+json": {
       "model_id": "",
       "version_major": 2,
       "version_minor": 0
      },
      "text/plain": [
       "Validation: 0it [00:00, ?it/s]"
      ]
     },
     "metadata": {},
     "output_type": "display_data"
    },
    {
     "data": {
      "application/vnd.jupyter.widget-view+json": {
       "model_id": "",
       "version_major": 2,
       "version_minor": 0
      },
      "text/plain": [
       "Validation: 0it [00:00, ?it/s]"
      ]
     },
     "metadata": {},
     "output_type": "display_data"
    },
    {
     "data": {
      "application/vnd.jupyter.widget-view+json": {
       "model_id": "",
       "version_major": 2,
       "version_minor": 0
      },
      "text/plain": [
       "Validation: 0it [00:00, ?it/s]"
      ]
     },
     "metadata": {},
     "output_type": "display_data"
    },
    {
     "data": {
      "application/vnd.jupyter.widget-view+json": {
       "model_id": "",
       "version_major": 2,
       "version_minor": 0
      },
      "text/plain": [
       "Validation: 0it [00:00, ?it/s]"
      ]
     },
     "metadata": {},
     "output_type": "display_data"
    },
    {
     "data": {
      "application/vnd.jupyter.widget-view+json": {
       "model_id": "",
       "version_major": 2,
       "version_minor": 0
      },
      "text/plain": [
       "Validation: 0it [00:00, ?it/s]"
      ]
     },
     "metadata": {},
     "output_type": "display_data"
    },
    {
     "data": {
      "application/vnd.jupyter.widget-view+json": {
       "model_id": "",
       "version_major": 2,
       "version_minor": 0
      },
      "text/plain": [
       "Validation: 0it [00:00, ?it/s]"
      ]
     },
     "metadata": {},
     "output_type": "display_data"
    },
    {
     "data": {
      "application/vnd.jupyter.widget-view+json": {
       "model_id": "",
       "version_major": 2,
       "version_minor": 0
      },
      "text/plain": [
       "Validation: 0it [00:00, ?it/s]"
      ]
     },
     "metadata": {},
     "output_type": "display_data"
    },
    {
     "data": {
      "application/vnd.jupyter.widget-view+json": {
       "model_id": "",
       "version_major": 2,
       "version_minor": 0
      },
      "text/plain": [
       "Validation: 0it [00:00, ?it/s]"
      ]
     },
     "metadata": {},
     "output_type": "display_data"
    },
    {
     "data": {
      "application/vnd.jupyter.widget-view+json": {
       "model_id": "",
       "version_major": 2,
       "version_minor": 0
      },
      "text/plain": [
       "Validation: 0it [00:00, ?it/s]"
      ]
     },
     "metadata": {},
     "output_type": "display_data"
    },
    {
     "data": {
      "application/vnd.jupyter.widget-view+json": {
       "model_id": "",
       "version_major": 2,
       "version_minor": 0
      },
      "text/plain": [
       "Validation: 0it [00:00, ?it/s]"
      ]
     },
     "metadata": {},
     "output_type": "display_data"
    },
    {
     "data": {
      "application/vnd.jupyter.widget-view+json": {
       "model_id": "",
       "version_major": 2,
       "version_minor": 0
      },
      "text/plain": [
       "Validation: 0it [00:00, ?it/s]"
      ]
     },
     "metadata": {},
     "output_type": "display_data"
    },
    {
     "data": {
      "application/vnd.jupyter.widget-view+json": {
       "model_id": "",
       "version_major": 2,
       "version_minor": 0
      },
      "text/plain": [
       "Validation: 0it [00:00, ?it/s]"
      ]
     },
     "metadata": {},
     "output_type": "display_data"
    },
    {
     "data": {
      "application/vnd.jupyter.widget-view+json": {
       "model_id": "",
       "version_major": 2,
       "version_minor": 0
      },
      "text/plain": [
       "Validation: 0it [00:00, ?it/s]"
      ]
     },
     "metadata": {},
     "output_type": "display_data"
    },
    {
     "data": {
      "application/vnd.jupyter.widget-view+json": {
       "model_id": "",
       "version_major": 2,
       "version_minor": 0
      },
      "text/plain": [
       "Validation: 0it [00:00, ?it/s]"
      ]
     },
     "metadata": {},
     "output_type": "display_data"
    },
    {
     "data": {
      "application/vnd.jupyter.widget-view+json": {
       "model_id": "",
       "version_major": 2,
       "version_minor": 0
      },
      "text/plain": [
       "Validation: 0it [00:00, ?it/s]"
      ]
     },
     "metadata": {},
     "output_type": "display_data"
    },
    {
     "data": {
      "application/vnd.jupyter.widget-view+json": {
       "model_id": "",
       "version_major": 2,
       "version_minor": 0
      },
      "text/plain": [
       "Validation: 0it [00:00, ?it/s]"
      ]
     },
     "metadata": {},
     "output_type": "display_data"
    },
    {
     "data": {
      "application/vnd.jupyter.widget-view+json": {
       "model_id": "",
       "version_major": 2,
       "version_minor": 0
      },
      "text/plain": [
       "Validation: 0it [00:00, ?it/s]"
      ]
     },
     "metadata": {},
     "output_type": "display_data"
    },
    {
     "data": {
      "application/vnd.jupyter.widget-view+json": {
       "model_id": "",
       "version_major": 2,
       "version_minor": 0
      },
      "text/plain": [
       "Validation: 0it [00:00, ?it/s]"
      ]
     },
     "metadata": {},
     "output_type": "display_data"
    },
    {
     "data": {
      "application/vnd.jupyter.widget-view+json": {
       "model_id": "",
       "version_major": 2,
       "version_minor": 0
      },
      "text/plain": [
       "Validation: 0it [00:00, ?it/s]"
      ]
     },
     "metadata": {},
     "output_type": "display_data"
    },
    {
     "data": {
      "application/vnd.jupyter.widget-view+json": {
       "model_id": "",
       "version_major": 2,
       "version_minor": 0
      },
      "text/plain": [
       "Validation: 0it [00:00, ?it/s]"
      ]
     },
     "metadata": {},
     "output_type": "display_data"
    },
    {
     "data": {
      "application/vnd.jupyter.widget-view+json": {
       "model_id": "",
       "version_major": 2,
       "version_minor": 0
      },
      "text/plain": [
       "Validation: 0it [00:00, ?it/s]"
      ]
     },
     "metadata": {},
     "output_type": "display_data"
    },
    {
     "data": {
      "application/vnd.jupyter.widget-view+json": {
       "model_id": "",
       "version_major": 2,
       "version_minor": 0
      },
      "text/plain": [
       "Validation: 0it [00:00, ?it/s]"
      ]
     },
     "metadata": {},
     "output_type": "display_data"
    },
    {
     "data": {
      "application/vnd.jupyter.widget-view+json": {
       "model_id": "",
       "version_major": 2,
       "version_minor": 0
      },
      "text/plain": [
       "Validation: 0it [00:00, ?it/s]"
      ]
     },
     "metadata": {},
     "output_type": "display_data"
    },
    {
     "data": {
      "application/vnd.jupyter.widget-view+json": {
       "model_id": "",
       "version_major": 2,
       "version_minor": 0
      },
      "text/plain": [
       "Validation: 0it [00:00, ?it/s]"
      ]
     },
     "metadata": {},
     "output_type": "display_data"
    },
    {
     "data": {
      "application/vnd.jupyter.widget-view+json": {
       "model_id": "01a49234058e4965af8e4144e22e503e",
       "version_major": 2,
       "version_minor": 0
      },
      "text/plain": [
       "Validation: 0it [00:00, ?it/s]"
      ]
     },
     "metadata": {},
     "output_type": "display_data"
    },
    {
     "data": {
      "application/vnd.jupyter.widget-view+json": {
       "model_id": "c5ee97a4f0ba445ca77caf8588933c16",
       "version_major": 2,
       "version_minor": 0
      },
      "text/plain": [
       "Validation: 0it [00:00, ?it/s]"
      ]
     },
     "metadata": {},
     "output_type": "display_data"
    },
    {
     "data": {
      "application/vnd.jupyter.widget-view+json": {
       "model_id": "11f69df0a93e4da69fcd88e26a398906",
       "version_major": 2,
       "version_minor": 0
      },
      "text/plain": [
       "Validation: 0it [00:00, ?it/s]"
      ]
     },
     "metadata": {},
     "output_type": "display_data"
    }
   ],
   "source": [
    "checkpoint = ModelCheckpoint(\n",
    "    monitor=\"valid_loss\", \n",
    "    mode=\"min\"\n",
    ")\n",
    "\n",
    "trainer = Trainer(\n",
    "    max_epochs=50,\n",
    "    devices=[0],\n",
    "    accelerator=\"gpu\",\n",
    "    callbacks=[checkpoint],\n",
    "    log_every_n_steps=20,\n",
    ")\n",
    "\n",
    "trainer.fit(model, datamodule)"
   ]
  },
  {
   "cell_type": "code",
   "execution_count": 17,
   "metadata": {},
   "outputs": [
    {
     "data": {
      "text/plain": [
       "<All keys matched successfully>"
      ]
     },
     "execution_count": 17,
     "metadata": {},
     "output_type": "execute_result"
    }
   ],
   "source": [
    "model.load_state_dict(torch.load(checkpoint.best_model_path)[\"state_dict\"])"
   ]
  },
  {
   "cell_type": "code",
   "execution_count": 18,
   "metadata": {},
   "outputs": [],
   "source": [
    "torch.save(model.seq_encoder.state_dict(), \"ts2vec_dynamic_pool_default_date.pth\")"
   ]
  },
  {
   "attachments": {},
   "cell_type": "markdown",
   "metadata": {},
   "source": [
    "## Model evaluation"
   ]
  },
  {
   "cell_type": "code",
   "execution_count": 19,
   "metadata": {},
   "outputs": [],
   "source": [
    "train_val_ds = TS2VecDataset(train + val, min_seq_len=15)"
   ]
  },
  {
   "cell_type": "code",
   "execution_count": 20,
   "metadata": {},
   "outputs": [
    {
     "name": "stdout",
     "output_type": "stream",
     "text": [
      "Train size: 6372\n",
      "Test size: 708\n"
     ]
    }
   ],
   "source": [
    "X_train, y_train = encode_data(model.seq_encoder, train_val_ds)\n",
    "X_test, y_test = encode_data(model.seq_encoder, test_ds)\n",
    "\n",
    "print(\"Train size:\", len(y_train))\n",
    "print(\"Test size:\", len(y_test))"
   ]
  },
  {
   "cell_type": "code",
   "execution_count": 21,
   "metadata": {},
   "outputs": [
    {
     "name": "stderr",
     "output_type": "stream",
     "text": [
      "100%|████████████████████████████████████████████████████████████████████████████████████████████████████████████████████| 10/10 [00:59<00:00,  5.94s/it]\n"
     ]
    }
   ],
   "source": [
    "results = bootstrap_eval(X_train, X_test, y_train, y_test, n_runs=10)"
   ]
  },
  {
   "cell_type": "code",
   "execution_count": 22,
   "metadata": {},
   "outputs": [
    {
     "data": {
      "text/html": [
       "<div>\n",
       "<style scoped>\n",
       "    .dataframe tbody tr th:only-of-type {\n",
       "        vertical-align: middle;\n",
       "    }\n",
       "\n",
       "    .dataframe tbody tr th {\n",
       "        vertical-align: top;\n",
       "    }\n",
       "\n",
       "    .dataframe thead th {\n",
       "        text-align: right;\n",
       "    }\n",
       "</style>\n",
       "<table border=\"1\" class=\"dataframe\">\n",
       "  <thead>\n",
       "    <tr style=\"text-align: right;\">\n",
       "      <th></th>\n",
       "      <th>ROC-AUC</th>\n",
       "      <th>PR-AUC</th>\n",
       "      <th>Accuracy</th>\n",
       "    </tr>\n",
       "  </thead>\n",
       "  <tbody>\n",
       "    <tr>\n",
       "      <th>0</th>\n",
       "      <td>0.588514</td>\n",
       "      <td>0.063550</td>\n",
       "      <td>0.961864</td>\n",
       "    </tr>\n",
       "    <tr>\n",
       "      <th>1</th>\n",
       "      <td>0.603198</td>\n",
       "      <td>0.059045</td>\n",
       "      <td>0.961864</td>\n",
       "    </tr>\n",
       "    <tr>\n",
       "      <th>2</th>\n",
       "      <td>0.582259</td>\n",
       "      <td>0.058822</td>\n",
       "      <td>0.961864</td>\n",
       "    </tr>\n",
       "    <tr>\n",
       "      <th>3</th>\n",
       "      <td>0.630119</td>\n",
       "      <td>0.103049</td>\n",
       "      <td>0.961864</td>\n",
       "    </tr>\n",
       "    <tr>\n",
       "      <th>4</th>\n",
       "      <td>0.596563</td>\n",
       "      <td>0.064465</td>\n",
       "      <td>0.961864</td>\n",
       "    </tr>\n",
       "    <tr>\n",
       "      <th>5</th>\n",
       "      <td>0.605482</td>\n",
       "      <td>0.101790</td>\n",
       "      <td>0.961864</td>\n",
       "    </tr>\n",
       "    <tr>\n",
       "      <th>6</th>\n",
       "      <td>0.598738</td>\n",
       "      <td>0.067069</td>\n",
       "      <td>0.961864</td>\n",
       "    </tr>\n",
       "    <tr>\n",
       "      <th>7</th>\n",
       "      <td>0.535705</td>\n",
       "      <td>0.056891</td>\n",
       "      <td>0.961864</td>\n",
       "    </tr>\n",
       "    <tr>\n",
       "      <th>8</th>\n",
       "      <td>0.614891</td>\n",
       "      <td>0.084487</td>\n",
       "      <td>0.961864</td>\n",
       "    </tr>\n",
       "    <tr>\n",
       "      <th>9</th>\n",
       "      <td>0.593735</td>\n",
       "      <td>0.072825</td>\n",
       "      <td>0.961864</td>\n",
       "    </tr>\n",
       "  </tbody>\n",
       "</table>\n",
       "</div>"
      ],
      "text/plain": [
       "    ROC-AUC    PR-AUC  Accuracy\n",
       "0  0.588514  0.063550  0.961864\n",
       "1  0.603198  0.059045  0.961864\n",
       "2  0.582259  0.058822  0.961864\n",
       "3  0.630119  0.103049  0.961864\n",
       "4  0.596563  0.064465  0.961864\n",
       "5  0.605482  0.101790  0.961864\n",
       "6  0.598738  0.067069  0.961864\n",
       "7  0.535705  0.056891  0.961864\n",
       "8  0.614891  0.084487  0.961864\n",
       "9  0.593735  0.072825  0.961864"
      ]
     },
     "execution_count": 22,
     "metadata": {},
     "output_type": "execute_result"
    }
   ],
   "source": [
    "results"
   ]
  },
  {
   "cell_type": "code",
   "execution_count": 23,
   "metadata": {},
   "outputs": [
    {
     "data": {
      "text/html": [
       "<div>\n",
       "<style scoped>\n",
       "    .dataframe tbody tr th:only-of-type {\n",
       "        vertical-align: middle;\n",
       "    }\n",
       "\n",
       "    .dataframe tbody tr th {\n",
       "        vertical-align: top;\n",
       "    }\n",
       "\n",
       "    .dataframe thead th {\n",
       "        text-align: right;\n",
       "    }\n",
       "</style>\n",
       "<table border=\"1\" class=\"dataframe\">\n",
       "  <thead>\n",
       "    <tr style=\"text-align: right;\">\n",
       "      <th></th>\n",
       "      <th>ROC-AUC</th>\n",
       "      <th>PR-AUC</th>\n",
       "      <th>Accuracy</th>\n",
       "    </tr>\n",
       "  </thead>\n",
       "  <tbody>\n",
       "    <tr>\n",
       "      <th>mean</th>\n",
       "      <td>0.59492</td>\n",
       "      <td>0.073199</td>\n",
       "      <td>9.618644e-01</td>\n",
       "    </tr>\n",
       "    <tr>\n",
       "      <th>std</th>\n",
       "      <td>0.02482</td>\n",
       "      <td>0.017372</td>\n",
       "      <td>1.170278e-16</td>\n",
       "    </tr>\n",
       "  </tbody>\n",
       "</table>\n",
       "</div>"
      ],
      "text/plain": [
       "      ROC-AUC    PR-AUC      Accuracy\n",
       "mean  0.59492  0.073199  9.618644e-01\n",
       "std   0.02482  0.017372  1.170278e-16"
      ]
     },
     "execution_count": 23,
     "metadata": {},
     "output_type": "execute_result"
    }
   ],
   "source": [
    "results.agg([\"mean\", \"std\"])"
   ]
  }
 ],
 "metadata": {
  "kernelspec": {
   "display_name": "Python 3 (ipykernel)",
   "language": "python",
   "name": "python3"
  },
  "language_info": {
   "codemirror_mode": {
    "name": "ipython",
    "version": 3
   },
   "file_extension": ".py",
   "mimetype": "text/x-python",
   "name": "python",
   "nbconvert_exporter": "python",
   "pygments_lexer": "ipython3",
   "version": "3.11.6"
  },
  "vscode": {
   "interpreter": {
    "hash": "1d85f8d091281e8cdbbabc30d35abdaebd4eb091dd84d434d9fa6db6a3942f76"
   }
  }
 },
 "nbformat": 4,
 "nbformat_minor": 4
}
