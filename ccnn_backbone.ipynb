{
 "cells": [
  {
   "cell_type": "code",
   "execution_count": 1,
   "metadata": {},
   "outputs": [
    {
     "name": "stderr",
     "output_type": "stream",
     "text": [
      "comet_ml is installed but `COMET_API_KEY` is not set.\n"
     ]
    }
   ],
   "source": [
    "from functools import partial\n",
    "\n",
    "import pandas as pd\n",
    "import numpy as np\n",
    "\n",
    "from sklearn.model_selection import train_test_split\n",
    "\n",
    "import torch\n",
    "\n",
    "from pytorch_lightning.callbacks import ModelCheckpoint\n",
    "from pytorch_lightning.trainer import Trainer\n",
    "from pytorch_lightning.loggers import CometLogger\n",
    "\n",
    "from ptls.data_load.iterable_processing import SeqLenFilter\n",
    "from ptls.data_load.datasets import MemoryMapDataset\n",
    "from ptls.preprocessing import PandasDataPreprocessor\n",
    "from ptls.frames import PtlsDataModule\n",
    "\n",
    "from nn.trx_encoder import TimeTrxEncoder\n",
    "from nn.seq_encoder import ContConvSeqEncoder\n",
    "\n",
    "from datasets import TS2VecDataset\n",
    "\n",
    "from utils.encode import encode_data\n",
    "from utils.evaluation import bootstrap_eval\n",
    "from utils.preprocessing import CustomDatetimeNormalization"
   ]
  },
  {
   "cell_type": "code",
   "execution_count": 2,
   "metadata": {},
   "outputs": [],
   "source": [
    "from ptls.frames.abs_module import ABSModule\n",
    "from ptls.data_load.padded_batch import PaddedBatch\n",
    "from ptls.nn.head import Head\n",
    "\n",
    "from torchmetrics import MeanMetric\n",
    "\n",
    "from losses.hierarchical_contrastive_loss import HierarchicalContrastiveLoss\n",
    "from modules import take_per_row, mask_input\n",
    "\n",
    "# fixed TS2Vec module for TimeTrxEncoder\n",
    "# TODO: join 2 versions\n",
    "\n",
    "class TS2VecTime(ABSModule):\n",
    "    '''The TS2Vec model'''\n",
    "    def __init__(\n",
    "        self,\n",
    "        seq_encoder,\n",
    "        mask_mode=\"binomial\",\n",
    "        head=None,\n",
    "        loss=None,\n",
    "        validation_metric=None,\n",
    "        optimizer_partial=None,\n",
    "        lr_scheduler_partial=None\n",
    "    ):\n",
    "        ''' Initialize a TS2Vec model.\n",
    "        \n",
    "        Args:\n",
    "        '''\n",
    "        if head is None:\n",
    "            head = Head(use_norm_encoder=True)\n",
    "        \n",
    "        if loss is None:\n",
    "            loss = HierarchicalContrastiveLoss(alpha=0.5, temporal_unit=0)\n",
    "\n",
    "        self.temporal_unit = loss.temporal_unit\n",
    "        self.mask_mode = mask_mode\n",
    "        \n",
    "        super().__init__(validation_metric,\n",
    "                         seq_encoder,\n",
    "                         loss,\n",
    "                         optimizer_partial,\n",
    "                         lr_scheduler_partial)\n",
    "\n",
    "        self._head = head\n",
    "        self.valid_loss = MeanMetric()\n",
    "\n",
    "    def shared_step(self, x, y):\n",
    "        trx_encoder = self._seq_encoder.trx_encoder\n",
    "        seq_encoder = self._seq_encoder.seq_encoder \n",
    "\n",
    "        seq_lens = x.seq_lens\n",
    "        encoder_out = trx_encoder(x).payload\n",
    "\n",
    "        x = encoder_out[\"embeddings\"]\n",
    "        t = encoder_out[\"event_time\"]\n",
    "\n",
    "        ts_l = x.size(1)\n",
    "        crop_l = np.random.randint(low=2 ** (self.temporal_unit + 1), high=ts_l+1)\n",
    "        crop_left = np.random.randint(ts_l - crop_l + 1)\n",
    "        crop_right = crop_left + crop_l\n",
    "        crop_eleft = np.random.randint(crop_left + 1)\n",
    "        crop_eright = np.random.randint(low=crop_right, high=ts_l + 1)\n",
    "        crop_offset = np.random.randint(low=-crop_eleft, high=ts_l - crop_eright + 1, size=x.size(0))\n",
    "\n",
    "        input1 = take_per_row(x, crop_offset + crop_eleft, crop_right - crop_eleft)\n",
    "        input2 = take_per_row(x, crop_offset + crop_left, crop_eright - crop_left)\n",
    "        \n",
    "        t1 = take_per_row(t, crop_offset + crop_eleft, crop_right - crop_eleft)\n",
    "        t2 = take_per_row(t, crop_offset + crop_left, crop_eright - crop_left)\n",
    "        \n",
    "        input1_masked = mask_input(input1, self.mask_mode)\n",
    "        input2_masked = mask_input(input2, self.mask_mode)\n",
    "        \n",
    "        out1 = seq_encoder(PaddedBatch({\"embeddings\": input1_masked, \"event_time\": t1}, seq_lens)).payload\n",
    "        out1 = out1[:, -crop_l:]\n",
    "\n",
    "        out2 = seq_encoder(PaddedBatch({\"embeddings\": input2_masked, \"event_time\": t2}, seq_lens)).payload\n",
    "        out2 = out2[:, :crop_l]\n",
    "        \n",
    "        if self._head is not None:\n",
    "            out1 = self._head(out1)\n",
    "            out2 = self._head(out2)\n",
    "\n",
    "        return (out1, out2), y\n",
    "\n",
    "    def validation_step(self, batch, _):\n",
    "        y_h, y = self.shared_step(*batch)\n",
    "        loss = self._loss(y_h, y)\n",
    "        self.valid_loss(loss)\n",
    "\n",
    "    def validation_epoch_end(self, outputs):\n",
    "        self.log(f'valid_loss', self.valid_loss, prog_bar=True)\n",
    "\n",
    "    @property\n",
    "    def is_requires_reduced_sequence(self):\n",
    "        return False\n",
    "    \n",
    "    @property\n",
    "    def metric_name(self):\n",
    "        return \"valid_loss\""
   ]
  },
  {
   "cell_type": "markdown",
   "metadata": {},
   "source": [
    "# Read and preprocess data"
   ]
  },
  {
   "cell_type": "code",
   "execution_count": 3,
   "metadata": {},
   "outputs": [
    {
     "data": {
      "text/html": [
       "<div>\n",
       "<style scoped>\n",
       "    .dataframe tbody tr th:only-of-type {\n",
       "        vertical-align: middle;\n",
       "    }\n",
       "\n",
       "    .dataframe tbody tr th {\n",
       "        vertical-align: top;\n",
       "    }\n",
       "\n",
       "    .dataframe thead th {\n",
       "        text-align: right;\n",
       "    }\n",
       "</style>\n",
       "<table border=\"1\" class=\"dataframe\">\n",
       "  <thead>\n",
       "    <tr style=\"text-align: right;\">\n",
       "      <th></th>\n",
       "      <th>user_id</th>\n",
       "      <th>mcc_code</th>\n",
       "      <th>timestamp</th>\n",
       "      <th>amount</th>\n",
       "      <th>global_target</th>\n",
       "      <th>holiday_target</th>\n",
       "      <th>weekend_target</th>\n",
       "      <th>churn_target</th>\n",
       "    </tr>\n",
       "  </thead>\n",
       "  <tbody>\n",
       "    <tr>\n",
       "      <th>0</th>\n",
       "      <td>0</td>\n",
       "      <td>147</td>\n",
       "      <td>2017-10-21 00:00:00</td>\n",
       "      <td>5023.0</td>\n",
       "      <td>0</td>\n",
       "      <td>0</td>\n",
       "      <td>1</td>\n",
       "      <td>0</td>\n",
       "    </tr>\n",
       "    <tr>\n",
       "      <th>1</th>\n",
       "      <td>0</td>\n",
       "      <td>244</td>\n",
       "      <td>2017-10-12 12:24:07</td>\n",
       "      <td>20000.0</td>\n",
       "      <td>0</td>\n",
       "      <td>0</td>\n",
       "      <td>0</td>\n",
       "      <td>0</td>\n",
       "    </tr>\n",
       "    <tr>\n",
       "      <th>2</th>\n",
       "      <td>0</td>\n",
       "      <td>204</td>\n",
       "      <td>2017-12-05 00:00:00</td>\n",
       "      <td>767.0</td>\n",
       "      <td>0</td>\n",
       "      <td>0</td>\n",
       "      <td>0</td>\n",
       "      <td>0</td>\n",
       "    </tr>\n",
       "    <tr>\n",
       "      <th>3</th>\n",
       "      <td>0</td>\n",
       "      <td>158</td>\n",
       "      <td>2017-10-21 00:00:00</td>\n",
       "      <td>2031.0</td>\n",
       "      <td>0</td>\n",
       "      <td>0</td>\n",
       "      <td>1</td>\n",
       "      <td>0</td>\n",
       "    </tr>\n",
       "    <tr>\n",
       "      <th>4</th>\n",
       "      <td>0</td>\n",
       "      <td>245</td>\n",
       "      <td>2017-10-24 13:14:24</td>\n",
       "      <td>36562.0</td>\n",
       "      <td>0</td>\n",
       "      <td>0</td>\n",
       "      <td>0</td>\n",
       "      <td>0</td>\n",
       "    </tr>\n",
       "  </tbody>\n",
       "</table>\n",
       "</div>"
      ],
      "text/plain": [
       "   user_id  mcc_code           timestamp   amount  global_target  \\\n",
       "0        0       147 2017-10-21 00:00:00   5023.0              0   \n",
       "1        0       244 2017-10-12 12:24:07  20000.0              0   \n",
       "2        0       204 2017-12-05 00:00:00    767.0              0   \n",
       "3        0       158 2017-10-21 00:00:00   2031.0              0   \n",
       "4        0       245 2017-10-24 13:14:24  36562.0              0   \n",
       "\n",
       "   holiday_target  weekend_target  churn_target  \n",
       "0               0               1             0  \n",
       "1               0               0             0  \n",
       "2               0               0             0  \n",
       "3               0               1             0  \n",
       "4               0               0             0  "
      ]
     },
     "execution_count": 3,
     "metadata": {},
     "output_type": "execute_result"
    }
   ],
   "source": [
    "df = pd.read_parquet(\"data/preprocessed_new/churn.parquet\")\n",
    "df.head()"
   ]
  },
  {
   "cell_type": "code",
   "execution_count": 4,
   "metadata": {},
   "outputs": [],
   "source": [
    "# normilize times for convolutions\n",
    "min_timestamp = int(df[\"timestamp\"].min().timestamp())\n",
    "\n",
    "time_transformer = CustomDatetimeNormalization(\n",
    "    col_name_original=\"timestamp\",\n",
    "    min_timestamp=min_timestamp,\n",
    "    col_name_target=\"event_time\",\n",
    ")\n",
    "\n",
    "preprocessor = PandasDataPreprocessor(\n",
    "    col_id=\"user_id\",\n",
    "    col_event_time=time_transformer,\n",
    "    cols_category=[\"mcc_code\"],\n",
    "    cols_first_item=[\"global_target\"]\n",
    ")\n",
    "\n",
    "data = preprocessor.fit_transform(df)"
   ]
  },
  {
   "cell_type": "code",
   "execution_count": 5,
   "metadata": {},
   "outputs": [],
   "source": [
    "val_size = 0.1\n",
    "test_size = 0.1\n",
    "\n",
    "train, val_test = train_test_split(data, test_size=test_size+val_size, random_state=42)\n",
    "val, test = train_test_split(val_test, test_size=test_size/(test_size+val_size), random_state=42)\n",
    "\n",
    "train_ds = TS2VecDataset(train, min_seq_len=15)\n",
    "val_ds = TS2VecDataset(val, min_seq_len=15)\n",
    "test_ds = TS2VecDataset(test, min_seq_len=15)\n",
    "\n",
    "datamodule = PtlsDataModule(\n",
    "    train_data=train_ds,\n",
    "    valid_data=val_ds,\n",
    "    train_batch_size=16,\n",
    "    valid_batch_size=16,\n",
    "    train_num_workers=8,\n",
    "    valid_num_workers=8\n",
    ")"
   ]
  },
  {
   "cell_type": "code",
   "execution_count": 6,
   "metadata": {},
   "outputs": [
    {
     "name": "stdout",
     "output_type": "stream",
     "text": [
      "Num parameters: 122474\n"
     ]
    }
   ],
   "source": [
    "trx_encoder = TimeTrxEncoder(\n",
    "    use_batch_norm_with_lens=True,\n",
    "    norm_embeddings=False,\n",
    "    embeddings_noise=0.003,\n",
    "    embeddings={\n",
    "        \"mcc_code\": {\"in\": 345, \"out\": 24}\n",
    "    },\n",
    "    numeric_values={\n",
    "        \"amount\": \"identity\"\n",
    "    }\n",
    ")\n",
    "\n",
    "seq_encoder = ContConvSeqEncoder(\n",
    "        trx_encoder,\n",
    "        is_reduce_sequence=False,\n",
    "        kernel_hiddens=[8, 16, 8],\n",
    "        hidden_size=32,\n",
    "        num_layers=10,\n",
    "        kernel_size=5,\n",
    "        dropout=0.1,\n",
    "    )\n",
    "\n",
    "num_params = sum([p.numel() for p in seq_encoder.parameters()])\n",
    "print(\"Num parameters:\", num_params)"
   ]
  },
  {
   "cell_type": "code",
   "execution_count": 7,
   "metadata": {},
   "outputs": [],
   "source": [
    "lr_scheduler_partial = partial(torch.optim.lr_scheduler.ReduceLROnPlateau, factor=.9025, patience=5, mode=\"min\")\n",
    "optimizer_partial = partial(torch.optim.Adam, lr=3e-4)\n",
    "\n",
    "model = TS2VecTime(\n",
    "    seq_encoder,\n",
    "    optimizer_partial=optimizer_partial,\n",
    "    lr_scheduler_partial=lr_scheduler_partial\n",
    ")"
   ]
  },
  {
   "cell_type": "code",
   "execution_count": 13,
   "metadata": {},
   "outputs": [
    {
     "name": "stderr",
     "output_type": "stream",
     "text": [
      "CometLogger will be initialized in online mode\n",
      "GPU available: True, used: True\n",
      "TPU available: False, using: 0 TPU cores\n",
      "IPU available: False, using: 0 IPUs\n",
      "HPU available: False, using: 0 HPUs\n",
      "LOCAL_RANK: 0 - CUDA_VISIBLE_DEVICES: [0,1,2,3]\n",
      "\n",
      "  | Name         | Type                        | Params\n",
      "-------------------------------------------------------------\n",
      "0 | _loss        | HierarchicalContrastiveLoss | 0     \n",
      "1 | _seq_encoder | ContConvSeqEncoder          | 120 K \n",
      "2 | _head        | Head                        | 0     \n",
      "3 | valid_loss   | MeanMetric                  | 0     \n",
      "-------------------------------------------------------------\n",
      "120 K     Trainable params\n",
      "0         Non-trainable params\n",
      "120 K     Total params\n",
      "0.481     Total estimated model params size (MB)\n",
      "\u001b[1;38;5;214mCOMET WARNING:\u001b[0m To get all data logged automatically, import comet_ml before the following modules: torch, sklearn.\n",
      "\u001b[1;38;5;214mCOMET WARNING:\u001b[0m As you are running in a Jupyter environment, you will need to call `experiment.end()` when finished to ensure all metrics and code are logged before exiting.\n",
      "\u001b[1;38;5;39mCOMET INFO:\u001b[0m Experiment is live on comet.com https://www.comet.com/stalex2902/ts2vec-irregular/499cfa4d0f1c46169b152b50fea4a283\n",
      "\n"
     ]
    },
    {
     "data": {
      "application/vnd.jupyter.widget-view+json": {
       "model_id": "415f953bbec24b9c8eebddbfbbef736e",
       "version_major": 2,
       "version_minor": 0
      },
      "text/plain": [
       "Sanity Checking: 0it [00:00, ?it/s]"
      ]
     },
     "metadata": {},
     "output_type": "display_data"
    },
    {
     "data": {
      "application/vnd.jupyter.widget-view+json": {
       "model_id": "456d9a1167714573846802fde15e2290",
       "version_major": 2,
       "version_minor": 0
      },
      "text/plain": [
       "Training: 0it [00:00, ?it/s]"
      ]
     },
     "metadata": {},
     "output_type": "display_data"
    },
    {
     "data": {
      "application/vnd.jupyter.widget-view+json": {
       "model_id": "0123bbfea1c742f8b88fbbdcd4e3ccb6",
       "version_major": 2,
       "version_minor": 0
      },
      "text/plain": [
       "Validation: 0it [00:00, ?it/s]"
      ]
     },
     "metadata": {},
     "output_type": "display_data"
    },
    {
     "data": {
      "application/vnd.jupyter.widget-view+json": {
       "model_id": "119604b9730f4ce7bc2db3ab086eee3d",
       "version_major": 2,
       "version_minor": 0
      },
      "text/plain": [
       "Validation: 0it [00:00, ?it/s]"
      ]
     },
     "metadata": {},
     "output_type": "display_data"
    },
    {
     "data": {
      "application/vnd.jupyter.widget-view+json": {
       "model_id": "1c89098834fe4141a28aa0cd868fd3bd",
       "version_major": 2,
       "version_minor": 0
      },
      "text/plain": [
       "Validation: 0it [00:00, ?it/s]"
      ]
     },
     "metadata": {},
     "output_type": "display_data"
    },
    {
     "data": {
      "application/vnd.jupyter.widget-view+json": {
       "model_id": "033c60c4dcda485da5909cf7317acfe3",
       "version_major": 2,
       "version_minor": 0
      },
      "text/plain": [
       "Validation: 0it [00:00, ?it/s]"
      ]
     },
     "metadata": {},
     "output_type": "display_data"
    },
    {
     "data": {
      "application/vnd.jupyter.widget-view+json": {
       "model_id": "d357179283d04783aa8c7fb7bdc6b2ce",
       "version_major": 2,
       "version_minor": 0
      },
      "text/plain": [
       "Validation: 0it [00:00, ?it/s]"
      ]
     },
     "metadata": {},
     "output_type": "display_data"
    },
    {
     "name": "stderr",
     "output_type": "stream",
     "text": [
      "\u001b[1;38;5;214mCOMET WARNING:\u001b[0m To get all data logged automatically, import comet_ml before the following modules: torch, sklearn.\n",
      "\u001b[1;38;5;39mCOMET INFO:\u001b[0m Please wait for metadata to finish uploading (timeout is 3600 seconds)\n"
     ]
    }
   ],
   "source": [
    "checkpoint = ModelCheckpoint(\n",
    "    monitor=\"valid_loss\", \n",
    "    mode=\"min\",\n",
    "    dirpath=\"logs/\"\n",
    ")\n",
    "\n",
    "comet_logger = CometLogger(\n",
    "    api_key=\"agnHNC2vEt7tOxnnxT4LzYf7Y\",\n",
    "    project_name=\"ts2vec-irregular\",\n",
    "    workspace=\"stalex2902\",\n",
    "    experiment_name=\"CCNN_TS2Vec_churn_check_logs\",\n",
    "    display_summary_level=0,\n",
    ")\n",
    "\n",
    "trainer = Trainer(\n",
    "    max_epochs=5,\n",
    "    accelerator=\"gpu\",\n",
    "    devices=[1],\n",
    "    callbacks=[checkpoint],\n",
    "    logger=comet_logger,\n",
    "    accumulate_grad_batches=4\n",
    ")\n",
    "\n",
    "trainer.fit(model, datamodule)\n",
    "\n",
    "#model.load_state_dict(torch.load(checkpoint.best_model_path)[\"state_dict\"])\n",
    "#torch.save(model.seq_encoder.state_dict(), \"ts2vec_ccnn_churn.pth\")"
   ]
  },
  {
   "cell_type": "code",
   "execution_count": 8,
   "metadata": {},
   "outputs": [
    {
     "data": {
      "text/plain": [
       "<All keys matched successfully>"
      ]
     },
     "execution_count": 8,
     "metadata": {},
     "output_type": "execute_result"
    }
   ],
   "source": [
    "model.seq_encoder.load_state_dict(torch.load(\"ts2vec_ccnn_churn_v2.pth\"))"
   ]
  },
  {
   "cell_type": "markdown",
   "metadata": {},
   "source": [
    "# Evaluation"
   ]
  },
  {
   "cell_type": "code",
   "execution_count": 9,
   "metadata": {},
   "outputs": [
    {
     "name": "stdout",
     "output_type": "stream",
     "text": [
      "Train size: 3961\n",
      "Test size: 443\n"
     ]
    }
   ],
   "source": [
    "train_val_ds = MemoryMapDataset(train + val, [SeqLenFilter(min_seq_len=15)])\n",
    "\n",
    "X_train, y_train = encode_data(model.seq_encoder, train_val_ds)\n",
    "X_test, y_test = encode_data(model.seq_encoder, test_ds)\n",
    "\n",
    "print(\"Train size:\", len(y_train))\n",
    "print(\"Test size:\", len(y_test))"
   ]
  },
  {
   "cell_type": "code",
   "execution_count": 10,
   "metadata": {},
   "outputs": [
    {
     "name": "stderr",
     "output_type": "stream",
     "text": [
      "  0%|          | 0/10 [00:00<?, ?it/s]"
     ]
    },
    {
     "name": "stderr",
     "output_type": "stream",
     "text": [
      "100%|██████████| 10/10 [00:17<00:00,  1.70s/it]\n"
     ]
    }
   ],
   "source": [
    "results = bootstrap_eval(X_train, X_test, y_train, y_test, n_runs=10)"
   ]
  },
  {
   "cell_type": "code",
   "execution_count": 11,
   "metadata": {},
   "outputs": [
    {
     "data": {
      "text/html": [
       "<div>\n",
       "<style scoped>\n",
       "    .dataframe tbody tr th:only-of-type {\n",
       "        vertical-align: middle;\n",
       "    }\n",
       "\n",
       "    .dataframe tbody tr th {\n",
       "        vertical-align: top;\n",
       "    }\n",
       "\n",
       "    .dataframe thead th {\n",
       "        text-align: right;\n",
       "    }\n",
       "</style>\n",
       "<table border=\"1\" class=\"dataframe\">\n",
       "  <thead>\n",
       "    <tr style=\"text-align: right;\">\n",
       "      <th></th>\n",
       "      <th>ROC-AUC</th>\n",
       "      <th>PR-AUC</th>\n",
       "      <th>Accuracy</th>\n",
       "    </tr>\n",
       "  </thead>\n",
       "  <tbody>\n",
       "    <tr>\n",
       "      <th>mean</th>\n",
       "      <td>0.734072</td>\n",
       "      <td>0.796331</td>\n",
       "      <td>0.694357</td>\n",
       "    </tr>\n",
       "    <tr>\n",
       "      <th>std</th>\n",
       "      <td>0.008304</td>\n",
       "      <td>0.007069</td>\n",
       "      <td>0.011954</td>\n",
       "    </tr>\n",
       "  </tbody>\n",
       "</table>\n",
       "</div>"
      ],
      "text/plain": [
       "       ROC-AUC    PR-AUC  Accuracy\n",
       "mean  0.734072  0.796331  0.694357\n",
       "std   0.008304  0.007069  0.011954"
      ]
     },
     "execution_count": 11,
     "metadata": {},
     "output_type": "execute_result"
    }
   ],
   "source": [
    "results.agg([\"mean\", \"std\"])"
   ]
  },
  {
   "cell_type": "code",
   "execution_count": null,
   "metadata": {},
   "outputs": [],
   "source": []
  },
  {
   "cell_type": "code",
   "execution_count": 17,
   "metadata": {},
   "outputs": [
    {
     "data": {
      "text/html": [
       "<div>\n",
       "<style scoped>\n",
       "    .dataframe tbody tr th:only-of-type {\n",
       "        vertical-align: middle;\n",
       "    }\n",
       "\n",
       "    .dataframe tbody tr th {\n",
       "        vertical-align: top;\n",
       "    }\n",
       "\n",
       "    .dataframe thead th {\n",
       "        text-align: right;\n",
       "    }\n",
       "</style>\n",
       "<table border=\"1\" class=\"dataframe\">\n",
       "  <thead>\n",
       "    <tr style=\"text-align: right;\">\n",
       "      <th></th>\n",
       "      <th>ROC-AUC</th>\n",
       "      <th>PR-AUC</th>\n",
       "      <th>Accuracy</th>\n",
       "    </tr>\n",
       "  </thead>\n",
       "  <tbody>\n",
       "    <tr>\n",
       "      <th>0</th>\n",
       "      <td>0.677374</td>\n",
       "      <td>0.737225</td>\n",
       "      <td>0.661400</td>\n",
       "    </tr>\n",
       "    <tr>\n",
       "      <th>1</th>\n",
       "      <td>0.673396</td>\n",
       "      <td>0.727659</td>\n",
       "      <td>0.668172</td>\n",
       "    </tr>\n",
       "    <tr>\n",
       "      <th>2</th>\n",
       "      <td>0.659239</td>\n",
       "      <td>0.718063</td>\n",
       "      <td>0.638826</td>\n",
       "    </tr>\n",
       "    <tr>\n",
       "      <th>3</th>\n",
       "      <td>0.669629</td>\n",
       "      <td>0.726024</td>\n",
       "      <td>0.645598</td>\n",
       "    </tr>\n",
       "    <tr>\n",
       "      <th>4</th>\n",
       "      <td>0.676507</td>\n",
       "      <td>0.739796</td>\n",
       "      <td>0.647856</td>\n",
       "    </tr>\n",
       "    <tr>\n",
       "      <th>5</th>\n",
       "      <td>0.672973</td>\n",
       "      <td>0.734677</td>\n",
       "      <td>0.650113</td>\n",
       "    </tr>\n",
       "    <tr>\n",
       "      <th>6</th>\n",
       "      <td>0.676993</td>\n",
       "      <td>0.742876</td>\n",
       "      <td>0.641084</td>\n",
       "    </tr>\n",
       "    <tr>\n",
       "      <th>7</th>\n",
       "      <td>0.674941</td>\n",
       "      <td>0.741765</td>\n",
       "      <td>0.645598</td>\n",
       "    </tr>\n",
       "    <tr>\n",
       "      <th>8</th>\n",
       "      <td>0.658647</td>\n",
       "      <td>0.717800</td>\n",
       "      <td>0.643341</td>\n",
       "    </tr>\n",
       "    <tr>\n",
       "      <th>9</th>\n",
       "      <td>0.668211</td>\n",
       "      <td>0.739289</td>\n",
       "      <td>0.638826</td>\n",
       "    </tr>\n",
       "  </tbody>\n",
       "</table>\n",
       "</div>"
      ],
      "text/plain": [
       "    ROC-AUC    PR-AUC  Accuracy\n",
       "0  0.677374  0.737225  0.661400\n",
       "1  0.673396  0.727659  0.668172\n",
       "2  0.659239  0.718063  0.638826\n",
       "3  0.669629  0.726024  0.645598\n",
       "4  0.676507  0.739796  0.647856\n",
       "5  0.672973  0.734677  0.650113\n",
       "6  0.676993  0.742876  0.641084\n",
       "7  0.674941  0.741765  0.645598\n",
       "8  0.658647  0.717800  0.643341\n",
       "9  0.668211  0.739289  0.638826"
      ]
     },
     "execution_count": 17,
     "metadata": {},
     "output_type": "execute_result"
    }
   ],
   "source": [
    "results"
   ]
  },
  {
   "cell_type": "code",
   "execution_count": 15,
   "metadata": {},
   "outputs": [
    {
     "data": {
      "text/html": [
       "<div>\n",
       "<style scoped>\n",
       "    .dataframe tbody tr th:only-of-type {\n",
       "        vertical-align: middle;\n",
       "    }\n",
       "\n",
       "    .dataframe tbody tr th {\n",
       "        vertical-align: top;\n",
       "    }\n",
       "\n",
       "    .dataframe thead th {\n",
       "        text-align: right;\n",
       "    }\n",
       "</style>\n",
       "<table border=\"1\" class=\"dataframe\">\n",
       "  <thead>\n",
       "    <tr style=\"text-align: right;\">\n",
       "      <th></th>\n",
       "      <th>ROC-AUC</th>\n",
       "      <th>PR-AUC</th>\n",
       "      <th>Accuracy</th>\n",
       "    </tr>\n",
       "  </thead>\n",
       "  <tbody>\n",
       "    <tr>\n",
       "      <th>mean</th>\n",
       "      <td>0.670791</td>\n",
       "      <td>0.732517</td>\n",
       "      <td>0.648081</td>\n",
       "    </tr>\n",
       "    <tr>\n",
       "      <th>std</th>\n",
       "      <td>0.006930</td>\n",
       "      <td>0.009485</td>\n",
       "      <td>0.009662</td>\n",
       "    </tr>\n",
       "  </tbody>\n",
       "</table>\n",
       "</div>"
      ],
      "text/plain": [
       "       ROC-AUC    PR-AUC  Accuracy\n",
       "mean  0.670791  0.732517  0.648081\n",
       "std   0.006930  0.009485  0.009662"
      ]
     },
     "execution_count": 15,
     "metadata": {},
     "output_type": "execute_result"
    }
   ],
   "source": [
    "results.agg([\"mean\", \"std\"])"
   ]
  }
 ],
 "metadata": {
  "kernelspec": {
   "display_name": "base",
   "language": "python",
   "name": "python3"
  },
  "language_info": {
   "codemirror_mode": {
    "name": "ipython",
    "version": 3
   },
   "file_extension": ".py",
   "mimetype": "text/x-python",
   "name": "python",
   "nbconvert_exporter": "python",
   "pygments_lexer": "ipython3",
   "version": "3.9.16"
  }
 },
 "nbformat": 4,
 "nbformat_minor": 2
}
