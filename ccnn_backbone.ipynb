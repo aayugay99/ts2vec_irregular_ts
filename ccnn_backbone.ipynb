{
 "cells": [
  {
   "cell_type": "code",
   "execution_count": 1,
   "metadata": {},
   "outputs": [
    {
     "name": "stderr",
     "output_type": "stream",
     "text": [
      "comet_ml is installed but `COMET_API_KEY` is not set.\n"
     ]
    }
   ],
   "source": [
    "from functools import partial\n",
    "\n",
    "import pandas as pd\n",
    "import numpy as np\n",
    "\n",
    "from sklearn.model_selection import train_test_split\n",
    "\n",
    "import torch\n",
    "\n",
    "from pytorch_lightning.callbacks import ModelCheckpoint\n",
    "from pytorch_lightning.trainer import Trainer\n",
    "from pytorch_lightning.loggers import CometLogger\n",
    "\n",
    "from ptls.data_load.iterable_processing import SeqLenFilter\n",
    "from ptls.data_load.datasets import MemoryMapDataset\n",
    "from ptls.preprocessing import PandasDataPreprocessor\n",
    "from ptls.frames import PtlsDataModule\n",
    "\n",
    "from nn.trx_encoder import TimeTrxEncoder\n",
    "from nn.seq_encoder import ContConvSeqEncoder\n",
    "\n",
    "from datasets import TS2VecDataset\n",
    "\n",
    "from utils.encode import encode_data\n",
    "from utils.evaluation import bootstrap_eval\n",
    "from utils.preprocessing import CustomDatetimeNormalization"
   ]
  },
  {
   "cell_type": "code",
   "execution_count": 2,
   "metadata": {},
   "outputs": [],
   "source": [
    "from ptls.frames.abs_module import ABSModule\n",
    "from ptls.data_load.padded_batch import PaddedBatch\n",
    "from ptls.nn.head import Head\n",
    "\n",
    "from torchmetrics import MeanMetric\n",
    "\n",
    "from losses.hierarchical_contrastive_loss import HierarchicalContrastiveLoss\n",
    "from modules import take_per_row, mask_input\n",
    "\n",
    "# fixed TS2Vec module for TimeTrxEncoder\n",
    "# TODO: join 2 versions\n",
    "\n",
    "class TS2VecTime(ABSModule):\n",
    "    '''The TS2Vec model'''\n",
    "    def __init__(\n",
    "        self,\n",
    "        seq_encoder,\n",
    "        mask_mode=\"binomial\",\n",
    "        head=None,\n",
    "        loss=None,\n",
    "        validation_metric=None,\n",
    "        optimizer_partial=None,\n",
    "        lr_scheduler_partial=None\n",
    "    ):\n",
    "        ''' Initialize a TS2Vec model.\n",
    "        \n",
    "        Args:\n",
    "        '''\n",
    "        if head is None:\n",
    "            head = Head(use_norm_encoder=True)\n",
    "        \n",
    "        if loss is None:\n",
    "            loss = HierarchicalContrastiveLoss(alpha=0.5, temporal_unit=0)\n",
    "\n",
    "        self.temporal_unit = loss.temporal_unit\n",
    "        self.mask_mode = mask_mode\n",
    "        \n",
    "        super().__init__(validation_metric,\n",
    "                         seq_encoder,\n",
    "                         loss,\n",
    "                         optimizer_partial,\n",
    "                         lr_scheduler_partial)\n",
    "\n",
    "        self._head = head\n",
    "        self.valid_loss = MeanMetric()\n",
    "\n",
    "    def shared_step(self, x, y):\n",
    "        trx_encoder = self._seq_encoder.trx_encoder\n",
    "        seq_encoder = self._seq_encoder.seq_encoder \n",
    "\n",
    "        seq_lens = x.seq_lens\n",
    "        encoder_out = trx_encoder(x).payload\n",
    "\n",
    "        x = encoder_out[\"embeddings\"]\n",
    "        t = encoder_out[\"event_time\"]\n",
    "\n",
    "        ts_l = x.size(1)\n",
    "        crop_l = np.random.randint(low=2 ** (self.temporal_unit + 1), high=ts_l+1)\n",
    "        crop_left = np.random.randint(ts_l - crop_l + 1)\n",
    "        crop_right = crop_left + crop_l\n",
    "        crop_eleft = np.random.randint(crop_left + 1)\n",
    "        crop_eright = np.random.randint(low=crop_right, high=ts_l + 1)\n",
    "        crop_offset = np.random.randint(low=-crop_eleft, high=ts_l - crop_eright + 1, size=x.size(0))\n",
    "\n",
    "        input1 = take_per_row(x, crop_offset + crop_eleft, crop_right - crop_eleft)\n",
    "        input2 = take_per_row(x, crop_offset + crop_left, crop_eright - crop_left)\n",
    "        \n",
    "        t1 = take_per_row(t, crop_offset + crop_eleft, crop_right - crop_eleft)\n",
    "        t2 = take_per_row(t, crop_offset + crop_left, crop_eright - crop_left)\n",
    "        \n",
    "        input1_masked = mask_input(input1, self.mask_mode)\n",
    "        input2_masked = mask_input(input2, self.mask_mode)\n",
    "        \n",
    "        out1 = seq_encoder(PaddedBatch({\"embeddings\": input1_masked, \"event_time\": t1}, seq_lens)).payload\n",
    "        out1 = out1[:, -crop_l:]\n",
    "\n",
    "        out2 = seq_encoder(PaddedBatch({\"embeddings\": input2_masked, \"event_time\": t2}, seq_lens)).payload\n",
    "        out2 = out2[:, :crop_l]\n",
    "        \n",
    "        if self._head is not None:\n",
    "            out1 = self._head(out1)\n",
    "            out2 = self._head(out2)\n",
    "\n",
    "        return (out1, out2), y\n",
    "\n",
    "    def validation_step(self, batch, _):\n",
    "        y_h, y = self.shared_step(*batch)\n",
    "        loss = self._loss(y_h, y)\n",
    "        self.valid_loss(loss)\n",
    "\n",
    "    def validation_epoch_end(self, outputs):\n",
    "        self.log(f'valid_loss', self.valid_loss, prog_bar=True)\n",
    "\n",
    "    @property\n",
    "    def is_requires_reduced_sequence(self):\n",
    "        return False\n",
    "    \n",
    "    @property\n",
    "    def metric_name(self):\n",
    "        return \"valid_loss\""
   ]
  },
  {
   "cell_type": "markdown",
   "metadata": {},
   "source": [
    "# Read and preprocess data"
   ]
  },
  {
   "cell_type": "code",
   "execution_count": 3,
   "metadata": {},
   "outputs": [
    {
     "data": {
      "text/html": [
       "<div>\n",
       "<style scoped>\n",
       "    .dataframe tbody tr th:only-of-type {\n",
       "        vertical-align: middle;\n",
       "    }\n",
       "\n",
       "    .dataframe tbody tr th {\n",
       "        vertical-align: top;\n",
       "    }\n",
       "\n",
       "    .dataframe thead th {\n",
       "        text-align: right;\n",
       "    }\n",
       "</style>\n",
       "<table border=\"1\" class=\"dataframe\">\n",
       "  <thead>\n",
       "    <tr style=\"text-align: right;\">\n",
       "      <th></th>\n",
       "      <th>user_id</th>\n",
       "      <th>mcc_code</th>\n",
       "      <th>amount</th>\n",
       "      <th>timestamp</th>\n",
       "      <th>holiday_target</th>\n",
       "      <th>weekend_target</th>\n",
       "      <th>global_target</th>\n",
       "    </tr>\n",
       "  </thead>\n",
       "  <tbody>\n",
       "    <tr>\n",
       "      <th>0</th>\n",
       "      <td>69</td>\n",
       "      <td>119</td>\n",
       "      <td>-342.89792</td>\n",
       "      <td>2021-03-05 02:52:36</td>\n",
       "      <td>0</td>\n",
       "      <td>0</td>\n",
       "      <td>0</td>\n",
       "    </tr>\n",
       "    <tr>\n",
       "      <th>1</th>\n",
       "      <td>69</td>\n",
       "      <td>118</td>\n",
       "      <td>-1251.88120</td>\n",
       "      <td>2021-03-05 09:43:28</td>\n",
       "      <td>0</td>\n",
       "      <td>0</td>\n",
       "      <td>0</td>\n",
       "    </tr>\n",
       "    <tr>\n",
       "      <th>2</th>\n",
       "      <td>69</td>\n",
       "      <td>106</td>\n",
       "      <td>-87.30924</td>\n",
       "      <td>2021-03-05 11:17:23</td>\n",
       "      <td>0</td>\n",
       "      <td>0</td>\n",
       "      <td>0</td>\n",
       "    </tr>\n",
       "    <tr>\n",
       "      <th>3</th>\n",
       "      <td>69</td>\n",
       "      <td>156</td>\n",
       "      <td>-1822.17700</td>\n",
       "      <td>2021-03-05 13:41:03</td>\n",
       "      <td>0</td>\n",
       "      <td>0</td>\n",
       "      <td>0</td>\n",
       "    </tr>\n",
       "    <tr>\n",
       "      <th>4</th>\n",
       "      <td>69</td>\n",
       "      <td>105</td>\n",
       "      <td>-427.12363</td>\n",
       "      <td>2021-03-05 19:14:23</td>\n",
       "      <td>0</td>\n",
       "      <td>0</td>\n",
       "      <td>0</td>\n",
       "    </tr>\n",
       "  </tbody>\n",
       "</table>\n",
       "</div>"
      ],
      "text/plain": [
       "   user_id  mcc_code      amount           timestamp  holiday_target  \\\n",
       "0       69       119  -342.89792 2021-03-05 02:52:36               0   \n",
       "1       69       118 -1251.88120 2021-03-05 09:43:28               0   \n",
       "2       69       106   -87.30924 2021-03-05 11:17:23               0   \n",
       "3       69       156 -1822.17700 2021-03-05 13:41:03               0   \n",
       "4       69       105  -427.12363 2021-03-05 19:14:23               0   \n",
       "\n",
       "   weekend_target  global_target  \n",
       "0               0              0  \n",
       "1               0              0  \n",
       "2               0              0  \n",
       "3               0              0  \n",
       "4               0              0  "
      ]
     },
     "execution_count": 3,
     "metadata": {},
     "output_type": "execute_result"
    }
   ],
   "source": [
    "df = pd.read_parquet(\"data/preprocessed_new/default.parquet\")\n",
    "df.head()"
   ]
  },
  {
   "cell_type": "code",
   "execution_count": 4,
   "metadata": {},
   "outputs": [
    {
     "data": {
      "text/plain": [
       "(0, 308)"
      ]
     },
     "execution_count": 4,
     "metadata": {},
     "output_type": "execute_result"
    }
   ],
   "source": [
    "df[\"mcc_code\"].min(), df[\"mcc_code\"].max()"
   ]
  },
  {
   "cell_type": "code",
   "execution_count": 5,
   "metadata": {},
   "outputs": [
    {
     "data": {
      "text/plain": [
       "1514769288"
      ]
     },
     "execution_count": 5,
     "metadata": {},
     "output_type": "execute_result"
    }
   ],
   "source": [
    "min_timestamp = int(df[\"timestamp\"].min().timestamp())\n",
    "min_timestamp"
   ]
  },
  {
   "cell_type": "code",
   "execution_count": 6,
   "metadata": {},
   "outputs": [],
   "source": [
    "# normilize times for convolutions\n",
    "min_timestamp = int(df[\"timestamp\"].min().timestamp())\n",
    "\n",
    "time_transformer = CustomDatetimeNormalization(\n",
    "    col_name_original=\"timestamp\",\n",
    "    min_timestamp=min_timestamp,\n",
    "    col_name_target=\"event_time\",\n",
    ")\n",
    "\n",
    "preprocessor = PandasDataPreprocessor(\n",
    "    col_id=\"user_id\",\n",
    "    col_event_time=time_transformer,\n",
    "    cols_category=[\"mcc_code\"],\n",
    "    cols_first_item=[\"global_target\"]\n",
    ")\n",
    "\n",
    "data = preprocessor.fit_transform(df)"
   ]
  },
  {
   "cell_type": "code",
   "execution_count": 8,
   "metadata": {},
   "outputs": [
    {
     "data": {
      "text/plain": [
       "7080"
      ]
     },
     "execution_count": 8,
     "metadata": {},
     "output_type": "execute_result"
    }
   ],
   "source": [
    "global_targets = [item[\"global_target\"] for item in data]\n",
    "len(global_targets)"
   ]
  },
  {
   "cell_type": "code",
   "execution_count": 9,
   "metadata": {},
   "outputs": [],
   "source": [
    "val_size = 0.1\n",
    "test_size = 0.1\n",
    "\n",
    "train, val_test, targets_train, targets_val_test = train_test_split(\n",
    "    data, global_targets, test_size=test_size+val_size, random_state=42, stratify=global_targets\n",
    ")\n",
    "\n",
    "val, test = train_test_split(val_test, test_size=test_size/(test_size+val_size), random_state=42, stratify=targets_val_test)\n",
    "\n",
    "train_ds = TS2VecDataset(train)\n",
    "val_ds = TS2VecDataset(val)\n",
    "test_ds = TS2VecDataset(test)\n",
    "\n",
    "datamodule = PtlsDataModule(\n",
    "    train_data=train_ds,\n",
    "    valid_data=val_ds,\n",
    "    train_batch_size=16,\n",
    "    valid_batch_size=16,\n",
    "    train_num_workers=8,\n",
    "    valid_num_workers=8\n",
    ")"
   ]
  },
  {
   "cell_type": "code",
   "execution_count": 10,
   "metadata": {},
   "outputs": [
    {
     "data": {
      "text/plain": [
       "(0.037076271186440676, 0.03672316384180791)"
      ]
     },
     "execution_count": 10,
     "metadata": {},
     "output_type": "execute_result"
    }
   ],
   "source": [
    "sum(targets_train) / len(targets_train), sum(targets_val_test) / len(targets_val_test)"
   ]
  },
  {
   "cell_type": "code",
   "execution_count": 12,
   "metadata": {},
   "outputs": [
    {
     "name": "stdout",
     "output_type": "stream",
     "text": [
      "Num parameters: 121610\n"
     ]
    }
   ],
   "source": [
    "trx_encoder = TimeTrxEncoder(\n",
    "    use_batch_norm_with_lens=True,\n",
    "    norm_embeddings=False,\n",
    "    embeddings_noise=0.003,\n",
    "    embeddings={\n",
    "        \"mcc_code\": {\"in\": 309, \"out\": 24}\n",
    "    },\n",
    "    numeric_values={\n",
    "        \"amount\": \"identity\"\n",
    "    }\n",
    ")\n",
    "\n",
    "seq_encoder = ContConvSeqEncoder(\n",
    "        trx_encoder,\n",
    "        is_reduce_sequence=False,\n",
    "        kernel_hiddens=[8, 16, 8],\n",
    "        hidden_size=32,\n",
    "        num_layers=10,\n",
    "        kernel_size=5,\n",
    "        dropout=0.1,\n",
    "    )\n",
    "\n",
    "num_params = sum([p.numel() for p in seq_encoder.parameters()])\n",
    "print(\"Num parameters:\", num_params)"
   ]
  },
  {
   "cell_type": "code",
   "execution_count": 13,
   "metadata": {},
   "outputs": [],
   "source": [
    "lr_scheduler_partial = partial(torch.optim.lr_scheduler.ReduceLROnPlateau, factor=.9025, patience=5, mode=\"min\")\n",
    "optimizer_partial = partial(torch.optim.Adam, lr=1e-3)\n",
    "\n",
    "model = TS2VecTime(\n",
    "    seq_encoder,\n",
    "    optimizer_partial=optimizer_partial,\n",
    "    lr_scheduler_partial=lr_scheduler_partial\n",
    ")"
   ]
  },
  {
   "cell_type": "code",
   "execution_count": null,
   "metadata": {},
   "outputs": [],
   "source": [
    "checkpoint = ModelCheckpoint(\n",
    "    monitor=\"valid_loss\", \n",
    "    mode=\"min\"\n",
    ")\n",
    "\n",
    "comet_logger = CometLogger(\n",
    "    api_key=\"agnHNC2vEt7tOxnnxT4LzYf7Y\",\n",
    "    project_name=\"ts2vec-irregular\",\n",
    "    workspace=\"stalex2902\",\n",
    "    experiment_name=\"CCNN_TS2Vec_default_check\",\n",
    "    display_summary_level=0,\n",
    ")\n",
    "\n",
    "trainer = Trainer(\n",
    "    max_epochs=5,\n",
    "    accelerator=\"gpu\",\n",
    "    devices=[1],\n",
    "    callbacks=[checkpoint],\n",
    "    logger=comet_logger,\n",
    "    accumulate_grad_batches=4\n",
    ")\n",
    "\n",
    "trainer.fit(model, datamodule)\n",
    "\n",
    "model.load_state_dict(torch.load(checkpoint.best_model_path)[\"state_dict\"])\n",
    "torch.save(model.seq_encoder.state_dict(), \"ts2vec_ccnn_default.pth\")"
   ]
  },
  {
   "cell_type": "code",
   "execution_count": 15,
   "metadata": {},
   "outputs": [
    {
     "data": {
      "text/plain": [
       "<All keys matched successfully>"
      ]
     },
     "execution_count": 15,
     "metadata": {},
     "output_type": "execute_result"
    }
   ],
   "source": [
    "model.seq_encoder.load_state_dict(torch.load(\"checkpoints/default/ts2vec_ccnn/ts2vec_ccnn_default.pth\"))"
   ]
  },
  {
   "cell_type": "markdown",
   "metadata": {},
   "source": [
    "# Evaluation"
   ]
  },
  {
   "cell_type": "code",
   "execution_count": 16,
   "metadata": {},
   "outputs": [
    {
     "name": "stdout",
     "output_type": "stream",
     "text": [
      "Train size: 6372\n",
      "Test size: 708\n"
     ]
    }
   ],
   "source": [
    "train_val_ds = MemoryMapDataset(train + val, [SeqLenFilter(min_seq_len=25)])\n",
    "\n",
    "X_train, y_train = encode_data(model.seq_encoder, train_val_ds)\n",
    "X_test, y_test = encode_data(model.seq_encoder, test_ds)\n",
    "\n",
    "print(\"Train size:\", len(y_train))\n",
    "print(\"Test size:\", len(y_test))"
   ]
  },
  {
   "cell_type": "code",
   "execution_count": 17,
   "metadata": {},
   "outputs": [
    {
     "name": "stderr",
     "output_type": "stream",
     "text": [
      "100%|██████████| 10/10 [00:05<00:00,  1.75it/s]\n"
     ]
    },
    {
     "data": {
      "text/html": [
       "<div>\n",
       "<style scoped>\n",
       "    .dataframe tbody tr th:only-of-type {\n",
       "        vertical-align: middle;\n",
       "    }\n",
       "\n",
       "    .dataframe tbody tr th {\n",
       "        vertical-align: top;\n",
       "    }\n",
       "\n",
       "    .dataframe thead th {\n",
       "        text-align: right;\n",
       "    }\n",
       "</style>\n",
       "<table border=\"1\" class=\"dataframe\">\n",
       "  <thead>\n",
       "    <tr style=\"text-align: right;\">\n",
       "      <th></th>\n",
       "      <th>ROC-AUC</th>\n",
       "      <th>PR-AUC</th>\n",
       "      <th>Accuracy</th>\n",
       "    </tr>\n",
       "  </thead>\n",
       "  <tbody>\n",
       "    <tr>\n",
       "      <th>0</th>\n",
       "      <td>0.513366</td>\n",
       "      <td>0.043722</td>\n",
       "      <td>0.963277</td>\n",
       "    </tr>\n",
       "    <tr>\n",
       "      <th>1</th>\n",
       "      <td>0.575118</td>\n",
       "      <td>0.050933</td>\n",
       "      <td>0.963277</td>\n",
       "    </tr>\n",
       "    <tr>\n",
       "      <th>2</th>\n",
       "      <td>0.571340</td>\n",
       "      <td>0.053073</td>\n",
       "      <td>0.963277</td>\n",
       "    </tr>\n",
       "    <tr>\n",
       "      <th>3</th>\n",
       "      <td>0.557918</td>\n",
       "      <td>0.056636</td>\n",
       "      <td>0.963277</td>\n",
       "    </tr>\n",
       "    <tr>\n",
       "      <th>4</th>\n",
       "      <td>0.574554</td>\n",
       "      <td>0.051469</td>\n",
       "      <td>0.963277</td>\n",
       "    </tr>\n",
       "    <tr>\n",
       "      <th>5</th>\n",
       "      <td>0.558820</td>\n",
       "      <td>0.046525</td>\n",
       "      <td>0.963277</td>\n",
       "    </tr>\n",
       "    <tr>\n",
       "      <th>6</th>\n",
       "      <td>0.503158</td>\n",
       "      <td>0.058105</td>\n",
       "      <td>0.963277</td>\n",
       "    </tr>\n",
       "    <tr>\n",
       "      <th>7</th>\n",
       "      <td>0.625818</td>\n",
       "      <td>0.062856</td>\n",
       "      <td>0.963277</td>\n",
       "    </tr>\n",
       "    <tr>\n",
       "      <th>8</th>\n",
       "      <td>0.546413</td>\n",
       "      <td>0.059156</td>\n",
       "      <td>0.963277</td>\n",
       "    </tr>\n",
       "    <tr>\n",
       "      <th>9</th>\n",
       "      <td>0.555436</td>\n",
       "      <td>0.068872</td>\n",
       "      <td>0.963277</td>\n",
       "    </tr>\n",
       "  </tbody>\n",
       "</table>\n",
       "</div>"
      ],
      "text/plain": [
       "    ROC-AUC    PR-AUC  Accuracy\n",
       "0  0.513366  0.043722  0.963277\n",
       "1  0.575118  0.050933  0.963277\n",
       "2  0.571340  0.053073  0.963277\n",
       "3  0.557918  0.056636  0.963277\n",
       "4  0.574554  0.051469  0.963277\n",
       "5  0.558820  0.046525  0.963277\n",
       "6  0.503158  0.058105  0.963277\n",
       "7  0.625818  0.062856  0.963277\n",
       "8  0.546413  0.059156  0.963277\n",
       "9  0.555436  0.068872  0.963277"
      ]
     },
     "execution_count": 17,
     "metadata": {},
     "output_type": "execute_result"
    }
   ],
   "source": [
    "results = bootstrap_eval(X_train, X_test, y_train, y_test, n_runs=10)\n",
    "results"
   ]
  },
  {
   "cell_type": "code",
   "execution_count": 18,
   "metadata": {},
   "outputs": [
    {
     "data": {
      "text/html": [
       "<div>\n",
       "<style scoped>\n",
       "    .dataframe tbody tr th:only-of-type {\n",
       "        vertical-align: middle;\n",
       "    }\n",
       "\n",
       "    .dataframe tbody tr th {\n",
       "        vertical-align: top;\n",
       "    }\n",
       "\n",
       "    .dataframe thead th {\n",
       "        text-align: right;\n",
       "    }\n",
       "</style>\n",
       "<table border=\"1\" class=\"dataframe\">\n",
       "  <thead>\n",
       "    <tr style=\"text-align: right;\">\n",
       "      <th></th>\n",
       "      <th>ROC-AUC</th>\n",
       "      <th>PR-AUC</th>\n",
       "      <th>Accuracy</th>\n",
       "    </tr>\n",
       "  </thead>\n",
       "  <tbody>\n",
       "    <tr>\n",
       "      <th>mean</th>\n",
       "      <td>0.558194</td>\n",
       "      <td>0.055135</td>\n",
       "      <td>0.963277</td>\n",
       "    </tr>\n",
       "    <tr>\n",
       "      <th>std</th>\n",
       "      <td>0.034133</td>\n",
       "      <td>0.007567</td>\n",
       "      <td>0.000000</td>\n",
       "    </tr>\n",
       "  </tbody>\n",
       "</table>\n",
       "</div>"
      ],
      "text/plain": [
       "       ROC-AUC    PR-AUC  Accuracy\n",
       "mean  0.558194  0.055135  0.963277\n",
       "std   0.034133  0.007567  0.000000"
      ]
     },
     "execution_count": 18,
     "metadata": {},
     "output_type": "execute_result"
    }
   ],
   "source": [
    "results.agg([\"mean\", \"std\"])"
   ]
  }
 ],
 "metadata": {
  "kernelspec": {
   "display_name": "base",
   "language": "python",
   "name": "python3"
  },
  "language_info": {
   "codemirror_mode": {
    "name": "ipython",
    "version": 3
   },
   "file_extension": ".py",
   "mimetype": "text/x-python",
   "name": "python",
   "nbconvert_exporter": "python",
   "pygments_lexer": "ipython3",
   "version": "3.9.16"
  }
 },
 "nbformat": 4,
 "nbformat_minor": 2
}
